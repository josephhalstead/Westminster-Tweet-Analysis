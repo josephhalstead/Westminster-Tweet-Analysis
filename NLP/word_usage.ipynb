{
 "cells": [
  {
   "cell_type": "markdown",
   "metadata": {},
   "source": [
    "# Natural Language Processing - Language Use\n",
    "\n",
    "A notebook looking at word use differences between political parties.\n",
    "\n",
    "Going to compare the word frequencies of the two main political party's tweets."
   ]
  },
  {
   "cell_type": "code",
   "execution_count": 93,
   "metadata": {
    "collapsed": true
   },
   "outputs": [],
   "source": [
    "import pandas as pd\n",
    "import nltk\n",
    "from nltk.corpus import stopwords\n",
    "from nltk.tokenize import word_tokenize\n",
    "from nltk.stem.snowball import SnowballStemmer\n",
    "import string\n",
    "import re\n",
    "import pickle"
   ]
  },
  {
   "cell_type": "code",
   "execution_count": 94,
   "metadata": {
    "collapsed": true
   },
   "outputs": [],
   "source": [
    "df = pd.read_csv('../data/processed_tweets.csv')"
   ]
  },
  {
   "cell_type": "code",
   "execution_count": 95,
   "metadata": {
    "collapsed": false
   },
   "outputs": [],
   "source": [
    "df.drop('Unnamed: 0', axis=1, inplace=True)"
   ]
  },
  {
   "cell_type": "code",
   "execution_count": 96,
   "metadata": {
    "collapsed": false
   },
   "outputs": [
    {
     "data": {
      "text/html": [
       "<div>\n",
       "<style scoped>\n",
       "    .dataframe tbody tr th:only-of-type {\n",
       "        vertical-align: middle;\n",
       "    }\n",
       "\n",
       "    .dataframe tbody tr th {\n",
       "        vertical-align: top;\n",
       "    }\n",
       "\n",
       "    .dataframe thead th {\n",
       "        text-align: right;\n",
       "    }\n",
       "</style>\n",
       "<table border=\"1\" class=\"dataframe\">\n",
       "  <thead>\n",
       "    <tr style=\"text-align: right;\">\n",
       "      <th></th>\n",
       "      <th>user_name</th>\n",
       "      <th>constituency</th>\n",
       "      <th>party</th>\n",
       "      <th>gender</th>\n",
       "      <th>tweet_id</th>\n",
       "      <th>permalink</th>\n",
       "      <th>text</th>\n",
       "      <th>date</th>\n",
       "      <th>retweets</th>\n",
       "      <th>favourites</th>\n",
       "      <th>replies</th>\n",
       "      <th>party_new</th>\n",
       "    </tr>\n",
       "  </thead>\n",
       "  <tbody>\n",
       "    <tr>\n",
       "      <th>0</th>\n",
       "      <td>skinnock</td>\n",
       "      <td>Aberavon</td>\n",
       "      <td>Labour</td>\n",
       "      <td>Male</td>\n",
       "      <td>947017416047058944</td>\n",
       "      <td>https://twitter.com/SKinnock/status/9470174160...</td>\n",
       "      <td>Devastating resignation letter from Andrew Ado...</td>\n",
       "      <td>2017-12-30 08:12:01</td>\n",
       "      <td>17</td>\n",
       "      <td>43</td>\n",
       "      <td>11</td>\n",
       "      <td>Labour</td>\n",
       "    </tr>\n",
       "    <tr>\n",
       "      <th>1</th>\n",
       "      <td>skinnock</td>\n",
       "      <td>Aberavon</td>\n",
       "      <td>Labour</td>\n",
       "      <td>Male</td>\n",
       "      <td>944285195372548097</td>\n",
       "      <td>https://twitter.com/SKinnock/status/9442851953...</td>\n",
       "      <td>The gov need to act to allow more flexibility ...</td>\n",
       "      <td>2017-12-22 19:15:09</td>\n",
       "      <td>2</td>\n",
       "      <td>5</td>\n",
       "      <td>2</td>\n",
       "      <td>Labour</td>\n",
       "    </tr>\n",
       "    <tr>\n",
       "      <th>2</th>\n",
       "      <td>skinnock</td>\n",
       "      <td>Aberavon</td>\n",
       "      <td>Labour</td>\n",
       "      <td>Male</td>\n",
       "      <td>943841995390423040</td>\n",
       "      <td>https://twitter.com/SKinnock/status/9438419953...</td>\n",
       "      <td>Here are the fabled sector analyses. Damp squi...</td>\n",
       "      <td>2017-12-21 13:54:02</td>\n",
       "      <td>21</td>\n",
       "      <td>29</td>\n",
       "      <td>8</td>\n",
       "      <td>Labour</td>\n",
       "    </tr>\n",
       "    <tr>\n",
       "      <th>3</th>\n",
       "      <td>skinnock</td>\n",
       "      <td>Aberavon</td>\n",
       "      <td>Labour</td>\n",
       "      <td>Male</td>\n",
       "      <td>943595206225559552</td>\n",
       "      <td>https://twitter.com/SKinnock/status/9435952062...</td>\n",
       "      <td>Fallon, Patel and now Green. Three strikes and...</td>\n",
       "      <td>2017-12-20 21:33:22</td>\n",
       "      <td>7</td>\n",
       "      <td>31</td>\n",
       "      <td>5</td>\n",
       "      <td>Labour</td>\n",
       "    </tr>\n",
       "    <tr>\n",
       "      <th>4</th>\n",
       "      <td>skinnock</td>\n",
       "      <td>Aberavon</td>\n",
       "      <td>Labour</td>\n",
       "      <td>Male</td>\n",
       "      <td>943552279189258245</td>\n",
       "      <td>https://twitter.com/SKinnock/status/9435522791...</td>\n",
       "      <td>Waiting to hear from @DavidGauke re my concern...</td>\n",
       "      <td>2017-12-20 18:42:48</td>\n",
       "      <td>3</td>\n",
       "      <td>1</td>\n",
       "      <td>1</td>\n",
       "      <td>Labour</td>\n",
       "    </tr>\n",
       "  </tbody>\n",
       "</table>\n",
       "</div>"
      ],
      "text/plain": [
       "  user_name constituency   party gender            tweet_id  \\\n",
       "0  skinnock     Aberavon  Labour   Male  947017416047058944   \n",
       "1  skinnock     Aberavon  Labour   Male  944285195372548097   \n",
       "2  skinnock     Aberavon  Labour   Male  943841995390423040   \n",
       "3  skinnock     Aberavon  Labour   Male  943595206225559552   \n",
       "4  skinnock     Aberavon  Labour   Male  943552279189258245   \n",
       "\n",
       "                                           permalink  \\\n",
       "0  https://twitter.com/SKinnock/status/9470174160...   \n",
       "1  https://twitter.com/SKinnock/status/9442851953...   \n",
       "2  https://twitter.com/SKinnock/status/9438419953...   \n",
       "3  https://twitter.com/SKinnock/status/9435952062...   \n",
       "4  https://twitter.com/SKinnock/status/9435522791...   \n",
       "\n",
       "                                                text                 date  \\\n",
       "0  Devastating resignation letter from Andrew Ado...  2017-12-30 08:12:01   \n",
       "1  The gov need to act to allow more flexibility ...  2017-12-22 19:15:09   \n",
       "2  Here are the fabled sector analyses. Damp squi...  2017-12-21 13:54:02   \n",
       "3  Fallon, Patel and now Green. Three strikes and...  2017-12-20 21:33:22   \n",
       "4  Waiting to hear from @DavidGauke re my concern...  2017-12-20 18:42:48   \n",
       "\n",
       "   retweets  favourites  replies party_new  \n",
       "0        17          43       11    Labour  \n",
       "1         2           5        2    Labour  \n",
       "2        21          29        8    Labour  \n",
       "3         7          31        5    Labour  \n",
       "4         3           1        1    Labour  "
      ]
     },
     "execution_count": 96,
     "metadata": {},
     "output_type": "execute_result"
    }
   ],
   "source": [
    "df.head()"
   ]
  },
  {
   "cell_type": "code",
   "execution_count": 97,
   "metadata": {
    "collapsed": false
   },
   "outputs": [
    {
     "data": {
      "text/plain": [
       "False    2716793\n",
       "True        1210\n",
       "Name: text, dtype: int64"
      ]
     },
     "execution_count": 97,
     "metadata": {},
     "output_type": "execute_result"
    }
   ],
   "source": [
    "df[['text']].isna()['text'].value_counts()"
   ]
  },
  {
   "cell_type": "code",
   "execution_count": 98,
   "metadata": {
    "collapsed": false
   },
   "outputs": [],
   "source": [
    "# Remove null text tweets\n",
    "\n",
    "df = df[pd.notna(df['text']) == True]"
   ]
  },
  {
   "cell_type": "code",
   "execution_count": 99,
   "metadata": {
    "collapsed": false
   },
   "outputs": [],
   "source": [
    "#Process text - this takes a while\n",
    "\n",
    "stop_words = stopwords.words('english')\n",
    "\n",
    "stop_words = stop_words\n",
    "\n",
    "punc = list(string.punctuation) + ['...','``',\"''\",\"'m\", \"'s\",'rt',\"'ve\", 'it', 'i']+stop_words\n",
    "\n",
    "def process_text(row, stem=False):\n",
    "    \"\"\"\n",
    "    Remove URLs, mentions, hashtags\n",
    "    \n",
    "    Remove stop words\n",
    "    \n",
    "    Remove punctuation\n",
    "    \n",
    "    \"\"\"\n",
    "    string = row['text'] \n",
    "    \n",
    "    \n",
    "    string = re.sub(r'(http|pic.).*$', '', string)\n",
    "    string = re.sub(r'@\\S*\\b', '', string)\n",
    "    string = re.sub(r'#', '', string)       \n",
    "\n",
    "    string = string.lower()\n",
    "\n",
    "    words = string.split()\n",
    "    \n",
    "    words = [word for word in words if word not in stop_words]\n",
    "    \n",
    "    string = ' '.join(words)\n",
    "    \n",
    "    words = word_tokenize(string)\n",
    "    \n",
    "    words = [word for word in words if word not in punc]\n",
    "    \n",
    "    if stem == True:\n",
    "        \n",
    "        words = [SnowballStemmer(\"english\").stem(word) for word in words]\n",
    "    \n",
    "    return ' '.join(words)\n",
    "    "
   ]
  },
  {
   "cell_type": "code",
   "execution_count": 100,
   "metadata": {
    "collapsed": false
   },
   "outputs": [],
   "source": [
    "test = {'text': \"The quick brown fox doesn't jump over the lazy dogs! dog's\" }"
   ]
  },
  {
   "cell_type": "code",
   "execution_count": 101,
   "metadata": {
    "collapsed": false
   },
   "outputs": [
    {
     "data": {
      "text/plain": [
       "'quick brown fox jump lazy dogs dog'"
      ]
     },
     "execution_count": 101,
     "metadata": {},
     "output_type": "execute_result"
    }
   ],
   "source": [
    "process_text(test)"
   ]
  },
  {
   "cell_type": "code",
   "execution_count": 102,
   "metadata": {
    "collapsed": false
   },
   "outputs": [],
   "source": [
    "df['processed_text'] = df.apply(process_text, axis=1)"
   ]
  },
  {
   "cell_type": "code",
   "execution_count": 103,
   "metadata": {
    "collapsed": false
   },
   "outputs": [
    {
     "data": {
      "text/html": [
       "<div>\n",
       "<style scoped>\n",
       "    .dataframe tbody tr th:only-of-type {\n",
       "        vertical-align: middle;\n",
       "    }\n",
       "\n",
       "    .dataframe tbody tr th {\n",
       "        vertical-align: top;\n",
       "    }\n",
       "\n",
       "    .dataframe thead th {\n",
       "        text-align: right;\n",
       "    }\n",
       "</style>\n",
       "<table border=\"1\" class=\"dataframe\">\n",
       "  <thead>\n",
       "    <tr style=\"text-align: right;\">\n",
       "      <th></th>\n",
       "      <th>user_name</th>\n",
       "      <th>constituency</th>\n",
       "      <th>party</th>\n",
       "      <th>gender</th>\n",
       "      <th>tweet_id</th>\n",
       "      <th>permalink</th>\n",
       "      <th>text</th>\n",
       "      <th>date</th>\n",
       "      <th>retweets</th>\n",
       "      <th>favourites</th>\n",
       "      <th>replies</th>\n",
       "      <th>party_new</th>\n",
       "      <th>processed_text</th>\n",
       "    </tr>\n",
       "  </thead>\n",
       "  <tbody>\n",
       "    <tr>\n",
       "      <th>0</th>\n",
       "      <td>skinnock</td>\n",
       "      <td>Aberavon</td>\n",
       "      <td>Labour</td>\n",
       "      <td>Male</td>\n",
       "      <td>947017416047058944</td>\n",
       "      <td>https://twitter.com/SKinnock/status/9470174160...</td>\n",
       "      <td>Devastating resignation letter from Andrew Ado...</td>\n",
       "      <td>2017-12-30 08:12:01</td>\n",
       "      <td>17</td>\n",
       "      <td>43</td>\n",
       "      <td>11</td>\n",
       "      <td>Labour</td>\n",
       "      <td>devastating resignation letter andrew adonis r...</td>\n",
       "    </tr>\n",
       "    <tr>\n",
       "      <th>1</th>\n",
       "      <td>skinnock</td>\n",
       "      <td>Aberavon</td>\n",
       "      <td>Labour</td>\n",
       "      <td>Male</td>\n",
       "      <td>944285195372548097</td>\n",
       "      <td>https://twitter.com/SKinnock/status/9442851953...</td>\n",
       "      <td>The gov need to act to allow more flexibility ...</td>\n",
       "      <td>2017-12-22 19:15:09</td>\n",
       "      <td>2</td>\n",
       "      <td>5</td>\n",
       "      <td>2</td>\n",
       "      <td>Labour</td>\n",
       "      <td>gov need act allow flexibility give bsps trust...</td>\n",
       "    </tr>\n",
       "    <tr>\n",
       "      <th>2</th>\n",
       "      <td>skinnock</td>\n",
       "      <td>Aberavon</td>\n",
       "      <td>Labour</td>\n",
       "      <td>Male</td>\n",
       "      <td>943841995390423040</td>\n",
       "      <td>https://twitter.com/SKinnock/status/9438419953...</td>\n",
       "      <td>Here are the fabled sector analyses. Damp squi...</td>\n",
       "      <td>2017-12-21 13:54:02</td>\n",
       "      <td>21</td>\n",
       "      <td>29</td>\n",
       "      <td>8</td>\n",
       "      <td>Labour</td>\n",
       "      <td>fabled sector analyses damp squib idea cld giv...</td>\n",
       "    </tr>\n",
       "    <tr>\n",
       "      <th>3</th>\n",
       "      <td>skinnock</td>\n",
       "      <td>Aberavon</td>\n",
       "      <td>Labour</td>\n",
       "      <td>Male</td>\n",
       "      <td>943595206225559552</td>\n",
       "      <td>https://twitter.com/SKinnock/status/9435952062...</td>\n",
       "      <td>Fallon, Patel and now Green. Three strikes and...</td>\n",
       "      <td>2017-12-20 21:33:22</td>\n",
       "      <td>7</td>\n",
       "      <td>31</td>\n",
       "      <td>5</td>\n",
       "      <td>Labour</td>\n",
       "      <td>fallon patel green three strikes you’re theresa</td>\n",
       "    </tr>\n",
       "    <tr>\n",
       "      <th>4</th>\n",
       "      <td>skinnock</td>\n",
       "      <td>Aberavon</td>\n",
       "      <td>Labour</td>\n",
       "      <td>Male</td>\n",
       "      <td>943552279189258245</td>\n",
       "      <td>https://twitter.com/SKinnock/status/9435522791...</td>\n",
       "      <td>Waiting to hear from @DavidGauke re my concern...</td>\n",
       "      <td>2017-12-20 18:42:48</td>\n",
       "      <td>3</td>\n",
       "      <td>1</td>\n",
       "      <td>1</td>\n",
       "      <td>Labour</td>\n",
       "      <td>waiting hear concerns abt bsps transfer defaul...</td>\n",
       "    </tr>\n",
       "  </tbody>\n",
       "</table>\n",
       "</div>"
      ],
      "text/plain": [
       "  user_name constituency   party gender            tweet_id  \\\n",
       "0  skinnock     Aberavon  Labour   Male  947017416047058944   \n",
       "1  skinnock     Aberavon  Labour   Male  944285195372548097   \n",
       "2  skinnock     Aberavon  Labour   Male  943841995390423040   \n",
       "3  skinnock     Aberavon  Labour   Male  943595206225559552   \n",
       "4  skinnock     Aberavon  Labour   Male  943552279189258245   \n",
       "\n",
       "                                           permalink  \\\n",
       "0  https://twitter.com/SKinnock/status/9470174160...   \n",
       "1  https://twitter.com/SKinnock/status/9442851953...   \n",
       "2  https://twitter.com/SKinnock/status/9438419953...   \n",
       "3  https://twitter.com/SKinnock/status/9435952062...   \n",
       "4  https://twitter.com/SKinnock/status/9435522791...   \n",
       "\n",
       "                                                text                 date  \\\n",
       "0  Devastating resignation letter from Andrew Ado...  2017-12-30 08:12:01   \n",
       "1  The gov need to act to allow more flexibility ...  2017-12-22 19:15:09   \n",
       "2  Here are the fabled sector analyses. Damp squi...  2017-12-21 13:54:02   \n",
       "3  Fallon, Patel and now Green. Three strikes and...  2017-12-20 21:33:22   \n",
       "4  Waiting to hear from @DavidGauke re my concern...  2017-12-20 18:42:48   \n",
       "\n",
       "   retweets  favourites  replies party_new  \\\n",
       "0        17          43       11    Labour   \n",
       "1         2           5        2    Labour   \n",
       "2        21          29        8    Labour   \n",
       "3         7          31        5    Labour   \n",
       "4         3           1        1    Labour   \n",
       "\n",
       "                                      processed_text  \n",
       "0  devastating resignation letter andrew adonis r...  \n",
       "1  gov need act allow flexibility give bsps trust...  \n",
       "2  fabled sector analyses damp squib idea cld giv...  \n",
       "3    fallon patel green three strikes you’re theresa  \n",
       "4  waiting hear concerns abt bsps transfer defaul...  "
      ]
     },
     "execution_count": 103,
     "metadata": {},
     "output_type": "execute_result"
    }
   ],
   "source": [
    "df.head()"
   ]
  },
  {
   "cell_type": "code",
   "execution_count": 104,
   "metadata": {
    "collapsed": false
   },
   "outputs": [
    {
     "name": "stdout",
     "output_type": "stream",
     "text": [
      "Done\n"
     ]
    }
   ],
   "source": [
    "# Split into two dataframes based on party\n",
    "\n",
    "labour_df = df[df['party_new'] == 'Labour']\n",
    "\n",
    "conservative_df = df[df['party_new'] == 'Conservative']\n",
    "\n",
    "print ('Done')"
   ]
  },
  {
   "cell_type": "code",
   "execution_count": 105,
   "metadata": {
    "collapsed": false
   },
   "outputs": [],
   "source": [
    "# Loop through the dataframe and make an ultra long list of all the words - Conservative\n",
    "\n",
    "conservative_corpus = []\n",
    "\n",
    "for index, row in conservative_df.iterrows():\n",
    "    \n",
    "    text = row['processed_text']\n",
    "    \n",
    "    conservative_corpus.extend(word_tokenize(text))"
   ]
  },
  {
   "cell_type": "code",
   "execution_count": 106,
   "metadata": {
    "collapsed": true
   },
   "outputs": [],
   "source": [
    "# Loop through the dataframe and make an ultra long list of all the words - Labour\n",
    "\n",
    "labour_corpus = []\n",
    "\n",
    "for index, row in labour_df.iterrows():\n",
    "    \n",
    "    text = row['processed_text']\n",
    "    \n",
    "    labour_corpus.extend(word_tokenize(text))"
   ]
  },
  {
   "cell_type": "code",
   "execution_count": 107,
   "metadata": {
    "collapsed": false
   },
   "outputs": [],
   "source": [
    "conservative_freq = nltk.FreqDist(conservative_corpus)\n",
    "labour_freq = nltk.FreqDist(labour_corpus)"
   ]
  },
  {
   "cell_type": "code",
   "execution_count": 108,
   "metadata": {
    "collapsed": false
   },
   "outputs": [],
   "source": [
    "pickle.dump(conservative_freq, open('conservative_corpus.p', 'wb' ))\n",
    "pickle.dump(labour_freq, open('labour_corpus.p', 'wb' ))"
   ]
  },
  {
   "cell_type": "code",
   "execution_count": 109,
   "metadata": {
    "collapsed": false
   },
   "outputs": [
    {
     "data": {
      "text/plain": [
       "[('great', 56017),\n",
       " ('today', 48220),\n",
       " ('good', 42594),\n",
       " ('new', 33392),\n",
       " ('thanks', 32653),\n",
       " ('see', 30371),\n",
       " ('people', 24703),\n",
       " ('thank', 23589),\n",
       " ('uk', 22369),\n",
       " ('local', 22190),\n",
       " ('day', 21859),\n",
       " ('labour', 21549),\n",
       " ('work', 20660),\n",
       " ('support', 20597),\n",
       " ('well', 20508),\n",
       " ('meeting', 20024),\n",
       " ('get', 18908),\n",
       " ('news', 18608),\n",
       " ('would', 18271),\n",
       " ('morning', 18169),\n",
       " ('one', 17873),\n",
       " ('time', 17414),\n",
       " ('last', 16899),\n",
       " ('eu', 16839),\n",
       " ('mp', 15060),\n",
       " ('need', 14451),\n",
       " ('like', 13974),\n",
       " ('many', 13947),\n",
       " ('year', 13935),\n",
       " ('please', 13900),\n",
       " ('help', 13777),\n",
       " ('back', 13640),\n",
       " ('looking', 13482),\n",
       " ('done', 13465),\n",
       " ('forward', 13253),\n",
       " ('debate', 13031),\n",
       " ('vote', 12967),\n",
       " ('week', 12799),\n",
       " ('parliament', 12143),\n",
       " ('really', 11899),\n",
       " ('think', 11853),\n",
       " ('much', 11783),\n",
       " ('team', 11557),\n",
       " ('email', 11499),\n",
       " ('know', 11493),\n",
       " ('business', 11419),\n",
       " ('first', 11140),\n",
       " ('visit', 11053),\n",
       " ('best', 11025),\n",
       " ('meet', 10917)]"
      ]
     },
     "execution_count": 109,
     "metadata": {},
     "output_type": "execute_result"
    }
   ],
   "source": [
    "# Most common Conservative words\n",
    "\n",
    "conservative_freq.most_common(50)"
   ]
  },
  {
   "cell_type": "code",
   "execution_count": 110,
   "metadata": {
    "collapsed": false
   },
   "outputs": [
    {
     "data": {
      "text/plain": [
       "[('great', 81864),\n",
       " ('thanks', 80816),\n",
       " ('labour', 73910),\n",
       " ('today', 71024),\n",
       " ('good', 67293),\n",
       " ('people', 56127),\n",
       " ('see', 47245),\n",
       " ('get', 44510),\n",
       " ('new', 42177),\n",
       " ('well', 40316),\n",
       " ('support', 38808),\n",
       " ('one', 37791),\n",
       " ('time', 36486),\n",
       " ('day', 35541),\n",
       " ('think', 35344),\n",
       " ('thank', 34985),\n",
       " ('need', 34104),\n",
       " ('like', 33975),\n",
       " ('tory', 33774),\n",
       " ('work', 33611),\n",
       " ('would', 33215),\n",
       " ('know', 31931),\n",
       " ('govt', 30270),\n",
       " ('yes', 28917),\n",
       " ('tories', 28745),\n",
       " ('really', 27788),\n",
       " ('vote', 27226),\n",
       " ('back', 27027),\n",
       " ('last', 26943),\n",
       " ('local', 26199),\n",
       " ('us', 26153),\n",
       " ('debate', 25797),\n",
       " ('campaign', 25339),\n",
       " ('hope', 25245),\n",
       " ('many', 24961),\n",
       " ('nhs', 24852),\n",
       " ('done', 24483),\n",
       " ('government', 24337),\n",
       " ('mp', 24243),\n",
       " ('uk', 24038),\n",
       " (\"'ll\", 23893),\n",
       " ('help', 23682),\n",
       " ('much', 23617),\n",
       " (\"n't\", 23356),\n",
       " ('party', 23068),\n",
       " ('please', 22493),\n",
       " ('make', 22267),\n",
       " ('morning', 21658),\n",
       " ('meeting', 21590),\n",
       " ('right', 21505)]"
      ]
     },
     "execution_count": 110,
     "metadata": {},
     "output_type": "execute_result"
    }
   ],
   "source": [
    "labour_freq.most_common(50)"
   ]
  },
  {
   "cell_type": "code",
   "execution_count": null,
   "metadata": {
    "collapsed": false
   },
   "outputs": [],
   "source": []
  },
  {
   "cell_type": "code",
   "execution_count": null,
   "metadata": {
    "collapsed": true
   },
   "outputs": [],
   "source": []
  }
 ],
 "metadata": {
  "anaconda-cloud": {},
  "kernelspec": {
   "display_name": "Python [default]",
   "language": "python",
   "name": "python3"
  },
  "language_info": {
   "codemirror_mode": {
    "name": "ipython",
    "version": 3
   },
   "file_extension": ".py",
   "mimetype": "text/x-python",
   "name": "python",
   "nbconvert_exporter": "python",
   "pygments_lexer": "ipython3",
   "version": "3.5.2"
  }
 },
 "nbformat": 4,
 "nbformat_minor": 2
}
