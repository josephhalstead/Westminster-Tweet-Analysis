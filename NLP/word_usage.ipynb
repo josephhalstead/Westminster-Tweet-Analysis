{
 "cells": [
  {
   "cell_type": "markdown",
   "metadata": {},
   "source": [
    "# Natural Language Processing - Language Use\n",
    "\n",
    "A notebook looking at word use differences between political parties.\n",
    "\n",
    "Going to compare the word frequencies of the two main political party's tweets."
   ]
  },
  {
   "cell_type": "code",
   "execution_count": 66,
   "metadata": {
    "collapsed": true
   },
   "outputs": [],
   "source": [
    "import pandas as pd\n",
    "from nltk.corpus import stopwords\n",
    "from nltk.tokenize import word_tokenize\n",
    "from nltk.stem.snowball import SnowballStemmer\n",
    "import string\n",
    "import re"
   ]
  },
  {
   "cell_type": "code",
   "execution_count": 7,
   "metadata": {
    "collapsed": true
   },
   "outputs": [],
   "source": [
    "df = pd.read_csv('../data/processed_tweets.csv')"
   ]
  },
  {
   "cell_type": "code",
   "execution_count": 9,
   "metadata": {
    "collapsed": false
   },
   "outputs": [],
   "source": [
    "df.drop('Unnamed: 0', axis=1, inplace=True)"
   ]
  },
  {
   "cell_type": "code",
   "execution_count": 12,
   "metadata": {
    "collapsed": false
   },
   "outputs": [
    {
     "data": {
      "text/html": [
       "<div>\n",
       "<style scoped>\n",
       "    .dataframe tbody tr th:only-of-type {\n",
       "        vertical-align: middle;\n",
       "    }\n",
       "\n",
       "    .dataframe tbody tr th {\n",
       "        vertical-align: top;\n",
       "    }\n",
       "\n",
       "    .dataframe thead th {\n",
       "        text-align: right;\n",
       "    }\n",
       "</style>\n",
       "<table border=\"1\" class=\"dataframe\">\n",
       "  <thead>\n",
       "    <tr style=\"text-align: right;\">\n",
       "      <th></th>\n",
       "      <th>user_name</th>\n",
       "      <th>constituency</th>\n",
       "      <th>party</th>\n",
       "      <th>gender</th>\n",
       "      <th>tweet_id</th>\n",
       "      <th>permalink</th>\n",
       "      <th>text</th>\n",
       "      <th>date</th>\n",
       "      <th>retweets</th>\n",
       "      <th>favourites</th>\n",
       "      <th>replies</th>\n",
       "      <th>party_new</th>\n",
       "    </tr>\n",
       "  </thead>\n",
       "  <tbody>\n",
       "    <tr>\n",
       "      <th>0</th>\n",
       "      <td>skinnock</td>\n",
       "      <td>Aberavon</td>\n",
       "      <td>Labour</td>\n",
       "      <td>Male</td>\n",
       "      <td>947017416047058944</td>\n",
       "      <td>https://twitter.com/SKinnock/status/9470174160...</td>\n",
       "      <td>Devastating resignation letter from Andrew Ado...</td>\n",
       "      <td>2017-12-30 08:12:01</td>\n",
       "      <td>17</td>\n",
       "      <td>43</td>\n",
       "      <td>11</td>\n",
       "      <td>Labour</td>\n",
       "    </tr>\n",
       "    <tr>\n",
       "      <th>1</th>\n",
       "      <td>skinnock</td>\n",
       "      <td>Aberavon</td>\n",
       "      <td>Labour</td>\n",
       "      <td>Male</td>\n",
       "      <td>944285195372548097</td>\n",
       "      <td>https://twitter.com/SKinnock/status/9442851953...</td>\n",
       "      <td>The gov need to act to allow more flexibility ...</td>\n",
       "      <td>2017-12-22 19:15:09</td>\n",
       "      <td>2</td>\n",
       "      <td>5</td>\n",
       "      <td>2</td>\n",
       "      <td>Labour</td>\n",
       "    </tr>\n",
       "    <tr>\n",
       "      <th>2</th>\n",
       "      <td>skinnock</td>\n",
       "      <td>Aberavon</td>\n",
       "      <td>Labour</td>\n",
       "      <td>Male</td>\n",
       "      <td>943841995390423040</td>\n",
       "      <td>https://twitter.com/SKinnock/status/9438419953...</td>\n",
       "      <td>Here are the fabled sector analyses. Damp squi...</td>\n",
       "      <td>2017-12-21 13:54:02</td>\n",
       "      <td>21</td>\n",
       "      <td>29</td>\n",
       "      <td>8</td>\n",
       "      <td>Labour</td>\n",
       "    </tr>\n",
       "    <tr>\n",
       "      <th>3</th>\n",
       "      <td>skinnock</td>\n",
       "      <td>Aberavon</td>\n",
       "      <td>Labour</td>\n",
       "      <td>Male</td>\n",
       "      <td>943595206225559552</td>\n",
       "      <td>https://twitter.com/SKinnock/status/9435952062...</td>\n",
       "      <td>Fallon, Patel and now Green. Three strikes and...</td>\n",
       "      <td>2017-12-20 21:33:22</td>\n",
       "      <td>7</td>\n",
       "      <td>31</td>\n",
       "      <td>5</td>\n",
       "      <td>Labour</td>\n",
       "    </tr>\n",
       "    <tr>\n",
       "      <th>4</th>\n",
       "      <td>skinnock</td>\n",
       "      <td>Aberavon</td>\n",
       "      <td>Labour</td>\n",
       "      <td>Male</td>\n",
       "      <td>943552279189258245</td>\n",
       "      <td>https://twitter.com/SKinnock/status/9435522791...</td>\n",
       "      <td>Waiting to hear from @DavidGauke re my concern...</td>\n",
       "      <td>2017-12-20 18:42:48</td>\n",
       "      <td>3</td>\n",
       "      <td>1</td>\n",
       "      <td>1</td>\n",
       "      <td>Labour</td>\n",
       "    </tr>\n",
       "  </tbody>\n",
       "</table>\n",
       "</div>"
      ],
      "text/plain": [
       "  user_name constituency   party gender            tweet_id  \\\n",
       "0  skinnock     Aberavon  Labour   Male  947017416047058944   \n",
       "1  skinnock     Aberavon  Labour   Male  944285195372548097   \n",
       "2  skinnock     Aberavon  Labour   Male  943841995390423040   \n",
       "3  skinnock     Aberavon  Labour   Male  943595206225559552   \n",
       "4  skinnock     Aberavon  Labour   Male  943552279189258245   \n",
       "\n",
       "                                           permalink  \\\n",
       "0  https://twitter.com/SKinnock/status/9470174160...   \n",
       "1  https://twitter.com/SKinnock/status/9442851953...   \n",
       "2  https://twitter.com/SKinnock/status/9438419953...   \n",
       "3  https://twitter.com/SKinnock/status/9435952062...   \n",
       "4  https://twitter.com/SKinnock/status/9435522791...   \n",
       "\n",
       "                                                text                 date  \\\n",
       "0  Devastating resignation letter from Andrew Ado...  2017-12-30 08:12:01   \n",
       "1  The gov need to act to allow more flexibility ...  2017-12-22 19:15:09   \n",
       "2  Here are the fabled sector analyses. Damp squi...  2017-12-21 13:54:02   \n",
       "3  Fallon, Patel and now Green. Three strikes and...  2017-12-20 21:33:22   \n",
       "4  Waiting to hear from @DavidGauke re my concern...  2017-12-20 18:42:48   \n",
       "\n",
       "   retweets  favourites  replies party_new  \n",
       "0        17          43       11    Labour  \n",
       "1         2           5        2    Labour  \n",
       "2        21          29        8    Labour  \n",
       "3         7          31        5    Labour  \n",
       "4         3           1        1    Labour  "
      ]
     },
     "execution_count": 12,
     "metadata": {},
     "output_type": "execute_result"
    }
   ],
   "source": [
    "df.head()"
   ]
  },
  {
   "cell_type": "code",
   "execution_count": 95,
   "metadata": {
    "collapsed": false
   },
   "outputs": [
    {
     "data": {
      "text/plain": [
       "False    2716793\n",
       "True        1210\n",
       "Name: text, dtype: int64"
      ]
     },
     "execution_count": 95,
     "metadata": {},
     "output_type": "execute_result"
    }
   ],
   "source": [
    "df[['text']].isna()['text'].value_counts()"
   ]
  },
  {
   "cell_type": "code",
   "execution_count": 97,
   "metadata": {
    "collapsed": false
   },
   "outputs": [],
   "source": [
    "# Remove null text tweets\n",
    "\n",
    "df = df[pd.notna(df['text']) == True]"
   ]
  },
  {
   "cell_type": "code",
   "execution_count": 101,
   "metadata": {
    "collapsed": false
   },
   "outputs": [],
   "source": [
    "#Process text - this takes a while\n",
    "\n",
    "stop_words = stopwords.words('english')\n",
    "\n",
    "punc = string.punctuation\n",
    "\n",
    "def process_text(row, stem=False):\n",
    "    \"\"\"\n",
    "    Remove URLs, mentions, hashtags\n",
    "    \n",
    "    Remove stop words\n",
    "    \n",
    "    Remove punctuation\n",
    "    \n",
    "    \"\"\"\n",
    "    string = row['text'] \n",
    "    \n",
    "    \n",
    "    string = re.sub(r'(http|pic.).*$', '', string)\n",
    "    string = re.sub(r'@\\S*\\b', '', string)\n",
    "    string = re.sub(r'#', '', string)       \n",
    "\n",
    "    string = string.lower()\n",
    "\n",
    "    words = string.split()\n",
    "    \n",
    "    words = [word for word in words if word not in stop_words]\n",
    "    \n",
    "    string = ' '.join(words)\n",
    "    \n",
    "    words = word_tokenize(string)\n",
    "    \n",
    "    words = [word for word in words if word not in punc]\n",
    "    \n",
    "    if stem == True:\n",
    "        \n",
    "        words = [SnowballStemmer(\"english\").stem(word) for word in words]\n",
    "    \n",
    "    return ' '.join(words)\n",
    "    "
   ]
  },
  {
   "cell_type": "code",
   "execution_count": 105,
   "metadata": {
    "collapsed": false
   },
   "outputs": [],
   "source": [
    "test = {'text': \"The quick brown fox doesn't jump over the lazy dogs!\" }"
   ]
  },
  {
   "cell_type": "code",
   "execution_count": 106,
   "metadata": {
    "collapsed": false
   },
   "outputs": [
    {
     "data": {
      "text/plain": [
       "'quick brown fox jump lazy dogs'"
      ]
     },
     "execution_count": 106,
     "metadata": {},
     "output_type": "execute_result"
    }
   ],
   "source": [
    "process_text(test)"
   ]
  },
  {
   "cell_type": "code",
   "execution_count": 107,
   "metadata": {
    "collapsed": false
   },
   "outputs": [],
   "source": [
    "df['processed_text'] = df.apply(process_text, axis=1)"
   ]
  },
  {
   "cell_type": "code",
   "execution_count": 108,
   "metadata": {
    "collapsed": false
   },
   "outputs": [
    {
     "data": {
      "text/html": [
       "<div>\n",
       "<style scoped>\n",
       "    .dataframe tbody tr th:only-of-type {\n",
       "        vertical-align: middle;\n",
       "    }\n",
       "\n",
       "    .dataframe tbody tr th {\n",
       "        vertical-align: top;\n",
       "    }\n",
       "\n",
       "    .dataframe thead th {\n",
       "        text-align: right;\n",
       "    }\n",
       "</style>\n",
       "<table border=\"1\" class=\"dataframe\">\n",
       "  <thead>\n",
       "    <tr style=\"text-align: right;\">\n",
       "      <th></th>\n",
       "      <th>user_name</th>\n",
       "      <th>constituency</th>\n",
       "      <th>party</th>\n",
       "      <th>gender</th>\n",
       "      <th>tweet_id</th>\n",
       "      <th>permalink</th>\n",
       "      <th>text</th>\n",
       "      <th>date</th>\n",
       "      <th>retweets</th>\n",
       "      <th>favourites</th>\n",
       "      <th>replies</th>\n",
       "      <th>party_new</th>\n",
       "      <th>processed_text</th>\n",
       "    </tr>\n",
       "  </thead>\n",
       "  <tbody>\n",
       "    <tr>\n",
       "      <th>0</th>\n",
       "      <td>skinnock</td>\n",
       "      <td>Aberavon</td>\n",
       "      <td>Labour</td>\n",
       "      <td>Male</td>\n",
       "      <td>947017416047058944</td>\n",
       "      <td>https://twitter.com/SKinnock/status/9470174160...</td>\n",
       "      <td>Devastating resignation letter from Andrew Ado...</td>\n",
       "      <td>2017-12-30 08:12:01</td>\n",
       "      <td>17</td>\n",
       "      <td>43</td>\n",
       "      <td>11</td>\n",
       "      <td>Labour</td>\n",
       "      <td>devastating resignation letter andrew adonis r...</td>\n",
       "    </tr>\n",
       "    <tr>\n",
       "      <th>1</th>\n",
       "      <td>skinnock</td>\n",
       "      <td>Aberavon</td>\n",
       "      <td>Labour</td>\n",
       "      <td>Male</td>\n",
       "      <td>944285195372548097</td>\n",
       "      <td>https://twitter.com/SKinnock/status/9442851953...</td>\n",
       "      <td>The gov need to act to allow more flexibility ...</td>\n",
       "      <td>2017-12-22 19:15:09</td>\n",
       "      <td>2</td>\n",
       "      <td>5</td>\n",
       "      <td>2</td>\n",
       "      <td>Labour</td>\n",
       "      <td>gov need act allow flexibility give bsps trust...</td>\n",
       "    </tr>\n",
       "    <tr>\n",
       "      <th>2</th>\n",
       "      <td>skinnock</td>\n",
       "      <td>Aberavon</td>\n",
       "      <td>Labour</td>\n",
       "      <td>Male</td>\n",
       "      <td>943841995390423040</td>\n",
       "      <td>https://twitter.com/SKinnock/status/9438419953...</td>\n",
       "      <td>Here are the fabled sector analyses. Damp squi...</td>\n",
       "      <td>2017-12-21 13:54:02</td>\n",
       "      <td>21</td>\n",
       "      <td>29</td>\n",
       "      <td>8</td>\n",
       "      <td>Labour</td>\n",
       "      <td>fabled sector analyses damp squib idea cld giv...</td>\n",
       "    </tr>\n",
       "    <tr>\n",
       "      <th>3</th>\n",
       "      <td>skinnock</td>\n",
       "      <td>Aberavon</td>\n",
       "      <td>Labour</td>\n",
       "      <td>Male</td>\n",
       "      <td>943595206225559552</td>\n",
       "      <td>https://twitter.com/SKinnock/status/9435952062...</td>\n",
       "      <td>Fallon, Patel and now Green. Three strikes and...</td>\n",
       "      <td>2017-12-20 21:33:22</td>\n",
       "      <td>7</td>\n",
       "      <td>31</td>\n",
       "      <td>5</td>\n",
       "      <td>Labour</td>\n",
       "      <td>fallon patel green three strikes you’re out th...</td>\n",
       "    </tr>\n",
       "    <tr>\n",
       "      <th>4</th>\n",
       "      <td>skinnock</td>\n",
       "      <td>Aberavon</td>\n",
       "      <td>Labour</td>\n",
       "      <td>Male</td>\n",
       "      <td>943552279189258245</td>\n",
       "      <td>https://twitter.com/SKinnock/status/9435522791...</td>\n",
       "      <td>Waiting to hear from @DavidGauke re my concern...</td>\n",
       "      <td>2017-12-20 18:42:48</td>\n",
       "      <td>3</td>\n",
       "      <td>1</td>\n",
       "      <td>1</td>\n",
       "      <td>Labour</td>\n",
       "      <td>waiting hear concerns abt bsps transfer defaul...</td>\n",
       "    </tr>\n",
       "  </tbody>\n",
       "</table>\n",
       "</div>"
      ],
      "text/plain": [
       "  user_name constituency   party gender            tweet_id  \\\n",
       "0  skinnock     Aberavon  Labour   Male  947017416047058944   \n",
       "1  skinnock     Aberavon  Labour   Male  944285195372548097   \n",
       "2  skinnock     Aberavon  Labour   Male  943841995390423040   \n",
       "3  skinnock     Aberavon  Labour   Male  943595206225559552   \n",
       "4  skinnock     Aberavon  Labour   Male  943552279189258245   \n",
       "\n",
       "                                           permalink  \\\n",
       "0  https://twitter.com/SKinnock/status/9470174160...   \n",
       "1  https://twitter.com/SKinnock/status/9442851953...   \n",
       "2  https://twitter.com/SKinnock/status/9438419953...   \n",
       "3  https://twitter.com/SKinnock/status/9435952062...   \n",
       "4  https://twitter.com/SKinnock/status/9435522791...   \n",
       "\n",
       "                                                text                 date  \\\n",
       "0  Devastating resignation letter from Andrew Ado...  2017-12-30 08:12:01   \n",
       "1  The gov need to act to allow more flexibility ...  2017-12-22 19:15:09   \n",
       "2  Here are the fabled sector analyses. Damp squi...  2017-12-21 13:54:02   \n",
       "3  Fallon, Patel and now Green. Three strikes and...  2017-12-20 21:33:22   \n",
       "4  Waiting to hear from @DavidGauke re my concern...  2017-12-20 18:42:48   \n",
       "\n",
       "   retweets  favourites  replies party_new  \\\n",
       "0        17          43       11    Labour   \n",
       "1         2           5        2    Labour   \n",
       "2        21          29        8    Labour   \n",
       "3         7          31        5    Labour   \n",
       "4         3           1        1    Labour   \n",
       "\n",
       "                                      processed_text  \n",
       "0  devastating resignation letter andrew adonis r...  \n",
       "1  gov need act allow flexibility give bsps trust...  \n",
       "2  fabled sector analyses damp squib idea cld giv...  \n",
       "3  fallon patel green three strikes you’re out th...  \n",
       "4  waiting hear concerns abt bsps transfer defaul...  "
      ]
     },
     "execution_count": 108,
     "metadata": {},
     "output_type": "execute_result"
    }
   ],
   "source": [
    "df.head()"
   ]
  },
  {
   "cell_type": "code",
   "execution_count": 109,
   "metadata": {
    "collapsed": true
   },
   "outputs": [],
   "source": [
    "# Split into two dataframes based on party\n",
    "\n",
    "labour_df = df[df['party_new'] == 'Labour']\n",
    "\n",
    "conservative_df = df[df['party_new'] == 'Conservative']"
   ]
  },
  {
   "cell_type": "code",
   "execution_count": 110,
   "metadata": {
    "collapsed": true
   },
   "outputs": [],
   "source": [
    "# Loop through the dataframe and make an ultra long list of all the words - Conservative\n",
    "\n",
    "conservative_corpus = []\n",
    "\n",
    "for index, row in conservative_df.iterrows():\n",
    "    \n",
    "    text = row['text']\n",
    "    \n",
    "    conservative_corpus = conservative_corpus +word_tokenize(text)"
   ]
  },
  {
   "cell_type": "code",
   "execution_count": 111,
   "metadata": {
    "collapsed": true
   },
   "outputs": [],
   "source": [
    "# Loop through the dataframe and make an ultra long list of all the words - Labour\n",
    "\n",
    "labour_corpus = []\n",
    "\n",
    "for index, row in labour_df.iterrows():\n",
    "    \n",
    "    text = row['text']\n",
    "    \n",
    "    labour_corpus = labour_corpus + (word_tokenize(text))"
   ]
  },
  {
   "cell_type": "code",
   "execution_count": null,
   "metadata": {
    "collapsed": false
   },
   "outputs": [],
   "source": [
    "conservative_freq = nltk.FreqDist(conservative_corpus)\n",
    "labour_freq = nltk.FreqDist(labour_corpus)"
   ]
  },
  {
   "cell_type": "code",
   "execution_count": null,
   "metadata": {
    "collapsed": false
   },
   "outputs": [],
   "source": []
  },
  {
   "cell_type": "code",
   "execution_count": null,
   "metadata": {
    "collapsed": true
   },
   "outputs": [],
   "source": []
  }
 ],
 "metadata": {
  "anaconda-cloud": {},
  "kernelspec": {
   "display_name": "Python [default]",
   "language": "python",
   "name": "python3"
  },
  "language_info": {
   "codemirror_mode": {
    "name": "ipython",
    "version": 3
   },
   "file_extension": ".py",
   "mimetype": "text/x-python",
   "name": "python",
   "nbconvert_exporter": "python",
   "pygments_lexer": "ipython3",
   "version": "3.5.2"
  }
 },
 "nbformat": 4,
 "nbformat_minor": 2
}
