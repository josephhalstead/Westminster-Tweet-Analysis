{
 "cells": [
  {
   "cell_type": "markdown",
   "metadata": {},
   "source": [
    "# Sentiment Analysis\n",
    "\n",
    "Is it possible to track the positivity and negativity of MP's tweets? Let's attempt this by:\n",
    "\n",
    "1. Train a classifier\n",
    "2. Run it on the tweets in tweets.csv\n",
    "\n",
    "## Stage 1: Train a Classifier\n",
    "\n",
    "Use NLTK and Sklearn to create a classifier for the sentiment of tweets."
   ]
  },
  {
   "cell_type": "code",
   "execution_count": 2,
   "metadata": {
    "collapsed": false
   },
   "outputs": [],
   "source": [
    "import pandas as pd\n",
    "import numpy as np\n",
    "import re\n",
    "import matplotlib.pyplot as plt\n",
    "import seaborn as sns; sns.set()\n",
    "from datetime import datetime\n",
    "from sklearn.model_selection import train_test_split\n",
    "from sklearn.feature_extraction.text import CountVectorizer\n",
    "from sklearn.feature_extraction.text import TfidfTransformer\n",
    "from sklearn.naive_bayes import MultinomialNB\n",
    "from sklearn.pipeline import Pipeline\n",
    "from sklearn.metrics import confusion_matrix, classification_report\n",
    "%matplotlib inline"
   ]
  },
  {
   "cell_type": "markdown",
   "metadata": {},
   "source": [
    "### Training Data\n",
    "\n",
    "Found link to some training data: \n",
    "\n",
    "http://thinknook.com/twitter-sentiment-analysis-training-corpus-dataset-2012-09-22/\n",
    "\n",
    "Try and use this to train a model. Hopefully it will generalise to our dataset well. Dataset contains a lot of tweets ~ 1.5 million.\n",
    "\n",
    "The tweets are classed as either:\n",
    "\n",
    "* 0 = Negative Sentiment\n",
    "* 1 = Positive Sentiment"
   ]
  },
  {
   "cell_type": "code",
   "execution_count": 3,
   "metadata": {
    "collapsed": false
   },
   "outputs": [],
   "source": [
    "tweet_df = pd.read_csv('../data/Sentiment Analysis Dataset.csv',usecols=[1,2,3] )"
   ]
  },
  {
   "cell_type": "code",
   "execution_count": 50,
   "metadata": {
    "collapsed": false
   },
   "outputs": [
    {
     "data": {
      "text/html": [
       "<div>\n",
       "<style scoped>\n",
       "    .dataframe tbody tr th:only-of-type {\n",
       "        vertical-align: middle;\n",
       "    }\n",
       "\n",
       "    .dataframe tbody tr th {\n",
       "        vertical-align: top;\n",
       "    }\n",
       "\n",
       "    .dataframe thead th {\n",
       "        text-align: right;\n",
       "    }\n",
       "</style>\n",
       "<table border=\"1\" class=\"dataframe\">\n",
       "  <thead>\n",
       "    <tr style=\"text-align: right;\">\n",
       "      <th></th>\n",
       "      <th>Sentiment</th>\n",
       "      <th>SentimentSource</th>\n",
       "      <th>SentimentText</th>\n",
       "      <th>processed_text</th>\n",
       "    </tr>\n",
       "  </thead>\n",
       "  <tbody>\n",
       "    <tr>\n",
       "      <th>0</th>\n",
       "      <td>0</td>\n",
       "      <td>Sentiment140</td>\n",
       "      <td>is so sad for my APL friend.............</td>\n",
       "      <td>is so sad for my apl friend.............</td>\n",
       "    </tr>\n",
       "    <tr>\n",
       "      <th>1</th>\n",
       "      <td>0</td>\n",
       "      <td>Sentiment140</td>\n",
       "      <td>I missed the New Moon trailer...</td>\n",
       "      <td>i missed the new moon trailer...</td>\n",
       "    </tr>\n",
       "    <tr>\n",
       "      <th>2</th>\n",
       "      <td>1</td>\n",
       "      <td>Sentiment140</td>\n",
       "      <td>omg its already 7:30 :O</td>\n",
       "      <td>omg its already 7:30 :o</td>\n",
       "    </tr>\n",
       "    <tr>\n",
       "      <th>3</th>\n",
       "      <td>0</td>\n",
       "      <td>Sentiment140</td>\n",
       "      <td>.. Omgaga. Im sooo  im gunna CRy. I've been at this dentist since 11.. I was suposed 2 just get a crown put on (30mins)...</td>\n",
       "      <td>.. omgaga. im sooo  im gunna cry. i've been at this dentist since 11.. i was suposed 2 just get a crown put on (30mins)...</td>\n",
       "    </tr>\n",
       "    <tr>\n",
       "      <th>4</th>\n",
       "      <td>0</td>\n",
       "      <td>Sentiment140</td>\n",
       "      <td>i think mi bf is cheating on me!!!       T_T</td>\n",
       "      <td>i think mi bf is cheating on me!!!       t_t</td>\n",
       "    </tr>\n",
       "  </tbody>\n",
       "</table>\n",
       "</div>"
      ],
      "text/plain": [
       "   Sentiment SentimentSource  \\\n",
       "0  0          Sentiment140     \n",
       "1  0          Sentiment140     \n",
       "2  1          Sentiment140     \n",
       "3  0          Sentiment140     \n",
       "4  0          Sentiment140     \n",
       "\n",
       "                                                                                                                          SentimentText  \\\n",
       "0                       is so sad for my APL friend.............                                                                          \n",
       "1                     I missed the New Moon trailer...                                                                                    \n",
       "2                omg its already 7:30 :O                                                                                                  \n",
       "3            .. Omgaga. Im sooo  im gunna CRy. I've been at this dentist since 11.. I was suposed 2 just get a crown put on (30mins)...   \n",
       "4           i think mi bf is cheating on me!!!       T_T                                                                                  \n",
       "\n",
       "                                                                                                                         processed_text  \n",
       "0                       is so sad for my apl friend.............                                                                         \n",
       "1                     i missed the new moon trailer...                                                                                   \n",
       "2                omg its already 7:30 :o                                                                                                 \n",
       "3            .. omgaga. im sooo  im gunna cry. i've been at this dentist since 11.. i was suposed 2 just get a crown put on (30mins)...  \n",
       "4           i think mi bf is cheating on me!!!       t_t                                                                                 "
      ]
     },
     "execution_count": 50,
     "metadata": {},
     "output_type": "execute_result"
    }
   ],
   "source": [
    "tweet_df.head()"
   ]
  },
  {
   "cell_type": "code",
   "execution_count": 4,
   "metadata": {
    "collapsed": false
   },
   "outputs": [
    {
     "data": {
      "text/plain": [
       "Sentiment140    1577269\n",
       "Kaggle             1345\n",
       "Name: SentimentSource, dtype: int64"
      ]
     },
     "execution_count": 4,
     "metadata": {},
     "output_type": "execute_result"
    }
   ],
   "source": [
    "tweet_df['SentimentSource'].value_counts()"
   ]
  },
  {
   "cell_type": "code",
   "execution_count": 5,
   "metadata": {
    "collapsed": false
   },
   "outputs": [
    {
     "data": {
      "text/plain": [
       "1    790178\n",
       "0    788436\n",
       "Name: Sentiment, dtype: int64"
      ]
     },
     "execution_count": 5,
     "metadata": {},
     "output_type": "execute_result"
    }
   ],
   "source": [
    "tweet_df['Sentiment'].value_counts()"
   ]
  },
  {
   "cell_type": "markdown",
   "metadata": {},
   "source": [
    "### Pre-Process Text\n",
    "\n",
    "* Remove mentions, hashtags and urls and make lower case"
   ]
  },
  {
   "cell_type": "code",
   "execution_count": 6,
   "metadata": {
    "collapsed": false
   },
   "outputs": [],
   "source": [
    "def process_text(row):\n",
    "    \"\"\"\n",
    "    Remove URLs, mentions, hashtags\n",
    "    \n",
    "    \"\"\"\n",
    "    \n",
    "    string = row['SentimentText'] \n",
    "    \n",
    "    string = re.sub(r'http\\S*\\b', '', string)\n",
    "    string = re.sub(r'pic.\\S*\\b', '', string)\n",
    "    string = re.sub(r'@\\S*\\b', '', string)\n",
    "    string = re.sub(r'#', '', string)    \n",
    "    \n",
    "    return string.lower()"
   ]
  },
  {
   "cell_type": "code",
   "execution_count": 7,
   "metadata": {
    "collapsed": false
   },
   "outputs": [],
   "source": [
    "tweet_df['processed_text'] = tweet_df.apply(process_text, axis=1)"
   ]
  },
  {
   "cell_type": "code",
   "execution_count": 8,
   "metadata": {
    "collapsed": false
   },
   "outputs": [
    {
     "data": {
      "text/html": [
       "<div>\n",
       "<style scoped>\n",
       "    .dataframe tbody tr th:only-of-type {\n",
       "        vertical-align: middle;\n",
       "    }\n",
       "\n",
       "    .dataframe tbody tr th {\n",
       "        vertical-align: top;\n",
       "    }\n",
       "\n",
       "    .dataframe thead th {\n",
       "        text-align: right;\n",
       "    }\n",
       "</style>\n",
       "<table border=\"1\" class=\"dataframe\">\n",
       "  <thead>\n",
       "    <tr style=\"text-align: right;\">\n",
       "      <th></th>\n",
       "      <th>Sentiment</th>\n",
       "      <th>SentimentSource</th>\n",
       "      <th>SentimentText</th>\n",
       "      <th>processed_text</th>\n",
       "    </tr>\n",
       "  </thead>\n",
       "  <tbody>\n",
       "    <tr>\n",
       "      <th>0</th>\n",
       "      <td>0</td>\n",
       "      <td>Sentiment140</td>\n",
       "      <td>is so sad for my APL frie...</td>\n",
       "      <td>is so sad for my apl frie...</td>\n",
       "    </tr>\n",
       "    <tr>\n",
       "      <th>1</th>\n",
       "      <td>0</td>\n",
       "      <td>Sentiment140</td>\n",
       "      <td>I missed the New Moon trail...</td>\n",
       "      <td>i missed the new moon trail...</td>\n",
       "    </tr>\n",
       "    <tr>\n",
       "      <th>2</th>\n",
       "      <td>1</td>\n",
       "      <td>Sentiment140</td>\n",
       "      <td>omg its already 7:30 :O</td>\n",
       "      <td>omg its already 7:30 :o</td>\n",
       "    </tr>\n",
       "    <tr>\n",
       "      <th>3</th>\n",
       "      <td>0</td>\n",
       "      <td>Sentiment140</td>\n",
       "      <td>.. Omgaga. Im sooo  im gunna CRy. I'...</td>\n",
       "      <td>.. omgaga. im sooo  im gunna cry. i'...</td>\n",
       "    </tr>\n",
       "    <tr>\n",
       "      <th>4</th>\n",
       "      <td>0</td>\n",
       "      <td>Sentiment140</td>\n",
       "      <td>i think mi bf is cheating on me!!!   ...</td>\n",
       "      <td>i think mi bf is cheating on me!!!   ...</td>\n",
       "    </tr>\n",
       "  </tbody>\n",
       "</table>\n",
       "</div>"
      ],
      "text/plain": [
       "   Sentiment SentimentSource  \\\n",
       "0          0    Sentiment140   \n",
       "1          0    Sentiment140   \n",
       "2          1    Sentiment140   \n",
       "3          0    Sentiment140   \n",
       "4          0    Sentiment140   \n",
       "\n",
       "                                       SentimentText  \\\n",
       "0                       is so sad for my APL frie...   \n",
       "1                     I missed the New Moon trail...   \n",
       "2                            omg its already 7:30 :O   \n",
       "3            .. Omgaga. Im sooo  im gunna CRy. I'...   \n",
       "4           i think mi bf is cheating on me!!!   ...   \n",
       "\n",
       "                                      processed_text  \n",
       "0                       is so sad for my apl frie...  \n",
       "1                     i missed the new moon trail...  \n",
       "2                            omg its already 7:30 :o  \n",
       "3            .. omgaga. im sooo  im gunna cry. i'...  \n",
       "4           i think mi bf is cheating on me!!!   ...  "
      ]
     },
     "execution_count": 8,
     "metadata": {},
     "output_type": "execute_result"
    }
   ],
   "source": [
    "tweet_df.head()"
   ]
  },
  {
   "cell_type": "markdown",
   "metadata": {},
   "source": [
    "### Build and Train a Model\n",
    "\n",
    "We will use a standard document classifier using sklearn. Each tweet is classified as either 1=positive or 0=negative.\n",
    "\n",
    "Three stages to the classifier:\n",
    "\n",
    "1. CountVectorizer - make a sparse array of the words in the corpus along with the frequencies.\n",
    "2. tf-idf - Adjust the frequency this for tweet length and how often it occurs in other documents. See wiki for more info\n",
    "3. Train classifier. We will try Naïve Bayes first\n",
    "\n",
    "\n",
    "Some things to consider:\n",
    "\n",
    "1. Do we get rid of URLs?\n"
   ]
  },
  {
   "cell_type": "code",
   "execution_count": 9,
   "metadata": {
    "collapsed": false
   },
   "outputs": [],
   "source": [
    "# split into data and target\n",
    "\n",
    "X = tweet_df['processed_text']\n",
    "y = tweet_df['Sentiment']"
   ]
  },
  {
   "cell_type": "code",
   "execution_count": 10,
   "metadata": {
    "collapsed": true
   },
   "outputs": [],
   "source": [
    "X_train, X_test, y_train, y_test = train_test_split(X, y, test_size=0.3)"
   ]
  },
  {
   "cell_type": "code",
   "execution_count": 11,
   "metadata": {
    "collapsed": false
   },
   "outputs": [],
   "source": [
    "# Make a pipeline\n",
    "tweet_classifier = Pipeline([('count_vectorise', CountVectorizer(ngram_range=(1,2))),\n",
    "    ('tf-idf', TfidfTransformer()),\n",
    "    ('classify', MultinomialNB()),\n",
    "    ])"
   ]
  },
  {
   "cell_type": "code",
   "execution_count": 12,
   "metadata": {
    "collapsed": false
   },
   "outputs": [
    {
     "name": "stderr",
     "output_type": "stream",
     "text": [
      "/Applications/anaconda/lib/python3.5/site-packages/sklearn/feature_extraction/text.py:1059: FutureWarning: Conversion of the second argument of issubdtype from `float` to `np.floating` is deprecated. In future, it will be treated as `np.float64 == np.dtype(float).type`.\n",
      "  if hasattr(X, 'dtype') and np.issubdtype(X.dtype, np.float):\n"
     ]
    },
    {
     "data": {
      "text/plain": [
       "Pipeline(steps=[('count_vectorise', CountVectorizer(analyzer='word', binary=False, decode_error='strict',\n",
       "        dtype=<class 'numpy.int64'>, encoding='utf-8', input='content',\n",
       "        lowercase=True, max_df=1.0, max_features=None, min_df=1,\n",
       "        ngram_range=(1, 2), preprocessor=None, stop_words=None,\n",
       "  ..._tf=False, use_idf=True)), ('classify', MultinomialNB(alpha=1.0, class_prior=None, fit_prior=True))])"
      ]
     },
     "execution_count": 12,
     "metadata": {},
     "output_type": "execute_result"
    }
   ],
   "source": [
    "tweet_classifier.fit(X_train, y_train)"
   ]
  },
  {
   "cell_type": "code",
   "execution_count": 13,
   "metadata": {
    "collapsed": false
   },
   "outputs": [
    {
     "name": "stderr",
     "output_type": "stream",
     "text": [
      "/Applications/anaconda/lib/python3.5/site-packages/sklearn/feature_extraction/text.py:1059: FutureWarning: Conversion of the second argument of issubdtype from `float` to `np.floating` is deprecated. In future, it will be treated as `np.float64 == np.dtype(float).type`.\n",
      "  if hasattr(X, 'dtype') and np.issubdtype(X.dtype, np.float):\n"
     ]
    }
   ],
   "source": [
    "pred = tweet_classifier.predict(X_test)"
   ]
  },
  {
   "cell_type": "code",
   "execution_count": 14,
   "metadata": {
    "collapsed": false
   },
   "outputs": [
    {
     "name": "stdout",
     "output_type": "stream",
     "text": [
      "             precision    recall  f1-score   support\n",
      "\n",
      "          0       0.78      0.84      0.81    236567\n",
      "          1       0.83      0.76      0.79    237018\n",
      "\n",
      "avg / total       0.80      0.80      0.80    473585\n",
      "\n"
     ]
    }
   ],
   "source": [
    "print(classification_report(y_test, pred))"
   ]
  },
  {
   "cell_type": "code",
   "execution_count": 15,
   "metadata": {
    "collapsed": false
   },
   "outputs": [
    {
     "name": "stdout",
     "output_type": "stream",
     "text": [
      "[[198815  37752]\n",
      " [ 56085 180933]]\n"
     ]
    }
   ],
   "source": [
    "print(confusion_matrix(y_test, pred))"
   ]
  },
  {
   "cell_type": "markdown",
   "metadata": {},
   "source": [
    "## Stage 2 - Apply to MP Dataset"
   ]
  },
  {
   "cell_type": "code",
   "execution_count": 16,
   "metadata": {
    "collapsed": true
   },
   "outputs": [],
   "source": [
    "#get mp tweet dataset\n",
    "\n",
    "mp_tweets = pd.read_csv('../data/processed_tweets.csv')"
   ]
  },
  {
   "cell_type": "code",
   "execution_count": 17,
   "metadata": {
    "collapsed": false
   },
   "outputs": [],
   "source": [
    "mp_tweets = mp_tweets.drop('Unnamed: 0', axis=1)"
   ]
  },
  {
   "cell_type": "code",
   "execution_count": 18,
   "metadata": {
    "collapsed": false
   },
   "outputs": [
    {
     "data": {
      "text/html": [
       "<div>\n",
       "<style scoped>\n",
       "    .dataframe tbody tr th:only-of-type {\n",
       "        vertical-align: middle;\n",
       "    }\n",
       "\n",
       "    .dataframe tbody tr th {\n",
       "        vertical-align: top;\n",
       "    }\n",
       "\n",
       "    .dataframe thead th {\n",
       "        text-align: right;\n",
       "    }\n",
       "</style>\n",
       "<table border=\"1\" class=\"dataframe\">\n",
       "  <thead>\n",
       "    <tr style=\"text-align: right;\">\n",
       "      <th></th>\n",
       "      <th>user_name</th>\n",
       "      <th>constituency</th>\n",
       "      <th>party</th>\n",
       "      <th>gender</th>\n",
       "      <th>tweet_id</th>\n",
       "      <th>permalink</th>\n",
       "      <th>text</th>\n",
       "      <th>date</th>\n",
       "      <th>retweets</th>\n",
       "      <th>favourites</th>\n",
       "      <th>replies</th>\n",
       "      <th>party_new</th>\n",
       "    </tr>\n",
       "  </thead>\n",
       "  <tbody>\n",
       "    <tr>\n",
       "      <th>0</th>\n",
       "      <td>skinnock</td>\n",
       "      <td>Aberavon</td>\n",
       "      <td>Labour</td>\n",
       "      <td>Male</td>\n",
       "      <td>947017416047058944</td>\n",
       "      <td>https://twitter.com/SKinnock/status/9470174160...</td>\n",
       "      <td>Devastating resignation letter from Andrew Ado...</td>\n",
       "      <td>2017-12-30 08:12:01</td>\n",
       "      <td>17</td>\n",
       "      <td>43</td>\n",
       "      <td>11</td>\n",
       "      <td>Labour</td>\n",
       "    </tr>\n",
       "    <tr>\n",
       "      <th>1</th>\n",
       "      <td>skinnock</td>\n",
       "      <td>Aberavon</td>\n",
       "      <td>Labour</td>\n",
       "      <td>Male</td>\n",
       "      <td>944285195372548097</td>\n",
       "      <td>https://twitter.com/SKinnock/status/9442851953...</td>\n",
       "      <td>The gov need to act to allow more flexibility ...</td>\n",
       "      <td>2017-12-22 19:15:09</td>\n",
       "      <td>2</td>\n",
       "      <td>5</td>\n",
       "      <td>2</td>\n",
       "      <td>Labour</td>\n",
       "    </tr>\n",
       "    <tr>\n",
       "      <th>2</th>\n",
       "      <td>skinnock</td>\n",
       "      <td>Aberavon</td>\n",
       "      <td>Labour</td>\n",
       "      <td>Male</td>\n",
       "      <td>943841995390423040</td>\n",
       "      <td>https://twitter.com/SKinnock/status/9438419953...</td>\n",
       "      <td>Here are the fabled sector analyses. Damp squi...</td>\n",
       "      <td>2017-12-21 13:54:02</td>\n",
       "      <td>21</td>\n",
       "      <td>29</td>\n",
       "      <td>8</td>\n",
       "      <td>Labour</td>\n",
       "    </tr>\n",
       "    <tr>\n",
       "      <th>3</th>\n",
       "      <td>skinnock</td>\n",
       "      <td>Aberavon</td>\n",
       "      <td>Labour</td>\n",
       "      <td>Male</td>\n",
       "      <td>943595206225559552</td>\n",
       "      <td>https://twitter.com/SKinnock/status/9435952062...</td>\n",
       "      <td>Fallon, Patel and now Green. Three strikes and...</td>\n",
       "      <td>2017-12-20 21:33:22</td>\n",
       "      <td>7</td>\n",
       "      <td>31</td>\n",
       "      <td>5</td>\n",
       "      <td>Labour</td>\n",
       "    </tr>\n",
       "    <tr>\n",
       "      <th>4</th>\n",
       "      <td>skinnock</td>\n",
       "      <td>Aberavon</td>\n",
       "      <td>Labour</td>\n",
       "      <td>Male</td>\n",
       "      <td>943552279189258245</td>\n",
       "      <td>https://twitter.com/SKinnock/status/9435522791...</td>\n",
       "      <td>Waiting to hear from @DavidGauke re my concern...</td>\n",
       "      <td>2017-12-20 18:42:48</td>\n",
       "      <td>3</td>\n",
       "      <td>1</td>\n",
       "      <td>1</td>\n",
       "      <td>Labour</td>\n",
       "    </tr>\n",
       "  </tbody>\n",
       "</table>\n",
       "</div>"
      ],
      "text/plain": [
       "  user_name constituency   party gender            tweet_id  \\\n",
       "0  skinnock     Aberavon  Labour   Male  947017416047058944   \n",
       "1  skinnock     Aberavon  Labour   Male  944285195372548097   \n",
       "2  skinnock     Aberavon  Labour   Male  943841995390423040   \n",
       "3  skinnock     Aberavon  Labour   Male  943595206225559552   \n",
       "4  skinnock     Aberavon  Labour   Male  943552279189258245   \n",
       "\n",
       "                                           permalink  \\\n",
       "0  https://twitter.com/SKinnock/status/9470174160...   \n",
       "1  https://twitter.com/SKinnock/status/9442851953...   \n",
       "2  https://twitter.com/SKinnock/status/9438419953...   \n",
       "3  https://twitter.com/SKinnock/status/9435952062...   \n",
       "4  https://twitter.com/SKinnock/status/9435522791...   \n",
       "\n",
       "                                                text                 date  \\\n",
       "0  Devastating resignation letter from Andrew Ado...  2017-12-30 08:12:01   \n",
       "1  The gov need to act to allow more flexibility ...  2017-12-22 19:15:09   \n",
       "2  Here are the fabled sector analyses. Damp squi...  2017-12-21 13:54:02   \n",
       "3  Fallon, Patel and now Green. Three strikes and...  2017-12-20 21:33:22   \n",
       "4  Waiting to hear from @DavidGauke re my concern...  2017-12-20 18:42:48   \n",
       "\n",
       "   retweets  favourites  replies party_new  \n",
       "0        17          43       11    Labour  \n",
       "1         2           5        2    Labour  \n",
       "2        21          29        8    Labour  \n",
       "3         7          31        5    Labour  \n",
       "4         3           1        1    Labour  "
      ]
     },
     "execution_count": 18,
     "metadata": {},
     "output_type": "execute_result"
    }
   ],
   "source": [
    "mp_tweets.head()"
   ]
  },
  {
   "cell_type": "code",
   "execution_count": 19,
   "metadata": {
    "collapsed": true
   },
   "outputs": [],
   "source": [
    "# Now preprocess the data.\n",
    "# N.B - slightly different as we have spaces within the URLs in this dataset.\n",
    "\n",
    "def process_text_mp(row):\n",
    "    \"\"\"\n",
    "    Remove URLs, mentions, hashtags from text\n",
    "    \n",
    "    \"\"\"\n",
    "    \n",
    "    string = row['text']\n",
    "    \n",
    "    if pd.isna(string):\n",
    "        \n",
    "        return ''\n",
    "    \n",
    "    string = re.sub(r'(http|pic.).*$', '', string)\n",
    "    string = re.sub(r'@\\S*\\b', '', string)\n",
    "    string = re.sub(r'#', '', string)    \n",
    "    \n",
    "    return string.lower()"
   ]
  },
  {
   "cell_type": "code",
   "execution_count": 20,
   "metadata": {
    "collapsed": false
   },
   "outputs": [],
   "source": [
    "mp_tweets['processed_text'] = mp_tweets[['text']].apply(process_text_mp, axis=1)"
   ]
  },
  {
   "cell_type": "code",
   "execution_count": 21,
   "metadata": {
    "collapsed": true
   },
   "outputs": [],
   "source": [
    "mp_tweets = mp_tweets[mp_tweets['processed_text'] != ''] #remove blank"
   ]
  },
  {
   "cell_type": "code",
   "execution_count": 22,
   "metadata": {
    "collapsed": false
   },
   "outputs": [],
   "source": [
    "X = mp_tweets['processed_text']"
   ]
  },
  {
   "cell_type": "code",
   "execution_count": 23,
   "metadata": {
    "collapsed": false
   },
   "outputs": [
    {
     "name": "stderr",
     "output_type": "stream",
     "text": [
      "/Applications/anaconda/lib/python3.5/site-packages/sklearn/feature_extraction/text.py:1059: FutureWarning: Conversion of the second argument of issubdtype from `float` to `np.floating` is deprecated. In future, it will be treated as `np.float64 == np.dtype(float).type`.\n",
      "  if hasattr(X, 'dtype') and np.issubdtype(X.dtype, np.float):\n"
     ]
    }
   ],
   "source": [
    "y_class = tweet_classifier.predict(X)\n",
    "y_prob = tweet_classifier.predict_proba(X)"
   ]
  },
  {
   "cell_type": "markdown",
   "metadata": {},
   "source": [
    "## Step 3 - Analyse Data"
   ]
  },
  {
   "cell_type": "code",
   "execution_count": 24,
   "metadata": {
    "collapsed": false
   },
   "outputs": [],
   "source": [
    "#Attach to mp_tweet dataframe\n",
    "\n",
    "mp_tweets['sentiment_class'] = y_class # class of the tweet 0=negative, 1=positive"
   ]
  },
  {
   "cell_type": "code",
   "execution_count": 25,
   "metadata": {
    "collapsed": false
   },
   "outputs": [],
   "source": [
    "mp_tweets['positive_prob'] = y_prob[:,1] #probability the tweet is positive"
   ]
  },
  {
   "cell_type": "code",
   "execution_count": 26,
   "metadata": {
    "collapsed": false
   },
   "outputs": [
    {
     "data": {
      "text/plain": [
       "1    1808939\n",
       "0     890628\n",
       "Name: sentiment_class, dtype: int64"
      ]
     },
     "execution_count": 26,
     "metadata": {},
     "output_type": "execute_result"
    }
   ],
   "source": [
    "#What are the proportions?\n",
    "mp_tweets['sentiment_class'].value_counts()"
   ]
  },
  {
   "cell_type": "code",
   "execution_count": 27,
   "metadata": {
    "collapsed": false
   },
   "outputs": [
    {
     "name": "stderr",
     "output_type": "stream",
     "text": [
      "/Applications/anaconda/lib/python3.5/site-packages/seaborn/categorical.py:1428: FutureWarning: remove_na is deprecated and is a private function. Do not use.\n",
      "  stat_data = remove_na(group_data)\n"
     ]
    },
    {
     "data": {
      "text/plain": [
       "<matplotlib.text.Text at 0x14ee263c8>"
      ]
     },
     "execution_count": 27,
     "metadata": {},
     "output_type": "execute_result"
    },
    {
     "data": {
      "image/png": "[encoded data removed]",
      "text/plain": [
       "<matplotlib.figure.Figure at 0x1b4b0c7f0>"
      ]
     },
     "metadata": {},
     "output_type": "display_data"
    }
   ],
   "source": [
    "# Look on a per party basis\n",
    "# Look at the mean number of positive tweets for each party\n",
    "\n",
    "order =list(mp_tweets.groupby('party_new').mean()['sentiment_class'].sort_values(ascending=True).index)\n",
    "\n",
    "fig, ax = plt.subplots(figsize=(15,7))\n",
    "\n",
    "sns.barplot(x='party_new', y='sentiment_class', data=mp_tweets, order=order)\n",
    "\n",
    "plt.title('Proportion of Positive Sentiment Tweets Per Party')\n",
    "plt.xlabel('Party')\n",
    "plt.ylabel('Proportion of Positive Sentiment Tweets')"
   ]
  },
  {
   "cell_type": "markdown",
   "metadata": {},
   "source": [
    "### Sentiment Change Over Time"
   ]
  },
  {
   "cell_type": "code",
   "execution_count": 28,
   "metadata": {
    "collapsed": false
   },
   "outputs": [],
   "source": [
    "mp_tweets['date'] = pd.to_datetime(mp_tweets['date'])\n",
    "\n",
    "def get_day_of_week(row):\n",
    "    \n",
    "    return row['date'].weekday()\n",
    "\n",
    "def get_hour_of_day(row):\n",
    "    \n",
    "    return row['date'].hour\n",
    "    \n",
    "def year_month(row):\n",
    "    \n",
    "    return '{year}-{month}'.format(year=row['date'].year, month=row['date'].month)\n",
    "\n",
    "def unique_day(row):\n",
    "    \n",
    "    return str(row['date'].date())\n",
    "\n",
    "mp_tweets['day'] = mp_tweets[['date']].apply(get_day_of_week, axis=1)\n",
    "mp_tweets['hour'] = mp_tweets[['date']].apply(get_hour_of_day, axis=1)\n",
    "mp_tweets['year_month'] = mp_tweets[['date']].apply(year_month, axis=1)\n",
    "mp_tweets['unique_day'] = mp_tweets[['date']].apply(unique_day, axis=1)"
   ]
  },
  {
   "cell_type": "code",
   "execution_count": 29,
   "metadata": {
    "collapsed": false
   },
   "outputs": [],
   "source": [
    "grouped = mp_tweets[['sentiment_class', 'year_month', 'party_new']].groupby(['year_month', 'party_new']).mean()"
   ]
  },
  {
   "cell_type": "code",
   "execution_count": 30,
   "metadata": {
    "collapsed": false
   },
   "outputs": [
    {
     "data": {
      "text/html": [
       "<div>\n",
       "<style scoped>\n",
       "    .dataframe tbody tr th:only-of-type {\n",
       "        vertical-align: middle;\n",
       "    }\n",
       "\n",
       "    .dataframe tbody tr th {\n",
       "        vertical-align: top;\n",
       "    }\n",
       "\n",
       "    .dataframe thead th {\n",
       "        text-align: right;\n",
       "    }\n",
       "</style>\n",
       "<table border=\"1\" class=\"dataframe\">\n",
       "  <thead>\n",
       "    <tr style=\"text-align: right;\">\n",
       "      <th></th>\n",
       "      <th></th>\n",
       "      <th>sentiment_class</th>\n",
       "    </tr>\n",
       "    <tr>\n",
       "      <th>year_month</th>\n",
       "      <th>party_new</th>\n",
       "      <th></th>\n",
       "    </tr>\n",
       "  </thead>\n",
       "  <tbody>\n",
       "    <tr>\n",
       "      <th>2007-12</th>\n",
       "      <th>Labour</th>\n",
       "      <td>0.769231</td>\n",
       "    </tr>\n",
       "    <tr>\n",
       "      <th>2008-1</th>\n",
       "      <th>Labour</th>\n",
       "      <td>0.659091</td>\n",
       "    </tr>\n",
       "    <tr>\n",
       "      <th rowspan=\"3\" valign=\"top\">2008-10</th>\n",
       "      <th>Conservative</th>\n",
       "      <td>0.636364</td>\n",
       "    </tr>\n",
       "    <tr>\n",
       "      <th>Labour</th>\n",
       "      <td>0.652174</td>\n",
       "    </tr>\n",
       "    <tr>\n",
       "      <th>Liberal Democrat</th>\n",
       "      <td>0.391304</td>\n",
       "    </tr>\n",
       "  </tbody>\n",
       "</table>\n",
       "</div>"
      ],
      "text/plain": [
       "                             sentiment_class\n",
       "year_month party_new                        \n",
       "2007-12    Labour                   0.769231\n",
       "2008-1     Labour                   0.659091\n",
       "2008-10    Conservative             0.636364\n",
       "           Labour                   0.652174\n",
       "           Liberal Democrat         0.391304"
      ]
     },
     "execution_count": 30,
     "metadata": {},
     "output_type": "execute_result"
    }
   ],
   "source": [
    "grouped.head()"
   ]
  },
  {
   "cell_type": "code",
   "execution_count": 31,
   "metadata": {
    "collapsed": true
   },
   "outputs": [],
   "source": [
    "grouped.reset_index(inplace=True)\n",
    "grouped['year_month'] =pd.to_datetime(grouped['year_month'])"
   ]
  },
  {
   "cell_type": "code",
   "execution_count": 32,
   "metadata": {
    "collapsed": false
   },
   "outputs": [
    {
     "data": {
      "text/html": [
       "<div>\n",
       "<style scoped>\n",
       "    .dataframe tbody tr th:only-of-type {\n",
       "        vertical-align: middle;\n",
       "    }\n",
       "\n",
       "    .dataframe tbody tr th {\n",
       "        vertical-align: top;\n",
       "    }\n",
       "\n",
       "    .dataframe thead th {\n",
       "        text-align: right;\n",
       "    }\n",
       "</style>\n",
       "<table border=\"1\" class=\"dataframe\">\n",
       "  <thead>\n",
       "    <tr style=\"text-align: right;\">\n",
       "      <th></th>\n",
       "      <th>year_month</th>\n",
       "      <th>party_new</th>\n",
       "      <th>sentiment_class</th>\n",
       "    </tr>\n",
       "  </thead>\n",
       "  <tbody>\n",
       "    <tr>\n",
       "      <th>0</th>\n",
       "      <td>2007-12-01</td>\n",
       "      <td>Labour</td>\n",
       "      <td>0.769231</td>\n",
       "    </tr>\n",
       "    <tr>\n",
       "      <th>1</th>\n",
       "      <td>2008-01-01</td>\n",
       "      <td>Labour</td>\n",
       "      <td>0.659091</td>\n",
       "    </tr>\n",
       "    <tr>\n",
       "      <th>2</th>\n",
       "      <td>2008-10-01</td>\n",
       "      <td>Conservative</td>\n",
       "      <td>0.636364</td>\n",
       "    </tr>\n",
       "    <tr>\n",
       "      <th>3</th>\n",
       "      <td>2008-10-01</td>\n",
       "      <td>Labour</td>\n",
       "      <td>0.652174</td>\n",
       "    </tr>\n",
       "    <tr>\n",
       "      <th>4</th>\n",
       "      <td>2008-10-01</td>\n",
       "      <td>Liberal Democrat</td>\n",
       "      <td>0.391304</td>\n",
       "    </tr>\n",
       "  </tbody>\n",
       "</table>\n",
       "</div>"
      ],
      "text/plain": [
       "  year_month         party_new  sentiment_class\n",
       "0 2007-12-01            Labour         0.769231\n",
       "1 2008-01-01            Labour         0.659091\n",
       "2 2008-10-01      Conservative         0.636364\n",
       "3 2008-10-01            Labour         0.652174\n",
       "4 2008-10-01  Liberal Democrat         0.391304"
      ]
     },
     "execution_count": 32,
     "metadata": {},
     "output_type": "execute_result"
    }
   ],
   "source": [
    "grouped.head()"
   ]
  },
  {
   "cell_type": "code",
   "execution_count": 33,
   "metadata": {
    "collapsed": true
   },
   "outputs": [],
   "source": [
    "grouped = grouped[grouped['year_month'] < '2017-12-01']"
   ]
  },
  {
   "cell_type": "code",
   "execution_count": 34,
   "metadata": {
    "collapsed": true
   },
   "outputs": [],
   "source": [
    "time_data = grouped.pivot_table(index='year_month', columns='party_new')\n",
    "\n",
    "time_data.columns = time_data.columns.droplevel()"
   ]
  },
  {
   "cell_type": "code",
   "execution_count": 35,
   "metadata": {
    "collapsed": false
   },
   "outputs": [
    {
     "data": {
      "text/html": [
       "<div>\n",
       "<style scoped>\n",
       "    .dataframe tbody tr th:only-of-type {\n",
       "        vertical-align: middle;\n",
       "    }\n",
       "\n",
       "    .dataframe tbody tr th {\n",
       "        vertical-align: top;\n",
       "    }\n",
       "\n",
       "    .dataframe thead th {\n",
       "        text-align: right;\n",
       "    }\n",
       "</style>\n",
       "<table border=\"1\" class=\"dataframe\">\n",
       "  <thead>\n",
       "    <tr style=\"text-align: right;\">\n",
       "      <th>party_new</th>\n",
       "      <th>Conservative</th>\n",
       "      <th>Democratic Unionist Party</th>\n",
       "      <th>Green</th>\n",
       "      <th>Labour</th>\n",
       "      <th>Liberal Democrat</th>\n",
       "      <th>Plaid Cymru</th>\n",
       "      <th>Scottish National Party</th>\n",
       "      <th>Sinn Fein</th>\n",
       "    </tr>\n",
       "    <tr>\n",
       "      <th>year_month</th>\n",
       "      <th></th>\n",
       "      <th></th>\n",
       "      <th></th>\n",
       "      <th></th>\n",
       "      <th></th>\n",
       "      <th></th>\n",
       "      <th></th>\n",
       "      <th></th>\n",
       "    </tr>\n",
       "  </thead>\n",
       "  <tbody>\n",
       "    <tr>\n",
       "      <th>2007-12-01</th>\n",
       "      <td>NaN</td>\n",
       "      <td>NaN</td>\n",
       "      <td>NaN</td>\n",
       "      <td>0.769231</td>\n",
       "      <td>NaN</td>\n",
       "      <td>NaN</td>\n",
       "      <td>NaN</td>\n",
       "      <td>NaN</td>\n",
       "    </tr>\n",
       "    <tr>\n",
       "      <th>2008-01-01</th>\n",
       "      <td>NaN</td>\n",
       "      <td>NaN</td>\n",
       "      <td>NaN</td>\n",
       "      <td>0.659091</td>\n",
       "      <td>NaN</td>\n",
       "      <td>NaN</td>\n",
       "      <td>NaN</td>\n",
       "      <td>NaN</td>\n",
       "    </tr>\n",
       "    <tr>\n",
       "      <th>2008-02-01</th>\n",
       "      <td>NaN</td>\n",
       "      <td>NaN</td>\n",
       "      <td>NaN</td>\n",
       "      <td>0.730769</td>\n",
       "      <td>NaN</td>\n",
       "      <td>NaN</td>\n",
       "      <td>NaN</td>\n",
       "      <td>NaN</td>\n",
       "    </tr>\n",
       "    <tr>\n",
       "      <th>2008-03-01</th>\n",
       "      <td>0.615385</td>\n",
       "      <td>NaN</td>\n",
       "      <td>NaN</td>\n",
       "      <td>0.678571</td>\n",
       "      <td>NaN</td>\n",
       "      <td>NaN</td>\n",
       "      <td>NaN</td>\n",
       "      <td>NaN</td>\n",
       "    </tr>\n",
       "    <tr>\n",
       "      <th>2008-04-01</th>\n",
       "      <td>0.516129</td>\n",
       "      <td>NaN</td>\n",
       "      <td>NaN</td>\n",
       "      <td>0.705882</td>\n",
       "      <td>NaN</td>\n",
       "      <td>NaN</td>\n",
       "      <td>NaN</td>\n",
       "      <td>NaN</td>\n",
       "    </tr>\n",
       "  </tbody>\n",
       "</table>\n",
       "</div>"
      ],
      "text/plain": [
       "party_new   Conservative  Democratic Unionist Party  Green    Labour  \\\n",
       "year_month                                                             \n",
       "2007-12-01           NaN                        NaN    NaN  0.769231   \n",
       "2008-01-01           NaN                        NaN    NaN  0.659091   \n",
       "2008-02-01           NaN                        NaN    NaN  0.730769   \n",
       "2008-03-01      0.615385                        NaN    NaN  0.678571   \n",
       "2008-04-01      0.516129                        NaN    NaN  0.705882   \n",
       "\n",
       "party_new   Liberal Democrat  Plaid Cymru  Scottish National Party  Sinn Fein  \n",
       "year_month                                                                     \n",
       "2007-12-01               NaN          NaN                      NaN        NaN  \n",
       "2008-01-01               NaN          NaN                      NaN        NaN  \n",
       "2008-02-01               NaN          NaN                      NaN        NaN  \n",
       "2008-03-01               NaN          NaN                      NaN        NaN  \n",
       "2008-04-01               NaN          NaN                      NaN        NaN  "
      ]
     },
     "execution_count": 35,
     "metadata": {},
     "output_type": "execute_result"
    }
   ],
   "source": [
    "time_data.head()"
   ]
  },
  {
   "cell_type": "code",
   "execution_count": 36,
   "metadata": {
    "collapsed": false
   },
   "outputs": [
    {
     "data": {
      "text/plain": [
       "<matplotlib.legend.Legend at 0x1f339fb38>"
      ]
     },
     "execution_count": 36,
     "metadata": {},
     "output_type": "execute_result"
    },
    {
     "data": {
      "image/png": "[encoded data removed]",
      "text/plain": [
       "<matplotlib.figure.Figure at 0x143c08898>"
      ]
     },
     "metadata": {},
     "output_type": "display_data"
    }
   ],
   "source": [
    "fig, ax = plt.subplots(figsize=(20,10))\n",
    "colours = ['b', 'r', 'yellow']\n",
    "time_data[['Conservative', 'Labour', 'Scottish National Party']].plot(ax=ax, color=colours,xticks=time_data.index)\n",
    "plt.title('Proportion of Positive Tweets per Month')\n",
    "plt.ylabel('Proportion of Positive Sentiment Tweets')\n",
    "plt.xlabel('Time')\n",
    "plt.ylim(0.2,0.85)\n",
    "plt.legend(title='Party', loc='upper left')"
   ]
  },
  {
   "cell_type": "markdown",
   "metadata": {
    "collapsed": true
   },
   "source": [
    "### Look at Probabilities of Positive Sentiment\n",
    "\n",
    "Above analysis looked at the proportion of positive sentiment tweets. Now let's look at the raw probability."
   ]
  },
  {
   "cell_type": "code",
   "execution_count": 37,
   "metadata": {
    "collapsed": false
   },
   "outputs": [
    {
     "data": {
      "text/html": [
       "<div>\n",
       "<style scoped>\n",
       "    .dataframe tbody tr th:only-of-type {\n",
       "        vertical-align: middle;\n",
       "    }\n",
       "\n",
       "    .dataframe tbody tr th {\n",
       "        vertical-align: top;\n",
       "    }\n",
       "\n",
       "    .dataframe thead th {\n",
       "        text-align: right;\n",
       "    }\n",
       "</style>\n",
       "<table border=\"1\" class=\"dataframe\">\n",
       "  <thead>\n",
       "    <tr style=\"text-align: right;\">\n",
       "      <th></th>\n",
       "      <th>processed_text</th>\n",
       "      <th>positive_prob</th>\n",
       "      <th>user_name</th>\n",
       "      <th>party_new</th>\n",
       "    </tr>\n",
       "  </thead>\n",
       "  <tbody>\n",
       "    <tr>\n",
       "      <th>489541</th>\n",
       "      <td>thanks to  &amp;  for the ff and thank you for following</td>\n",
       "      <td>0.998997</td>\n",
       "      <td>tracey_crouch</td>\n",
       "      <td>Conservative</td>\n",
       "    </tr>\n",
       "    <tr>\n",
       "      <th>2076956</th>\n",
       "      <td>you’re most welcome  . thank you for your kind words.</td>\n",
       "      <td>0.998955</td>\n",
       "      <td>tandhesi</td>\n",
       "      <td>Labour</td>\n",
       "    </tr>\n",
       "    <tr>\n",
       "      <th>830637</th>\n",
       "      <td>you're very welcome and thanks for your support</td>\n",
       "      <td>0.998669</td>\n",
       "      <td>benpbradshaw</td>\n",
       "      <td>Labour</td>\n",
       "    </tr>\n",
       "    <tr>\n",
       "      <th>2087547</th>\n",
       "      <td>\"  :  thanks for the follow.\" / you're very welcome - thanks for having me!</td>\n",
       "      <td>0.998606</td>\n",
       "      <td>djwarburton</td>\n",
       "      <td>Conservative</td>\n",
       "    </tr>\n",
       "    <tr>\n",
       "      <th>88642</th>\n",
       "      <td>\"  : thank you for the follow  \" you're welcome. thanks for the encouraging work you do!</td>\n",
       "      <td>0.998504</td>\n",
       "      <td>grobinsondup</td>\n",
       "      <td>Democratic Unionist Party</td>\n",
       "    </tr>\n",
       "    <tr>\n",
       "      <th>530247</th>\n",
       "      <td>you're welcome and thank you.</td>\n",
       "      <td>0.998484</td>\n",
       "      <td>tobyperkinsmp</td>\n",
       "      <td>Labour</td>\n",
       "    </tr>\n",
       "    <tr>\n",
       "      <th>2428867</th>\n",
       "      <td>you're welcome - and thank you!</td>\n",
       "      <td>0.998484</td>\n",
       "      <td>helenjonesmp</td>\n",
       "      <td>Labour</td>\n",
       "    </tr>\n",
       "    <tr>\n",
       "      <th>834632</th>\n",
       "      <td>you are most welcome and thanks for coming</td>\n",
       "      <td>0.998461</td>\n",
       "      <td>benpbradshaw</td>\n",
       "      <td>Labour</td>\n",
       "    </tr>\n",
       "    <tr>\n",
       "      <th>992574</th>\n",
       "      <td>your welcome, my pleasure</td>\n",
       "      <td>0.998431</td>\n",
       "      <td>brandonlewis</td>\n",
       "      <td>Conservative</td>\n",
       "    </tr>\n",
       "    <tr>\n",
       "      <th>877905</th>\n",
       "      <td>you are most welcome!! and thank you back! ;-)</td>\n",
       "      <td>0.998414</td>\n",
       "      <td>ianmearnsmp</td>\n",
       "      <td>Labour</td>\n",
       "    </tr>\n",
       "  </tbody>\n",
       "</table>\n",
       "</div>"
      ],
      "text/plain": [
       "                                                                                   processed_text  \\\n",
       "489541   thanks to  &  for the ff and thank you for following                                       \n",
       "2076956  you’re most welcome  . thank you for your kind words.                                      \n",
       "830637   you're very welcome and thanks for your support                                            \n",
       "2087547  \"  :  thanks for the follow.\" / you're very welcome - thanks for having me!                \n",
       "88642    \"  : thank you for the follow  \" you're welcome. thanks for the encouraging work you do!   \n",
       "530247    you're welcome and thank you.                                                             \n",
       "2428867  you're welcome - and thank you!                                                            \n",
       "834632    you are most welcome and thanks for coming                                                \n",
       "992574    your welcome, my pleasure                                                                 \n",
       "877905    you are most welcome!! and thank you back! ;-)                                            \n",
       "\n",
       "         positive_prob      user_name                  party_new  \n",
       "489541   0.998997       tracey_crouch  Conservative               \n",
       "2076956  0.998955       tandhesi       Labour                     \n",
       "830637   0.998669       benpbradshaw   Labour                     \n",
       "2087547  0.998606       djwarburton    Conservative               \n",
       "88642    0.998504       grobinsondup   Democratic Unionist Party  \n",
       "530247   0.998484       tobyperkinsmp  Labour                     \n",
       "2428867  0.998484       helenjonesmp   Labour                     \n",
       "834632   0.998461       benpbradshaw   Labour                     \n",
       "992574   0.998431       brandonlewis   Conservative               \n",
       "877905   0.998414       ianmearnsmp    Labour                     "
      ]
     },
     "execution_count": 37,
     "metadata": {},
     "output_type": "execute_result"
    }
   ],
   "source": [
    "# Most positive tweets\n",
    "pd.set_option('display.max_colwidth',-1)\n",
    "\n",
    "mp_tweets[['processed_text', 'positive_prob', 'user_name', 'party_new']].sort_values('positive_prob', ascending=False).head(10)"
   ]
  },
  {
   "cell_type": "code",
   "execution_count": 38,
   "metadata": {
    "collapsed": false
   },
   "outputs": [
    {
     "data": {
      "text/html": [
       "<div>\n",
       "<style scoped>\n",
       "    .dataframe tbody tr th:only-of-type {\n",
       "        vertical-align: middle;\n",
       "    }\n",
       "\n",
       "    .dataframe tbody tr th {\n",
       "        vertical-align: top;\n",
       "    }\n",
       "\n",
       "    .dataframe thead th {\n",
       "        text-align: right;\n",
       "    }\n",
       "</style>\n",
       "<table border=\"1\" class=\"dataframe\">\n",
       "  <thead>\n",
       "    <tr style=\"text-align: right;\">\n",
       "      <th></th>\n",
       "      <th>processed_text</th>\n",
       "      <th>positive_prob</th>\n",
       "      <th>user_name</th>\n",
       "      <th>party_new</th>\n",
       "    </tr>\n",
       "  </thead>\n",
       "  <tbody>\n",
       "    <tr>\n",
       "      <th>1812205</th>\n",
       "      <td>not feeling too great this morning, runny nose and sore throat.</td>\n",
       "      <td>0.003202</td>\n",
       "      <td>andrew4pendle</td>\n",
       "      <td>Conservative</td>\n",
       "    </tr>\n",
       "    <tr>\n",
       "      <th>747330</th>\n",
       "      <td>just found out that sadly my mum has broken her arm, and is upset at not being able to go running for a few weeks (no thatcher jokes pls!)</td>\n",
       "      <td>0.003717</td>\n",
       "      <td>joswinson</td>\n",
       "      <td>Liberal Democrat</td>\n",
       "    </tr>\n",
       "    <tr>\n",
       "      <th>258166</th>\n",
       "      <td>very sad news. my condolences goes out to the families in brent .</td>\n",
       "      <td>0.004175</td>\n",
       "      <td>dawnbutlerbrent</td>\n",
       "      <td>Labour</td>\n",
       "    </tr>\n",
       "    <tr>\n",
       "      <th>1229583</th>\n",
       "      <td>have a cold, pounding headache and still feel fragile after being sick through the night. :-(</td>\n",
       "      <td>0.004299</td>\n",
       "      <td>wesstreeting</td>\n",
       "      <td>Labour</td>\n",
       "    </tr>\n",
       "    <tr>\n",
       "      <th>895778</th>\n",
       "      <td>argh -  has been ill since sunday, and now i'm starting to feel shivvery with sore throat. not good. :-(</td>\n",
       "      <td>0.004379</td>\n",
       "      <td>alisonthewliss</td>\n",
       "      <td>Scottish National Party</td>\n",
       "    </tr>\n",
       "    <tr>\n",
       "      <th>1580561</th>\n",
       "      <td>very poorly office tonight while waiting on votes. i have a bad cold and sore ankle after i fell down the stairs this afternoon, and  has food poisoning. avoid!</td>\n",
       "      <td>0.004475</td>\n",
       "      <td>danirowley</td>\n",
       "      <td>Labour</td>\n",
       "    </tr>\n",
       "    <tr>\n",
       "      <th>804518</th>\n",
       "      <td>my hayfever is killing me.</td>\n",
       "      <td>0.004528</td>\n",
       "      <td>kateosamor</td>\n",
       "      <td>Labour</td>\n",
       "    </tr>\n",
       "    <tr>\n",
       "      <th>973747</th>\n",
       "      <td>so terribly sad to hear  has passed away. sincere condolences to his family and close friends. 2015 lab mps shocked &amp; saddened.</td>\n",
       "      <td>0.004720</td>\n",
       "      <td>onnmel</td>\n",
       "      <td>Labour</td>\n",
       "    </tr>\n",
       "    <tr>\n",
       "      <th>1517110</th>\n",
       "      <td>oh no that's awful, so sorry</td>\n",
       "      <td>0.004811</td>\n",
       "      <td>hannahb4livimp</td>\n",
       "      <td>Scottish National Party</td>\n",
       "    </tr>\n",
       "    <tr>\n",
       "      <th>969844</th>\n",
       "      <td>such sad news, my condolences to his fiancé and his family</td>\n",
       "      <td>0.004919</td>\n",
       "      <td>toniaantoniazzi</td>\n",
       "      <td>Labour</td>\n",
       "    </tr>\n",
       "  </tbody>\n",
       "</table>\n",
       "</div>"
      ],
      "text/plain": [
       "                                                                                                                                                           processed_text  \\\n",
       "1812205  not feeling too great this morning, runny nose and sore throat.                                                                                                    \n",
       "747330   just found out that sadly my mum has broken her arm, and is upset at not being able to go running for a few weeks (no thatcher jokes pls!)                         \n",
       "258166   very sad news. my condolences goes out to the families in brent .                                                                                                  \n",
       "1229583  have a cold, pounding headache and still feel fragile after being sick through the night. :-(                                                                      \n",
       "895778   argh -  has been ill since sunday, and now i'm starting to feel shivvery with sore throat. not good. :-(                                                           \n",
       "1580561  very poorly office tonight while waiting on votes. i have a bad cold and sore ankle after i fell down the stairs this afternoon, and  has food poisoning. avoid!   \n",
       "804518   my hayfever is killing me.                                                                                                                                         \n",
       "973747   so terribly sad to hear  has passed away. sincere condolences to his family and close friends. 2015 lab mps shocked & saddened.                                    \n",
       "1517110  oh no that's awful, so sorry                                                                                                                                       \n",
       "969844   such sad news, my condolences to his fiancé and his family                                                                                                         \n",
       "\n",
       "         positive_prob        user_name                party_new  \n",
       "1812205  0.003202       andrew4pendle    Conservative             \n",
       "747330   0.003717       joswinson        Liberal Democrat         \n",
       "258166   0.004175       dawnbutlerbrent  Labour                   \n",
       "1229583  0.004299       wesstreeting     Labour                   \n",
       "895778   0.004379       alisonthewliss   Scottish National Party  \n",
       "1580561  0.004475       danirowley       Labour                   \n",
       "804518   0.004528       kateosamor       Labour                   \n",
       "973747   0.004720       onnmel           Labour                   \n",
       "1517110  0.004811       hannahb4livimp   Scottish National Party  \n",
       "969844   0.004919       toniaantoniazzi  Labour                   "
      ]
     },
     "execution_count": 38,
     "metadata": {},
     "output_type": "execute_result"
    }
   ],
   "source": [
    "# Most positive tweets\n",
    "mp_tweets[['processed_text', 'positive_prob', 'user_name', 'party_new']].sort_values('positive_prob', ascending=True).head(10)"
   ]
  },
  {
   "cell_type": "code",
   "execution_count": 39,
   "metadata": {
    "collapsed": false
   },
   "outputs": [
    {
     "name": "stderr",
     "output_type": "stream",
     "text": [
      "/Applications/anaconda/lib/python3.5/site-packages/seaborn/categorical.py:1428: FutureWarning: remove_na is deprecated and is a private function. Do not use.\n",
      "  stat_data = remove_na(group_data)\n"
     ]
    },
    {
     "data": {
      "text/plain": [
       "<matplotlib.text.Text at 0x16b2fae80>"
      ]
     },
     "execution_count": 39,
     "metadata": {},
     "output_type": "execute_result"
    },
    {
     "data": {
      "image/png": "[encoded data removed]",
      "text/plain": [
       "<matplotlib.figure.Figure at 0x143c2e390>"
      ]
     },
     "metadata": {},
     "output_type": "display_data"
    }
   ],
   "source": [
    "# Really seems to be classifying those tweets well!\n",
    "\n",
    "# Look on a per party basis to see if the probability looks difference from the class based figure\n",
    "\n",
    "order =list(mp_tweets.groupby('party_new').mean()['positive_prob'].sort_values(ascending=True).index)\n",
    "\n",
    "fig, ax = plt.subplots(figsize=(15,7))\n",
    "\n",
    "sns.barplot(x='party_new', y='positive_prob', data=mp_tweets, order=order)\n",
    "\n",
    "plt.title('Average Probability of Positive Sentiment Per Party')\n",
    "plt.xlabel('Party')\n",
    "plt.ylabel('Average Probability of Positive Sentiment')"
   ]
  },
  {
   "cell_type": "code",
   "execution_count": 40,
   "metadata": {
    "collapsed": false
   },
   "outputs": [
    {
     "data": {
      "text/html": [
       "<div>\n",
       "<style scoped>\n",
       "    .dataframe tbody tr th:only-of-type {\n",
       "        vertical-align: middle;\n",
       "    }\n",
       "\n",
       "    .dataframe tbody tr th {\n",
       "        vertical-align: top;\n",
       "    }\n",
       "\n",
       "    .dataframe thead th {\n",
       "        text-align: right;\n",
       "    }\n",
       "</style>\n",
       "<table border=\"1\" class=\"dataframe\">\n",
       "  <thead>\n",
       "    <tr style=\"text-align: right;\">\n",
       "      <th></th>\n",
       "      <th>retweets</th>\n",
       "      <th>favourites</th>\n",
       "      <th>replies</th>\n",
       "      <th>positive_prob</th>\n",
       "    </tr>\n",
       "  </thead>\n",
       "  <tbody>\n",
       "    <tr>\n",
       "      <th>retweets</th>\n",
       "      <td>1.000000</td>\n",
       "      <td>0.926310</td>\n",
       "      <td>0.550505</td>\n",
       "      <td>-0.022989</td>\n",
       "    </tr>\n",
       "    <tr>\n",
       "      <th>favourites</th>\n",
       "      <td>0.926310</td>\n",
       "      <td>1.000000</td>\n",
       "      <td>0.520833</td>\n",
       "      <td>-0.010831</td>\n",
       "    </tr>\n",
       "    <tr>\n",
       "      <th>replies</th>\n",
       "      <td>0.550505</td>\n",
       "      <td>0.520833</td>\n",
       "      <td>1.000000</td>\n",
       "      <td>-0.026004</td>\n",
       "    </tr>\n",
       "    <tr>\n",
       "      <th>positive_prob</th>\n",
       "      <td>-0.022989</td>\n",
       "      <td>-0.010831</td>\n",
       "      <td>-0.026004</td>\n",
       "      <td>1.000000</td>\n",
       "    </tr>\n",
       "  </tbody>\n",
       "</table>\n",
       "</div>"
      ],
      "text/plain": [
       "               retweets  favourites   replies  positive_prob\n",
       "retweets       1.000000  0.926310    0.550505 -0.022989     \n",
       "favourites     0.926310  1.000000    0.520833 -0.010831     \n",
       "replies        0.550505  0.520833    1.000000 -0.026004     \n",
       "positive_prob -0.022989 -0.010831   -0.026004  1.000000     "
      ]
     },
     "execution_count": 40,
     "metadata": {},
     "output_type": "execute_result"
    }
   ],
   "source": [
    "# Does sentiment correlate with anything?\n",
    "\n",
    "\n",
    "mp_tweets[['retweets','favourites','replies','positive_prob']].corr()"
   ]
  },
  {
   "cell_type": "markdown",
   "metadata": {},
   "source": [
    "Doesn't look like it does! A slight negative correlation if anything.\n",
    "\n",
    "Now let's look at any correlations between the time the tweet occured and sentiment"
   ]
  },
  {
   "cell_type": "code",
   "execution_count": 41,
   "metadata": {
    "collapsed": true
   },
   "outputs": [],
   "source": [
    "time_df = mp_tweets.pivot_table(values='positive_prob', index='day', columns='hour')"
   ]
  },
  {
   "cell_type": "code",
   "execution_count": 42,
   "metadata": {
    "collapsed": false
   },
   "outputs": [
    {
     "data": {
      "text/plain": [
       "<matplotlib.text.Text at 0x1683caef0>"
      ]
     },
     "execution_count": 42,
     "metadata": {},
     "output_type": "execute_result"
    },
    {
     "data": {
      "image/png": "[encoded data removed]",
      "text/plain": [
       "<matplotlib.figure.Figure at 0x16b330e10>"
      ]
     },
     "metadata": {},
     "output_type": "display_data"
    }
   ],
   "source": [
    "index = ['Monday',\n",
    "        'Tuesday',\n",
    "        'Wednesday',\n",
    "        'Thursday',\n",
    "        'Friday',\n",
    "        'Saturday',\n",
    "        'Sunday']\n",
    "\n",
    "time_df.index =index\n",
    "\n",
    "fig, ax = plt.subplots(figsize=(10,5))\n",
    "\n",
    "sns.heatmap(data=time_df)\n",
    "\n",
    "plt.title('Mean Probability of Positive Sentiment')"
   ]
  },
  {
   "cell_type": "code",
   "execution_count": 43,
   "metadata": {
    "collapsed": false
   },
   "outputs": [
    {
     "data": {
      "text/plain": [
       "<matplotlib.text.Text at 0x16abc8a20>"
      ]
     },
     "execution_count": 43,
     "metadata": {},
     "output_type": "execute_result"
    },
    {
     "data": {
      "image/png": "[encoded data removed]",
      "text/plain": [
       "<matplotlib.figure.Figure at 0x143c29198>"
      ]
     },
     "metadata": {},
     "output_type": "display_data"
    }
   ],
   "source": [
    "# by hour of the day\n",
    "\n",
    "grouped = mp_tweets[['positive_prob', 'hour']].groupby('hour').mean()\n",
    "fig, ax = plt.subplots(figsize=(15,7))\n",
    "\n",
    "grouped.plot(ax=ax)\n",
    "plt.title('Probability of Positive Sentiment by Hour of Day')\n",
    "plt.xticks(np.arange(24))\n",
    "plt.ylabel('Probability of Positive Sentiment')"
   ]
  },
  {
   "cell_type": "markdown",
   "metadata": {},
   "source": [
    "### Worst and Best Days"
   ]
  },
  {
   "cell_type": "code",
   "execution_count": 44,
   "metadata": {
    "collapsed": false
   },
   "outputs": [],
   "source": [
    "# #only consider dates after 2010 when we have a lot of data\n",
    "filtered_df = mp_tweets[(mp_tweets['date'] > '2010-01-01') & (mp_tweets['date'] < '2017-12-20')] "
   ]
  },
  {
   "cell_type": "code",
   "execution_count": 45,
   "metadata": {
    "collapsed": true
   },
   "outputs": [],
   "source": [
    "grouped_mean = filtered_df.groupby('unique_day').mean()\n",
    "grouped_count = filtered_df.groupby('unique_day').count() #Check we don't just have a few tweets which throw us off"
   ]
  },
  {
   "cell_type": "code",
   "execution_count": 46,
   "metadata": {
    "collapsed": false
   },
   "outputs": [],
   "source": [
    "grouped = grouped_mean.merge(grouped_count[['retweets']], left_index=True, right_index=True)"
   ]
  },
  {
   "cell_type": "code",
   "execution_count": 47,
   "metadata": {
    "collapsed": false
   },
   "outputs": [
    {
     "data": {
      "text/html": [
       "<div>\n",
       "<style scoped>\n",
       "    .dataframe tbody tr th:only-of-type {\n",
       "        vertical-align: middle;\n",
       "    }\n",
       "\n",
       "    .dataframe tbody tr th {\n",
       "        vertical-align: top;\n",
       "    }\n",
       "\n",
       "    .dataframe thead th {\n",
       "        text-align: right;\n",
       "    }\n",
       "</style>\n",
       "<table border=\"1\" class=\"dataframe\">\n",
       "  <thead>\n",
       "    <tr style=\"text-align: right;\">\n",
       "      <th></th>\n",
       "      <th>tweet_id</th>\n",
       "      <th>retweets_x</th>\n",
       "      <th>favourites</th>\n",
       "      <th>replies</th>\n",
       "      <th>sentiment_class</th>\n",
       "      <th>positive_prob</th>\n",
       "      <th>day</th>\n",
       "      <th>hour</th>\n",
       "      <th>retweets_y</th>\n",
       "    </tr>\n",
       "    <tr>\n",
       "      <th>unique_day</th>\n",
       "      <th></th>\n",
       "      <th></th>\n",
       "      <th></th>\n",
       "      <th></th>\n",
       "      <th></th>\n",
       "      <th></th>\n",
       "      <th></th>\n",
       "      <th></th>\n",
       "      <th></th>\n",
       "    </tr>\n",
       "  </thead>\n",
       "  <tbody>\n",
       "    <tr>\n",
       "      <th>2017-05-23</th>\n",
       "      <td>8.669562e+17</td>\n",
       "      <td>60.054204</td>\n",
       "      <td>159.465708</td>\n",
       "      <td>6.970133</td>\n",
       "      <td>0.305310</td>\n",
       "      <td>0.365485</td>\n",
       "      <td>1.0</td>\n",
       "      <td>10.469027</td>\n",
       "      <td>904</td>\n",
       "    </tr>\n",
       "    <tr>\n",
       "      <th>2010-06-22</th>\n",
       "      <td>1.677475e+10</td>\n",
       "      <td>3.005000</td>\n",
       "      <td>0.107500</td>\n",
       "      <td>0.000000</td>\n",
       "      <td>0.480000</td>\n",
       "      <td>0.494931</td>\n",
       "      <td>1.0</td>\n",
       "      <td>14.565000</td>\n",
       "      <td>400</td>\n",
       "    </tr>\n",
       "    <tr>\n",
       "      <th>2016-06-16</th>\n",
       "      <td>7.434449e+17</td>\n",
       "      <td>32.196657</td>\n",
       "      <td>42.824484</td>\n",
       "      <td>2.317109</td>\n",
       "      <td>0.502950</td>\n",
       "      <td>0.498583</td>\n",
       "      <td>3.0</td>\n",
       "      <td>14.635693</td>\n",
       "      <td>2034</td>\n",
       "    </tr>\n",
       "    <tr>\n",
       "      <th>2011-08-08</th>\n",
       "      <td>1.005759e+17</td>\n",
       "      <td>12.150209</td>\n",
       "      <td>0.343533</td>\n",
       "      <td>3.472879</td>\n",
       "      <td>0.490960</td>\n",
       "      <td>0.502334</td>\n",
       "      <td>0.0</td>\n",
       "      <td>15.091794</td>\n",
       "      <td>719</td>\n",
       "    </tr>\n",
       "    <tr>\n",
       "      <th>2016-03-22</th>\n",
       "      <td>7.122761e+17</td>\n",
       "      <td>12.564586</td>\n",
       "      <td>12.661103</td>\n",
       "      <td>2.325109</td>\n",
       "      <td>0.511611</td>\n",
       "      <td>0.502497</td>\n",
       "      <td>1.0</td>\n",
       "      <td>13.404935</td>\n",
       "      <td>1378</td>\n",
       "    </tr>\n",
       "    <tr>\n",
       "      <th>2017-06-04</th>\n",
       "      <td>8.713481e+17</td>\n",
       "      <td>134.896200</td>\n",
       "      <td>308.293791</td>\n",
       "      <td>19.479147</td>\n",
       "      <td>0.501390</td>\n",
       "      <td>0.502631</td>\n",
       "      <td>6.0</td>\n",
       "      <td>13.325301</td>\n",
       "      <td>1079</td>\n",
       "    </tr>\n",
       "    <tr>\n",
       "      <th>2012-03-21</th>\n",
       "      <td>1.824838e+17</td>\n",
       "      <td>3.479014</td>\n",
       "      <td>0.139907</td>\n",
       "      <td>1.502332</td>\n",
       "      <td>0.499001</td>\n",
       "      <td>0.510738</td>\n",
       "      <td>2.0</td>\n",
       "      <td>14.626249</td>\n",
       "      <td>1501</td>\n",
       "    </tr>\n",
       "    <tr>\n",
       "      <th>2010-01-02</th>\n",
       "      <td>7.300503e+09</td>\n",
       "      <td>0.104000</td>\n",
       "      <td>0.016000</td>\n",
       "      <td>0.000000</td>\n",
       "      <td>0.528000</td>\n",
       "      <td>0.515523</td>\n",
       "      <td>5.0</td>\n",
       "      <td>13.328000</td>\n",
       "      <td>125</td>\n",
       "    </tr>\n",
       "    <tr>\n",
       "      <th>2011-08-09</th>\n",
       "      <td>1.009243e+17</td>\n",
       "      <td>4.005045</td>\n",
       "      <td>0.221998</td>\n",
       "      <td>1.984864</td>\n",
       "      <td>0.533804</td>\n",
       "      <td>0.516395</td>\n",
       "      <td>1.0</td>\n",
       "      <td>14.158426</td>\n",
       "      <td>991</td>\n",
       "    </tr>\n",
       "    <tr>\n",
       "      <th>2010-10-20</th>\n",
       "      <td>2.793615e+10</td>\n",
       "      <td>1.658635</td>\n",
       "      <td>0.060241</td>\n",
       "      <td>0.000000</td>\n",
       "      <td>0.536145</td>\n",
       "      <td>0.518467</td>\n",
       "      <td>2.0</td>\n",
       "      <td>14.885542</td>\n",
       "      <td>498</td>\n",
       "    </tr>\n",
       "  </tbody>\n",
       "</table>\n",
       "</div>"
      ],
      "text/plain": [
       "                tweet_id  retweets_x  favourites    replies  sentiment_class  \\\n",
       "unique_day                                                                     \n",
       "2017-05-23  8.669562e+17  60.054204   159.465708  6.970133   0.305310          \n",
       "2010-06-22  1.677475e+10  3.005000    0.107500    0.000000   0.480000          \n",
       "2016-06-16  7.434449e+17  32.196657   42.824484   2.317109   0.502950          \n",
       "2011-08-08  1.005759e+17  12.150209   0.343533    3.472879   0.490960          \n",
       "2016-03-22  7.122761e+17  12.564586   12.661103   2.325109   0.511611          \n",
       "2017-06-04  8.713481e+17  134.896200  308.293791  19.479147  0.501390          \n",
       "2012-03-21  1.824838e+17  3.479014    0.139907    1.502332   0.499001          \n",
       "2010-01-02  7.300503e+09  0.104000    0.016000    0.000000   0.528000          \n",
       "2011-08-09  1.009243e+17  4.005045    0.221998    1.984864   0.533804          \n",
       "2010-10-20  2.793615e+10  1.658635    0.060241    0.000000   0.536145          \n",
       "\n",
       "            positive_prob  day       hour  retweets_y  \n",
       "unique_day                                             \n",
       "2017-05-23  0.365485       1.0  10.469027  904         \n",
       "2010-06-22  0.494931       1.0  14.565000  400         \n",
       "2016-06-16  0.498583       3.0  14.635693  2034        \n",
       "2011-08-08  0.502334       0.0  15.091794  719         \n",
       "2016-03-22  0.502497       1.0  13.404935  1378        \n",
       "2017-06-04  0.502631       6.0  13.325301  1079        \n",
       "2012-03-21  0.510738       2.0  14.626249  1501        \n",
       "2010-01-02  0.515523       5.0  13.328000  125         \n",
       "2011-08-09  0.516395       1.0  14.158426  991         \n",
       "2010-10-20  0.518467       2.0  14.885542  498         "
      ]
     },
     "execution_count": 47,
     "metadata": {},
     "output_type": "execute_result"
    }
   ],
   "source": [
    "# Worst Days\n",
    "grouped.sort_values('positive_prob').head(10)"
   ]
  },
  {
   "cell_type": "markdown",
   "metadata": {},
   "source": [
    "Some dates stand out here - terror attacks, assassinations, riots and budgets. Bit depressing to be honest."
   ]
  },
  {
   "cell_type": "code",
   "execution_count": 48,
   "metadata": {
    "collapsed": false
   },
   "outputs": [
    {
     "data": {
      "text/html": [
       "<div>\n",
       "<style scoped>\n",
       "    .dataframe tbody tr th:only-of-type {\n",
       "        vertical-align: middle;\n",
       "    }\n",
       "\n",
       "    .dataframe tbody tr th {\n",
       "        vertical-align: top;\n",
       "    }\n",
       "\n",
       "    .dataframe thead th {\n",
       "        text-align: right;\n",
       "    }\n",
       "</style>\n",
       "<table border=\"1\" class=\"dataframe\">\n",
       "  <thead>\n",
       "    <tr style=\"text-align: right;\">\n",
       "      <th></th>\n",
       "      <th>tweet_id</th>\n",
       "      <th>retweets_x</th>\n",
       "      <th>favourites</th>\n",
       "      <th>replies</th>\n",
       "      <th>sentiment_class</th>\n",
       "      <th>positive_prob</th>\n",
       "      <th>day</th>\n",
       "      <th>hour</th>\n",
       "      <th>retweets_y</th>\n",
       "    </tr>\n",
       "    <tr>\n",
       "      <th>unique_day</th>\n",
       "      <th></th>\n",
       "      <th></th>\n",
       "      <th></th>\n",
       "      <th></th>\n",
       "      <th></th>\n",
       "      <th></th>\n",
       "      <th></th>\n",
       "      <th></th>\n",
       "      <th></th>\n",
       "    </tr>\n",
       "  </thead>\n",
       "  <tbody>\n",
       "    <tr>\n",
       "      <th>2015-05-08</th>\n",
       "      <td>5.966440e+17</td>\n",
       "      <td>14.262835</td>\n",
       "      <td>24.600000</td>\n",
       "      <td>3.632695</td>\n",
       "      <td>0.874074</td>\n",
       "      <td>0.767492</td>\n",
       "      <td>4.0</td>\n",
       "      <td>12.386973</td>\n",
       "      <td>3915</td>\n",
       "    </tr>\n",
       "    <tr>\n",
       "      <th>2015-05-09</th>\n",
       "      <td>5.970352e+17</td>\n",
       "      <td>4.720682</td>\n",
       "      <td>5.270789</td>\n",
       "      <td>1.888699</td>\n",
       "      <td>0.855011</td>\n",
       "      <td>0.755711</td>\n",
       "      <td>5.0</td>\n",
       "      <td>14.312154</td>\n",
       "      <td>2345</td>\n",
       "    </tr>\n",
       "    <tr>\n",
       "      <th>2015-05-07</th>\n",
       "      <td>5.962982e+17</td>\n",
       "      <td>9.037223</td>\n",
       "      <td>11.420744</td>\n",
       "      <td>1.716228</td>\n",
       "      <td>0.866792</td>\n",
       "      <td>0.753115</td>\n",
       "      <td>3.0</td>\n",
       "      <td>13.490381</td>\n",
       "      <td>4782</td>\n",
       "    </tr>\n",
       "    <tr>\n",
       "      <th>2017-06-09</th>\n",
       "      <td>8.731327e+17</td>\n",
       "      <td>73.295952</td>\n",
       "      <td>207.839880</td>\n",
       "      <td>12.502849</td>\n",
       "      <td>0.854273</td>\n",
       "      <td>0.749404</td>\n",
       "      <td>4.0</td>\n",
       "      <td>11.513943</td>\n",
       "      <td>3335</td>\n",
       "    </tr>\n",
       "    <tr>\n",
       "      <th>2017-06-08</th>\n",
       "      <td>8.728068e+17</td>\n",
       "      <td>39.730633</td>\n",
       "      <td>92.472804</td>\n",
       "      <td>6.096068</td>\n",
       "      <td>0.848599</td>\n",
       "      <td>0.735259</td>\n",
       "      <td>3.0</td>\n",
       "      <td>13.953143</td>\n",
       "      <td>4247</td>\n",
       "    </tr>\n",
       "    <tr>\n",
       "      <th>2016-06-17</th>\n",
       "      <td>7.437953e+17</td>\n",
       "      <td>6.306052</td>\n",
       "      <td>11.656484</td>\n",
       "      <td>0.963689</td>\n",
       "      <td>0.810951</td>\n",
       "      <td>0.727535</td>\n",
       "      <td>4.0</td>\n",
       "      <td>13.835735</td>\n",
       "      <td>1735</td>\n",
       "    </tr>\n",
       "    <tr>\n",
       "      <th>2017-06-10</th>\n",
       "      <td>8.735289e+17</td>\n",
       "      <td>38.093881</td>\n",
       "      <td>86.696871</td>\n",
       "      <td>7.797758</td>\n",
       "      <td>0.832788</td>\n",
       "      <td>0.727529</td>\n",
       "      <td>5.0</td>\n",
       "      <td>13.745913</td>\n",
       "      <td>2141</td>\n",
       "    </tr>\n",
       "    <tr>\n",
       "      <th>2014-12-25</th>\n",
       "      <td>5.481091e+17</td>\n",
       "      <td>2.745928</td>\n",
       "      <td>3.241042</td>\n",
       "      <td>1.094463</td>\n",
       "      <td>0.872964</td>\n",
       "      <td>0.721010</td>\n",
       "      <td>3.0</td>\n",
       "      <td>13.045603</td>\n",
       "      <td>307</td>\n",
       "    </tr>\n",
       "    <tr>\n",
       "      <th>2015-05-11</th>\n",
       "      <td>5.977722e+17</td>\n",
       "      <td>6.335736</td>\n",
       "      <td>7.641092</td>\n",
       "      <td>2.171988</td>\n",
       "      <td>0.846035</td>\n",
       "      <td>0.720606</td>\n",
       "      <td>0.0</td>\n",
       "      <td>15.114830</td>\n",
       "      <td>1942</td>\n",
       "    </tr>\n",
       "    <tr>\n",
       "      <th>2015-08-17</th>\n",
       "      <td>6.332901e+17</td>\n",
       "      <td>3.330810</td>\n",
       "      <td>3.436790</td>\n",
       "      <td>1.261923</td>\n",
       "      <td>0.801665</td>\n",
       "      <td>0.695247</td>\n",
       "      <td>0.0</td>\n",
       "      <td>15.353520</td>\n",
       "      <td>1321</td>\n",
       "    </tr>\n",
       "  </tbody>\n",
       "</table>\n",
       "</div>"
      ],
      "text/plain": [
       "                tweet_id  retweets_x  favourites    replies  sentiment_class  \\\n",
       "unique_day                                                                     \n",
       "2015-05-08  5.966440e+17  14.262835   24.600000   3.632695   0.874074          \n",
       "2015-05-09  5.970352e+17  4.720682    5.270789    1.888699   0.855011          \n",
       "2015-05-07  5.962982e+17  9.037223    11.420744   1.716228   0.866792          \n",
       "2017-06-09  8.731327e+17  73.295952   207.839880  12.502849  0.854273          \n",
       "2017-06-08  8.728068e+17  39.730633   92.472804   6.096068   0.848599          \n",
       "2016-06-17  7.437953e+17  6.306052    11.656484   0.963689   0.810951          \n",
       "2017-06-10  8.735289e+17  38.093881   86.696871   7.797758   0.832788          \n",
       "2014-12-25  5.481091e+17  2.745928    3.241042    1.094463   0.872964          \n",
       "2015-05-11  5.977722e+17  6.335736    7.641092    2.171988   0.846035          \n",
       "2015-08-17  6.332901e+17  3.330810    3.436790    1.261923   0.801665          \n",
       "\n",
       "            positive_prob  day       hour  retweets_y  \n",
       "unique_day                                             \n",
       "2015-05-08  0.767492       4.0  12.386973  3915        \n",
       "2015-05-09  0.755711       5.0  14.312154  2345        \n",
       "2015-05-07  0.753115       3.0  13.490381  4782        \n",
       "2017-06-09  0.749404       4.0  11.513943  3335        \n",
       "2017-06-08  0.735259       3.0  13.953143  4247        \n",
       "2016-06-17  0.727535       4.0  13.835735  1735        \n",
       "2017-06-10  0.727529       5.0  13.745913  2141        \n",
       "2014-12-25  0.721010       3.0  13.045603  307         \n",
       "2015-05-11  0.720606       0.0  15.114830  1942        \n",
       "2015-08-17  0.695247       0.0  15.353520  1321        "
      ]
     },
     "execution_count": 48,
     "metadata": {},
     "output_type": "execute_result"
    }
   ],
   "source": [
    "#Best days\n",
    "\n",
    "grouped.sort_values('positive_prob', ascending=False).head(10)"
   ]
  },
  {
   "cell_type": "markdown",
   "metadata": {
    "collapsed": true
   },
   "source": [
    "Seem to be around election times. Winning party overwhelms losers?"
   ]
  },
  {
   "cell_type": "markdown",
   "metadata": {},
   "source": [
    "### Individual MP Analysis\n",
    "\n",
    "Let's see whcih MPs have the most positive/negative tweets."
   ]
  },
  {
   "cell_type": "code",
   "execution_count": 66,
   "metadata": {
    "collapsed": false
   },
   "outputs": [],
   "source": [
    "grouped = mp_tweets[['sentiment_class','positive_prob', 'user_name']].groupby('user_name')"
   ]
  },
  {
   "cell_type": "code",
   "execution_count": 67,
   "metadata": {
    "collapsed": false
   },
   "outputs": [],
   "source": [
    "grouped_mean = grouped.mean()\n",
    "grouped_count = grouped.count()"
   ]
  },
  {
   "cell_type": "code",
   "execution_count": 68,
   "metadata": {
    "collapsed": false
   },
   "outputs": [
    {
     "data": {
      "text/html": [
       "<div>\n",
       "<style scoped>\n",
       "    .dataframe tbody tr th:only-of-type {\n",
       "        vertical-align: middle;\n",
       "    }\n",
       "\n",
       "    .dataframe tbody tr th {\n",
       "        vertical-align: top;\n",
       "    }\n",
       "\n",
       "    .dataframe thead th {\n",
       "        text-align: right;\n",
       "    }\n",
       "</style>\n",
       "<table border=\"1\" class=\"dataframe\">\n",
       "  <thead>\n",
       "    <tr style=\"text-align: right;\">\n",
       "      <th></th>\n",
       "      <th>sentiment_class</th>\n",
       "      <th>positive_prob</th>\n",
       "    </tr>\n",
       "  </thead>\n",
       "  <tbody>\n",
       "    <tr>\n",
       "      <th>count</th>\n",
       "      <td>538.000000</td>\n",
       "      <td>538.000000</td>\n",
       "    </tr>\n",
       "    <tr>\n",
       "      <th>mean</th>\n",
       "      <td>0.702223</td>\n",
       "      <td>0.605633</td>\n",
       "    </tr>\n",
       "    <tr>\n",
       "      <th>std</th>\n",
       "      <td>0.092082</td>\n",
       "      <td>0.049116</td>\n",
       "    </tr>\n",
       "    <tr>\n",
       "      <th>min</th>\n",
       "      <td>0.000000</td>\n",
       "      <td>0.434738</td>\n",
       "    </tr>\n",
       "    <tr>\n",
       "      <th>25%</th>\n",
       "      <td>0.642462</td>\n",
       "      <td>0.570941</td>\n",
       "    </tr>\n",
       "    <tr>\n",
       "      <th>50%</th>\n",
       "      <td>0.706042</td>\n",
       "      <td>0.603970</td>\n",
       "    </tr>\n",
       "    <tr>\n",
       "      <th>75%</th>\n",
       "      <td>0.762372</td>\n",
       "      <td>0.635577</td>\n",
       "    </tr>\n",
       "    <tr>\n",
       "      <th>max</th>\n",
       "      <td>1.000000</td>\n",
       "      <td>0.798767</td>\n",
       "    </tr>\n",
       "  </tbody>\n",
       "</table>\n",
       "</div>"
      ],
      "text/plain": [
       "       sentiment_class  positive_prob\n",
       "count       538.000000     538.000000\n",
       "mean          0.702223       0.605633\n",
       "std           0.092082       0.049116\n",
       "min           0.000000       0.434738\n",
       "25%           0.642462       0.570941\n",
       "50%           0.706042       0.603970\n",
       "75%           0.762372       0.635577\n",
       "max           1.000000       0.798767"
      ]
     },
     "execution_count": 68,
     "metadata": {},
     "output_type": "execute_result"
    }
   ],
   "source": [
    "grouped_mean.describe()"
   ]
  },
  {
   "cell_type": "code",
   "execution_count": 92,
   "metadata": {
    "collapsed": false
   },
   "outputs": [
    {
     "data": {
      "text/plain": [
       "<matplotlib.axes._subplots.AxesSubplot at 0x1bc7461d0>"
      ]
     },
     "execution_count": 92,
     "metadata": {},
     "output_type": "execute_result"
    },
    {
     "data": {
      "image/png": "[encoded data removed]",
      "text/plain": [
       "<matplotlib.figure.Figure at 0x1bc756518>"
      ]
     },
     "metadata": {},
     "output_type": "display_data"
    }
   ],
   "source": [
    "#Have a wuick look at the distributions of tweet count among mps\n",
    "\n",
    "plt.title('Distribution of Tweet Count among MPs')\n",
    "plt.xlabel('Tweet Count')\n",
    "\n",
    "sns.distplot(grouped_count['sentiment_class'])"
   ]
  },
  {
   "cell_type": "code",
   "execution_count": 69,
   "metadata": {
    "collapsed": false
   },
   "outputs": [
    {
     "data": {
      "text/plain": [
       "<matplotlib.text.Text at 0x178ff9f98>"
      ]
     },
     "execution_count": 69,
     "metadata": {},
     "output_type": "execute_result"
    },
    {
     "data": {
      "image/png": "[encoded data removed]",
      "text/plain": [
       "<matplotlib.figure.Figure at 0x178ff1898>"
      ]
     },
     "metadata": {},
     "output_type": "display_data"
    }
   ],
   "source": [
    "sns.distplot(grouped_mean['positive_prob'])\n",
    "\n",
    "plt.title('Distribution of Average Sentiment among MPs')\n",
    "plt.xlabel('Mean Probability of being Positive')"
   ]
  },
  {
   "cell_type": "code",
   "execution_count": 89,
   "metadata": {
    "collapsed": false
   },
   "outputs": [],
   "source": [
    "# Create a merged dataframe so we can exclude mps with very low tweet counts if necessary\n",
    "\n",
    "grouped_merged = grouped_mean.merge(grouped_count[['sentiment_class']], left_index=True, right_index=True)"
   ]
  },
  {
   "cell_type": "code",
   "execution_count": 91,
   "metadata": {
    "collapsed": false
   },
   "outputs": [
    {
     "data": {
      "text/html": [
       "<div>\n",
       "<style scoped>\n",
       "    .dataframe tbody tr th:only-of-type {\n",
       "        vertical-align: middle;\n",
       "    }\n",
       "\n",
       "    .dataframe tbody tr th {\n",
       "        vertical-align: top;\n",
       "    }\n",
       "\n",
       "    .dataframe thead th {\n",
       "        text-align: right;\n",
       "    }\n",
       "</style>\n",
       "<table border=\"1\" class=\"dataframe\">\n",
       "  <thead>\n",
       "    <tr style=\"text-align: right;\">\n",
       "      <th></th>\n",
       "      <th>sentiment_class_x</th>\n",
       "      <th>positive_prob</th>\n",
       "      <th>tweet_count</th>\n",
       "    </tr>\n",
       "    <tr>\n",
       "      <th>user_name</th>\n",
       "      <th></th>\n",
       "      <th></th>\n",
       "      <th></th>\n",
       "    </tr>\n",
       "  </thead>\n",
       "  <tbody>\n",
       "    <tr>\n",
       "      <th>abridgen</th>\n",
       "      <td>0.620879</td>\n",
       "      <td>0.563688</td>\n",
       "      <td>546</td>\n",
       "    </tr>\n",
       "    <tr>\n",
       "      <th>acunninghammp</th>\n",
       "      <td>0.553546</td>\n",
       "      <td>0.527888</td>\n",
       "      <td>6910</td>\n",
       "    </tr>\n",
       "    <tr>\n",
       "      <th>adamafriyie</th>\n",
       "      <td>0.797238</td>\n",
       "      <td>0.647312</td>\n",
       "      <td>1376</td>\n",
       "    </tr>\n",
       "    <tr>\n",
       "      <th>adamhollowaymp</th>\n",
       "      <td>0.750000</td>\n",
       "      <td>0.576706</td>\n",
       "      <td>4</td>\n",
       "    </tr>\n",
       "    <tr>\n",
       "      <th>adrianbaileymp</th>\n",
       "      <td>0.766667</td>\n",
       "      <td>0.660328</td>\n",
       "      <td>30</td>\n",
       "    </tr>\n",
       "  </tbody>\n",
       "</table>\n",
       "</div>"
      ],
      "text/plain": [
       "                sentiment_class_x  positive_prob  tweet_count\n",
       "user_name                                                    \n",
       "abridgen                 0.620879       0.563688          546\n",
       "acunninghammp            0.553546       0.527888         6910\n",
       "adamafriyie              0.797238       0.647312         1376\n",
       "adamhollowaymp           0.750000       0.576706            4\n",
       "adrianbaileymp           0.766667       0.660328           30"
      ]
     },
     "execution_count": 91,
     "metadata": {},
     "output_type": "execute_result"
    }
   ],
   "source": [
    "grouped_merged.columns = ['sentiment_class_x', 'positive_prob', 'tweet_count']\n",
    "\n",
    "grouped_merged.head()"
   ]
  },
  {
   "cell_type": "code",
   "execution_count": 96,
   "metadata": {
    "collapsed": false
   },
   "outputs": [
    {
     "data": {
      "text/html": [
       "<div>\n",
       "<style scoped>\n",
       "    .dataframe tbody tr th:only-of-type {\n",
       "        vertical-align: middle;\n",
       "    }\n",
       "\n",
       "    .dataframe tbody tr th {\n",
       "        vertical-align: top;\n",
       "    }\n",
       "\n",
       "    .dataframe thead th {\n",
       "        text-align: right;\n",
       "    }\n",
       "</style>\n",
       "<table border=\"1\" class=\"dataframe\">\n",
       "  <thead>\n",
       "    <tr style=\"text-align: right;\">\n",
       "      <th></th>\n",
       "      <th>sentiment_class_x</th>\n",
       "      <th>positive_prob</th>\n",
       "      <th>tweet_count</th>\n",
       "    </tr>\n",
       "    <tr>\n",
       "      <th>user_name</th>\n",
       "      <th></th>\n",
       "      <th></th>\n",
       "      <th></th>\n",
       "    </tr>\n",
       "  </thead>\n",
       "  <tbody>\n",
       "    <tr>\n",
       "      <th>jonathanlord</th>\n",
       "      <td>0.000000</td>\n",
       "      <td>0.434738</td>\n",
       "      <td>1</td>\n",
       "    </tr>\n",
       "    <tr>\n",
       "      <th>rogergodsiff</th>\n",
       "      <td>0.419856</td>\n",
       "      <td>0.461603</td>\n",
       "      <td>836</td>\n",
       "    </tr>\n",
       "    <tr>\n",
       "      <th>billcashmp</th>\n",
       "      <td>0.419355</td>\n",
       "      <td>0.479382</td>\n",
       "      <td>93</td>\n",
       "    </tr>\n",
       "    <tr>\n",
       "      <th>spellar</th>\n",
       "      <td>0.478265</td>\n",
       "      <td>0.489714</td>\n",
       "      <td>9616</td>\n",
       "    </tr>\n",
       "    <tr>\n",
       "      <th>johnmannmp</th>\n",
       "      <td>0.486601</td>\n",
       "      <td>0.497804</td>\n",
       "      <td>4963</td>\n",
       "    </tr>\n",
       "  </tbody>\n",
       "</table>\n",
       "</div>"
      ],
      "text/plain": [
       "              sentiment_class_x  positive_prob  tweet_count\n",
       "user_name                                                  \n",
       "jonathanlord           0.000000       0.434738            1\n",
       "rogergodsiff           0.419856       0.461603          836\n",
       "billcashmp             0.419355       0.479382           93\n",
       "spellar                0.478265       0.489714         9616\n",
       "johnmannmp             0.486601       0.497804         4963"
      ]
     },
     "execution_count": 96,
     "metadata": {},
     "output_type": "execute_result"
    }
   ],
   "source": [
    "grouped_merged.sort_values('positive_prob').head()"
   ]
  },
  {
   "cell_type": "code",
   "execution_count": 97,
   "metadata": {
    "collapsed": true
   },
   "outputs": [],
   "source": [
    "#lets exclude mps with < 80 tweets\n",
    "\n",
    "grouped_merged = grouped_merged[grouped_merged['tweet_count'] >79]"
   ]
  },
  {
   "cell_type": "code",
   "execution_count": 98,
   "metadata": {
    "collapsed": false
   },
   "outputs": [
    {
     "data": {
      "text/html": [
       "<div>\n",
       "<style scoped>\n",
       "    .dataframe tbody tr th:only-of-type {\n",
       "        vertical-align: middle;\n",
       "    }\n",
       "\n",
       "    .dataframe tbody tr th {\n",
       "        vertical-align: top;\n",
       "    }\n",
       "\n",
       "    .dataframe thead th {\n",
       "        text-align: right;\n",
       "    }\n",
       "</style>\n",
       "<table border=\"1\" class=\"dataframe\">\n",
       "  <thead>\n",
       "    <tr style=\"text-align: right;\">\n",
       "      <th></th>\n",
       "      <th>sentiment_class_x</th>\n",
       "      <th>positive_prob</th>\n",
       "      <th>tweet_count</th>\n",
       "    </tr>\n",
       "    <tr>\n",
       "      <th>user_name</th>\n",
       "      <th></th>\n",
       "      <th></th>\n",
       "      <th></th>\n",
       "    </tr>\n",
       "  </thead>\n",
       "  <tbody>\n",
       "    <tr>\n",
       "      <th>rogergodsiff</th>\n",
       "      <td>0.419856</td>\n",
       "      <td>0.461603</td>\n",
       "      <td>836</td>\n",
       "    </tr>\n",
       "    <tr>\n",
       "      <th>billcashmp</th>\n",
       "      <td>0.419355</td>\n",
       "      <td>0.479382</td>\n",
       "      <td>93</td>\n",
       "    </tr>\n",
       "    <tr>\n",
       "      <th>spellar</th>\n",
       "      <td>0.478265</td>\n",
       "      <td>0.489714</td>\n",
       "      <td>9616</td>\n",
       "    </tr>\n",
       "    <tr>\n",
       "      <th>johnmannmp</th>\n",
       "      <td>0.486601</td>\n",
       "      <td>0.497804</td>\n",
       "      <td>4963</td>\n",
       "    </tr>\n",
       "    <tr>\n",
       "      <th>bwallacemp</th>\n",
       "      <td>0.504367</td>\n",
       "      <td>0.506027</td>\n",
       "      <td>1832</td>\n",
       "    </tr>\n",
       "    <tr>\n",
       "      <th>paulflynnmp</th>\n",
       "      <td>0.517097</td>\n",
       "      <td>0.508335</td>\n",
       "      <td>9066</td>\n",
       "    </tr>\n",
       "    <tr>\n",
       "      <th>grahamjones_mp</th>\n",
       "      <td>0.521781</td>\n",
       "      <td>0.511033</td>\n",
       "      <td>7231</td>\n",
       "    </tr>\n",
       "    <tr>\n",
       "      <th>mpritcharduk</th>\n",
       "      <td>0.531851</td>\n",
       "      <td>0.514246</td>\n",
       "      <td>2339</td>\n",
       "    </tr>\n",
       "    <tr>\n",
       "      <th>chrislesliemp</th>\n",
       "      <td>0.506657</td>\n",
       "      <td>0.514957</td>\n",
       "      <td>1352</td>\n",
       "    </tr>\n",
       "    <tr>\n",
       "      <th>imran_hussainmp</th>\n",
       "      <td>0.546823</td>\n",
       "      <td>0.516175</td>\n",
       "      <td>598</td>\n",
       "    </tr>\n",
       "    <tr>\n",
       "      <th>robertsyms</th>\n",
       "      <td>0.562798</td>\n",
       "      <td>0.519998</td>\n",
       "      <td>629</td>\n",
       "    </tr>\n",
       "    <tr>\n",
       "      <th>gedk</th>\n",
       "      <td>0.555630</td>\n",
       "      <td>0.522486</td>\n",
       "      <td>13473</td>\n",
       "    </tr>\n",
       "    <tr>\n",
       "      <th>jackiedp</th>\n",
       "      <td>0.548023</td>\n",
       "      <td>0.527485</td>\n",
       "      <td>2478</td>\n",
       "    </tr>\n",
       "    <tr>\n",
       "      <th>rhonddabryant</th>\n",
       "      <td>0.563468</td>\n",
       "      <td>0.527629</td>\n",
       "      <td>33757</td>\n",
       "    </tr>\n",
       "    <tr>\n",
       "      <th>justinmadders</th>\n",
       "      <td>0.532942</td>\n",
       "      <td>0.527670</td>\n",
       "      <td>3749</td>\n",
       "    </tr>\n",
       "    <tr>\n",
       "      <th>acunninghammp</th>\n",
       "      <td>0.553546</td>\n",
       "      <td>0.527888</td>\n",
       "      <td>6910</td>\n",
       "    </tr>\n",
       "    <tr>\n",
       "      <th>kevanjonesmp</th>\n",
       "      <td>0.564348</td>\n",
       "      <td>0.527990</td>\n",
       "      <td>7001</td>\n",
       "    </tr>\n",
       "    <tr>\n",
       "      <th>petergrantmp</th>\n",
       "      <td>0.560837</td>\n",
       "      <td>0.528084</td>\n",
       "      <td>8268</td>\n",
       "    </tr>\n",
       "    <tr>\n",
       "      <th>glyndavies</th>\n",
       "      <td>0.569473</td>\n",
       "      <td>0.528268</td>\n",
       "      <td>5772</td>\n",
       "    </tr>\n",
       "    <tr>\n",
       "      <th>geraintdaviesmp</th>\n",
       "      <td>0.555178</td>\n",
       "      <td>0.528653</td>\n",
       "      <td>2356</td>\n",
       "    </tr>\n",
       "    <tr>\n",
       "      <th>frankfieldteam</th>\n",
       "      <td>0.564261</td>\n",
       "      <td>0.531077</td>\n",
       "      <td>1136</td>\n",
       "    </tr>\n",
       "    <tr>\n",
       "      <th>ianmearnsmp</th>\n",
       "      <td>0.568973</td>\n",
       "      <td>0.531906</td>\n",
       "      <td>11867</td>\n",
       "    </tr>\n",
       "    <tr>\n",
       "      <th>gareththomasmp</th>\n",
       "      <td>0.538177</td>\n",
       "      <td>0.532309</td>\n",
       "      <td>7308</td>\n",
       "    </tr>\n",
       "    <tr>\n",
       "      <th>jonathanplaid</th>\n",
       "      <td>0.590897</td>\n",
       "      <td>0.532470</td>\n",
       "      <td>11205</td>\n",
       "    </tr>\n",
       "    <tr>\n",
       "      <th>lynbrownmp</th>\n",
       "      <td>0.539211</td>\n",
       "      <td>0.532552</td>\n",
       "      <td>5955</td>\n",
       "    </tr>\n",
       "  </tbody>\n",
       "</table>\n",
       "</div>"
      ],
      "text/plain": [
       "                 sentiment_class_x  positive_prob  tweet_count\n",
       "user_name                                                     \n",
       "rogergodsiff              0.419856       0.461603          836\n",
       "billcashmp                0.419355       0.479382           93\n",
       "spellar                   0.478265       0.489714         9616\n",
       "johnmannmp                0.486601       0.497804         4963\n",
       "bwallacemp                0.504367       0.506027         1832\n",
       "paulflynnmp               0.517097       0.508335         9066\n",
       "grahamjones_mp            0.521781       0.511033         7231\n",
       "mpritcharduk              0.531851       0.514246         2339\n",
       "chrislesliemp             0.506657       0.514957         1352\n",
       "imran_hussainmp           0.546823       0.516175          598\n",
       "robertsyms                0.562798       0.519998          629\n",
       "gedk                      0.555630       0.522486        13473\n",
       "jackiedp                  0.548023       0.527485         2478\n",
       "rhonddabryant             0.563468       0.527629        33757\n",
       "justinmadders             0.532942       0.527670         3749\n",
       "acunninghammp             0.553546       0.527888         6910\n",
       "kevanjonesmp              0.564348       0.527990         7001\n",
       "petergrantmp              0.560837       0.528084         8268\n",
       "glyndavies                0.569473       0.528268         5772\n",
       "geraintdaviesmp           0.555178       0.528653         2356\n",
       "frankfieldteam            0.564261       0.531077         1136\n",
       "ianmearnsmp               0.568973       0.531906        11867\n",
       "gareththomasmp            0.538177       0.532309         7308\n",
       "jonathanplaid             0.590897       0.532470        11205\n",
       "lynbrownmp                0.539211       0.532552         5955"
      ]
     },
     "execution_count": 98,
     "metadata": {},
     "output_type": "execute_result"
    }
   ],
   "source": [
    "# Most negative tweeters\n",
    "\n",
    "grouped_merged.sort_values('positive_prob').head(25)"
   ]
  },
  {
   "cell_type": "code",
   "execution_count": 99,
   "metadata": {
    "collapsed": false
   },
   "outputs": [
    {
     "data": {
      "text/html": [
       "<div>\n",
       "<style scoped>\n",
       "    .dataframe tbody tr th:only-of-type {\n",
       "        vertical-align: middle;\n",
       "    }\n",
       "\n",
       "    .dataframe tbody tr th {\n",
       "        vertical-align: top;\n",
       "    }\n",
       "\n",
       "    .dataframe thead th {\n",
       "        text-align: right;\n",
       "    }\n",
       "</style>\n",
       "<table border=\"1\" class=\"dataframe\">\n",
       "  <thead>\n",
       "    <tr style=\"text-align: right;\">\n",
       "      <th></th>\n",
       "      <th>sentiment_class_x</th>\n",
       "      <th>positive_prob</th>\n",
       "      <th>tweet_count</th>\n",
       "    </tr>\n",
       "    <tr>\n",
       "      <th>user_name</th>\n",
       "      <th></th>\n",
       "      <th></th>\n",
       "      <th></th>\n",
       "    </tr>\n",
       "  </thead>\n",
       "  <tbody>\n",
       "    <tr>\n",
       "      <th>albertocostamp</th>\n",
       "      <td>0.925926</td>\n",
       "      <td>0.757051</td>\n",
       "      <td>1161</td>\n",
       "    </tr>\n",
       "    <tr>\n",
       "      <th>morton_wendy</th>\n",
       "      <td>0.926316</td>\n",
       "      <td>0.751810</td>\n",
       "      <td>665</td>\n",
       "    </tr>\n",
       "    <tr>\n",
       "      <th>suellafernandes</th>\n",
       "      <td>0.897410</td>\n",
       "      <td>0.748648</td>\n",
       "      <td>1004</td>\n",
       "    </tr>\n",
       "    <tr>\n",
       "      <th>rehman_chishti</th>\n",
       "      <td>0.892392</td>\n",
       "      <td>0.730674</td>\n",
       "      <td>2379</td>\n",
       "    </tr>\n",
       "    <tr>\n",
       "      <th>alexchalkchelt</th>\n",
       "      <td>0.849624</td>\n",
       "      <td>0.728514</td>\n",
       "      <td>532</td>\n",
       "    </tr>\n",
       "    <tr>\n",
       "      <th>rushanaraali</th>\n",
       "      <td>0.840368</td>\n",
       "      <td>0.723412</td>\n",
       "      <td>1848</td>\n",
       "    </tr>\n",
       "    <tr>\n",
       "      <th>maryrobinson01</th>\n",
       "      <td>0.882915</td>\n",
       "      <td>0.721683</td>\n",
       "      <td>837</td>\n",
       "    </tr>\n",
       "    <tr>\n",
       "      <th>angelacrawley30</th>\n",
       "      <td>0.867273</td>\n",
       "      <td>0.716562</td>\n",
       "      <td>3187</td>\n",
       "    </tr>\n",
       "    <tr>\n",
       "      <th>jessicamordenmp</th>\n",
       "      <td>0.850365</td>\n",
       "      <td>0.715998</td>\n",
       "      <td>1096</td>\n",
       "    </tr>\n",
       "    <tr>\n",
       "      <th>oletwinofficial</th>\n",
       "      <td>0.888000</td>\n",
       "      <td>0.711204</td>\n",
       "      <td>250</td>\n",
       "    </tr>\n",
       "    <tr>\n",
       "      <th>crewelabour</th>\n",
       "      <td>0.773438</td>\n",
       "      <td>0.709321</td>\n",
       "      <td>384</td>\n",
       "    </tr>\n",
       "    <tr>\n",
       "      <th>jwhittingdale</th>\n",
       "      <td>0.888889</td>\n",
       "      <td>0.709301</td>\n",
       "      <td>81</td>\n",
       "    </tr>\n",
       "    <tr>\n",
       "      <th>helengrantmp</th>\n",
       "      <td>0.869952</td>\n",
       "      <td>0.703582</td>\n",
       "      <td>2476</td>\n",
       "    </tr>\n",
       "    <tr>\n",
       "      <th>normanlamb</th>\n",
       "      <td>0.805044</td>\n",
       "      <td>0.702339</td>\n",
       "      <td>12649</td>\n",
       "    </tr>\n",
       "    <tr>\n",
       "      <th>davidrutley</th>\n",
       "      <td>0.869755</td>\n",
       "      <td>0.702087</td>\n",
       "      <td>1144</td>\n",
       "    </tr>\n",
       "    <tr>\n",
       "      <th>brineminister</th>\n",
       "      <td>0.863946</td>\n",
       "      <td>0.700555</td>\n",
       "      <td>147</td>\n",
       "    </tr>\n",
       "    <tr>\n",
       "      <th>emmalewellbuck</th>\n",
       "      <td>0.796201</td>\n",
       "      <td>0.698418</td>\n",
       "      <td>7370</td>\n",
       "    </tr>\n",
       "    <tr>\n",
       "      <th>alanmakmp</th>\n",
       "      <td>0.893168</td>\n",
       "      <td>0.692200</td>\n",
       "      <td>2181</td>\n",
       "    </tr>\n",
       "    <tr>\n",
       "      <th>snewtonuk</th>\n",
       "      <td>0.846442</td>\n",
       "      <td>0.690713</td>\n",
       "      <td>1068</td>\n",
       "    </tr>\n",
       "    <tr>\n",
       "      <th>nickhurduk</th>\n",
       "      <td>0.864290</td>\n",
       "      <td>0.690189</td>\n",
       "      <td>3478</td>\n",
       "    </tr>\n",
       "    <tr>\n",
       "      <th>hollylynch5</th>\n",
       "      <td>0.792857</td>\n",
       "      <td>0.688961</td>\n",
       "      <td>1540</td>\n",
       "    </tr>\n",
       "    <tr>\n",
       "      <th>nickymorgan01</th>\n",
       "      <td>0.808233</td>\n",
       "      <td>0.688557</td>\n",
       "      <td>6753</td>\n",
       "    </tr>\n",
       "    <tr>\n",
       "      <th>amberruddhr</th>\n",
       "      <td>0.845446</td>\n",
       "      <td>0.687420</td>\n",
       "      <td>2174</td>\n",
       "    </tr>\n",
       "    <tr>\n",
       "      <th>gavinwilliamson</th>\n",
       "      <td>0.849633</td>\n",
       "      <td>0.686806</td>\n",
       "      <td>818</td>\n",
       "    </tr>\n",
       "    <tr>\n",
       "      <th>metcalfe_sbet</th>\n",
       "      <td>0.833173</td>\n",
       "      <td>0.685512</td>\n",
       "      <td>1037</td>\n",
       "    </tr>\n",
       "  </tbody>\n",
       "</table>\n",
       "</div>"
      ],
      "text/plain": [
       "                 sentiment_class_x  positive_prob  tweet_count\n",
       "user_name                                                     \n",
       "albertocostamp            0.925926       0.757051         1161\n",
       "morton_wendy              0.926316       0.751810          665\n",
       "suellafernandes           0.897410       0.748648         1004\n",
       "rehman_chishti            0.892392       0.730674         2379\n",
       "alexchalkchelt            0.849624       0.728514          532\n",
       "rushanaraali              0.840368       0.723412         1848\n",
       "maryrobinson01            0.882915       0.721683          837\n",
       "angelacrawley30           0.867273       0.716562         3187\n",
       "jessicamordenmp           0.850365       0.715998         1096\n",
       "oletwinofficial           0.888000       0.711204          250\n",
       "crewelabour               0.773438       0.709321          384\n",
       "jwhittingdale             0.888889       0.709301           81\n",
       "helengrantmp              0.869952       0.703582         2476\n",
       "normanlamb                0.805044       0.702339        12649\n",
       "davidrutley               0.869755       0.702087         1144\n",
       "brineminister             0.863946       0.700555          147\n",
       "emmalewellbuck            0.796201       0.698418         7370\n",
       "alanmakmp                 0.893168       0.692200         2181\n",
       "snewtonuk                 0.846442       0.690713         1068\n",
       "nickhurduk                0.864290       0.690189         3478\n",
       "hollylynch5               0.792857       0.688961         1540\n",
       "nickymorgan01             0.808233       0.688557         6753\n",
       "amberruddhr               0.845446       0.687420         2174\n",
       "gavinwilliamson           0.849633       0.686806          818\n",
       "metcalfe_sbet             0.833173       0.685512         1037"
      ]
     },
     "execution_count": 99,
     "metadata": {},
     "output_type": "execute_result"
    }
   ],
   "source": [
    "# Most positive tweeters\n",
    "\n",
    "grouped_merged.sort_values('positive_prob', ascending=False).head(25)"
   ]
  },
  {
   "cell_type": "markdown",
   "metadata": {},
   "source": [
    "## Biggest Sentiment Spread\n",
    "\n",
    "In which days did the Labour and Conservative parties have the biggest difference in average sentiment?"
   ]
  },
  {
   "cell_type": "code",
   "execution_count": 122,
   "metadata": {
    "collapsed": true
   },
   "outputs": [],
   "source": [
    "grouped = mp_tweets[['positive_prob', 'year_month', 'party_new']].groupby(['year_month', 'party_new']).mean()"
   ]
  },
  {
   "cell_type": "code",
   "execution_count": 123,
   "metadata": {
    "collapsed": false
   },
   "outputs": [],
   "source": [
    "grouped.reset_index(inplace=True)\n",
    "grouped['year_month'] =pd.to_datetime(grouped['year_month'])"
   ]
  },
  {
   "cell_type": "code",
   "execution_count": 124,
   "metadata": {
    "collapsed": true
   },
   "outputs": [],
   "source": [
    "grouped = grouped[(grouped['year_month'] < '2017-12-01') & (grouped['year_month'] > '2010-01-01') ]\n",
    "time_data = grouped.pivot_table(index='year_month', columns='party_new')\n",
    "\n",
    "time_data.columns = time_data.columns.droplevel()"
   ]
  },
  {
   "cell_type": "code",
   "execution_count": 125,
   "metadata": {
    "collapsed": false
   },
   "outputs": [],
   "source": [
    "def labour_con_spread(row):\n",
    "    \n",
    "    labour = row['Labour']\n",
    "    con = row['Conservative']\n",
    "    \n",
    "    if pd.isna(labour) or pd.isna(con):\n",
    "        \n",
    "        return np.nan\n",
    "    \n",
    "    else:\n",
    "        \n",
    "        return np.sqrt(np.square(con - labour))"
   ]
  },
  {
   "cell_type": "code",
   "execution_count": 126,
   "metadata": {
    "collapsed": false
   },
   "outputs": [],
   "source": [
    "time_data['lab_con_diff'] = time_data.apply(labour_con_spread, axis=1)"
   ]
  },
  {
   "cell_type": "code",
   "execution_count": 128,
   "metadata": {
    "collapsed": false
   },
   "outputs": [
    {
     "data": {
      "text/html": [
       "<div>\n",
       "<style scoped>\n",
       "    .dataframe tbody tr th:only-of-type {\n",
       "        vertical-align: middle;\n",
       "    }\n",
       "\n",
       "    .dataframe tbody tr th {\n",
       "        vertical-align: top;\n",
       "    }\n",
       "\n",
       "    .dataframe thead th {\n",
       "        text-align: right;\n",
       "    }\n",
       "</style>\n",
       "<table border=\"1\" class=\"dataframe\">\n",
       "  <thead>\n",
       "    <tr style=\"text-align: right;\">\n",
       "      <th>party_new</th>\n",
       "      <th>Conservative</th>\n",
       "      <th>Democratic Unionist Party</th>\n",
       "      <th>Green</th>\n",
       "      <th>Labour</th>\n",
       "      <th>Liberal Democrat</th>\n",
       "      <th>Plaid Cymru</th>\n",
       "      <th>Scottish National Party</th>\n",
       "      <th>Sinn Fein</th>\n",
       "      <th>lab_con_diff</th>\n",
       "    </tr>\n",
       "    <tr>\n",
       "      <th>year_month</th>\n",
       "      <th></th>\n",
       "      <th></th>\n",
       "      <th></th>\n",
       "      <th></th>\n",
       "      <th></th>\n",
       "      <th></th>\n",
       "      <th></th>\n",
       "      <th></th>\n",
       "      <th></th>\n",
       "    </tr>\n",
       "  </thead>\n",
       "  <tbody>\n",
       "    <tr>\n",
       "      <th>2016-07-01</th>\n",
       "      <td>0.629284</td>\n",
       "      <td>0.582962</td>\n",
       "      <td>0.569923</td>\n",
       "      <td>0.569295</td>\n",
       "      <td>0.601446</td>\n",
       "      <td>0.531444</td>\n",
       "      <td>0.565817</td>\n",
       "      <td>0.590500</td>\n",
       "      <td>0.059989</td>\n",
       "    </tr>\n",
       "    <tr>\n",
       "      <th>2017-11-01</th>\n",
       "      <td>0.622215</td>\n",
       "      <td>0.583567</td>\n",
       "      <td>0.537723</td>\n",
       "      <td>0.566734</td>\n",
       "      <td>0.564674</td>\n",
       "      <td>0.551833</td>\n",
       "      <td>0.578190</td>\n",
       "      <td>0.626902</td>\n",
       "      <td>0.055481</td>\n",
       "    </tr>\n",
       "    <tr>\n",
       "      <th>2017-10-01</th>\n",
       "      <td>0.619130</td>\n",
       "      <td>0.575090</td>\n",
       "      <td>0.571839</td>\n",
       "      <td>0.566564</td>\n",
       "      <td>0.559005</td>\n",
       "      <td>0.544698</td>\n",
       "      <td>0.574424</td>\n",
       "      <td>0.592323</td>\n",
       "      <td>0.052565</td>\n",
       "    </tr>\n",
       "    <tr>\n",
       "      <th>2017-03-01</th>\n",
       "      <td>0.613891</td>\n",
       "      <td>0.559242</td>\n",
       "      <td>0.597033</td>\n",
       "      <td>0.567766</td>\n",
       "      <td>0.605488</td>\n",
       "      <td>0.517161</td>\n",
       "      <td>0.570616</td>\n",
       "      <td>0.596062</td>\n",
       "      <td>0.046125</td>\n",
       "    </tr>\n",
       "    <tr>\n",
       "      <th>2015-10-01</th>\n",
       "      <td>0.613350</td>\n",
       "      <td>0.610842</td>\n",
       "      <td>0.634533</td>\n",
       "      <td>0.567325</td>\n",
       "      <td>0.624936</td>\n",
       "      <td>0.514443</td>\n",
       "      <td>0.584818</td>\n",
       "      <td>0.608369</td>\n",
       "      <td>0.046025</td>\n",
       "    </tr>\n",
       "    <tr>\n",
       "      <th>2016-08-01</th>\n",
       "      <td>0.613330</td>\n",
       "      <td>0.585864</td>\n",
       "      <td>0.588044</td>\n",
       "      <td>0.569309</td>\n",
       "      <td>0.609412</td>\n",
       "      <td>0.522577</td>\n",
       "      <td>0.601093</td>\n",
       "      <td>0.622541</td>\n",
       "      <td>0.044021</td>\n",
       "    </tr>\n",
       "    <tr>\n",
       "      <th>2016-11-01</th>\n",
       "      <td>0.613350</td>\n",
       "      <td>0.572571</td>\n",
       "      <td>0.595817</td>\n",
       "      <td>0.573619</td>\n",
       "      <td>0.592887</td>\n",
       "      <td>0.522380</td>\n",
       "      <td>0.594174</td>\n",
       "      <td>0.603923</td>\n",
       "      <td>0.039730</td>\n",
       "    </tr>\n",
       "    <tr>\n",
       "      <th>2016-03-01</th>\n",
       "      <td>0.598049</td>\n",
       "      <td>0.604567</td>\n",
       "      <td>0.594266</td>\n",
       "      <td>0.559124</td>\n",
       "      <td>0.599514</td>\n",
       "      <td>0.519031</td>\n",
       "      <td>0.588423</td>\n",
       "      <td>0.589084</td>\n",
       "      <td>0.038926</td>\n",
       "    </tr>\n",
       "    <tr>\n",
       "      <th>2017-01-01</th>\n",
       "      <td>0.601579</td>\n",
       "      <td>0.547294</td>\n",
       "      <td>0.595361</td>\n",
       "      <td>0.562829</td>\n",
       "      <td>0.612133</td>\n",
       "      <td>0.522302</td>\n",
       "      <td>0.558882</td>\n",
       "      <td>0.582186</td>\n",
       "      <td>0.038750</td>\n",
       "    </tr>\n",
       "    <tr>\n",
       "      <th>2014-12-01</th>\n",
       "      <td>0.614147</td>\n",
       "      <td>0.618889</td>\n",
       "      <td>0.651589</td>\n",
       "      <td>0.576724</td>\n",
       "      <td>0.658017</td>\n",
       "      <td>0.528862</td>\n",
       "      <td>0.591576</td>\n",
       "      <td>0.613992</td>\n",
       "      <td>0.037423</td>\n",
       "    </tr>\n",
       "  </tbody>\n",
       "</table>\n",
       "</div>"
      ],
      "text/plain": [
       "party_new   Conservative  Democratic Unionist Party     Green    Labour  \\\n",
       "year_month                                                                \n",
       "2016-07-01      0.629284                   0.582962  0.569923  0.569295   \n",
       "2017-11-01      0.622215                   0.583567  0.537723  0.566734   \n",
       "2017-10-01      0.619130                   0.575090  0.571839  0.566564   \n",
       "2017-03-01      0.613891                   0.559242  0.597033  0.567766   \n",
       "2015-10-01      0.613350                   0.610842  0.634533  0.567325   \n",
       "2016-08-01      0.613330                   0.585864  0.588044  0.569309   \n",
       "2016-11-01      0.613350                   0.572571  0.595817  0.573619   \n",
       "2016-03-01      0.598049                   0.604567  0.594266  0.559124   \n",
       "2017-01-01      0.601579                   0.547294  0.595361  0.562829   \n",
       "2014-12-01      0.614147                   0.618889  0.651589  0.576724   \n",
       "\n",
       "party_new   Liberal Democrat  Plaid Cymru  Scottish National Party  Sinn Fein  \\\n",
       "year_month                                                                      \n",
       "2016-07-01          0.601446     0.531444                 0.565817   0.590500   \n",
       "2017-11-01          0.564674     0.551833                 0.578190   0.626902   \n",
       "2017-10-01          0.559005     0.544698                 0.574424   0.592323   \n",
       "2017-03-01          0.605488     0.517161                 0.570616   0.596062   \n",
       "2015-10-01          0.624936     0.514443                 0.584818   0.608369   \n",
       "2016-08-01          0.609412     0.522577                 0.601093   0.622541   \n",
       "2016-11-01          0.592887     0.522380                 0.594174   0.603923   \n",
       "2016-03-01          0.599514     0.519031                 0.588423   0.589084   \n",
       "2017-01-01          0.612133     0.522302                 0.558882   0.582186   \n",
       "2014-12-01          0.658017     0.528862                 0.591576   0.613992   \n",
       "\n",
       "party_new   lab_con_diff  \n",
       "year_month                \n",
       "2016-07-01      0.059989  \n",
       "2017-11-01      0.055481  \n",
       "2017-10-01      0.052565  \n",
       "2017-03-01      0.046125  \n",
       "2015-10-01      0.046025  \n",
       "2016-08-01      0.044021  \n",
       "2016-11-01      0.039730  \n",
       "2016-03-01      0.038926  \n",
       "2017-01-01      0.038750  \n",
       "2014-12-01      0.037423  "
      ]
     },
     "execution_count": 128,
     "metadata": {},
     "output_type": "execute_result"
    }
   ],
   "source": [
    "time_data.sort_values('lab_con_diff', ascending=False).head(10)"
   ]
  },
  {
   "cell_type": "markdown",
   "metadata": {},
   "source": [
    "None of these days really stand out for me.\n",
    "\n",
    "Conservatives seem to always be ahead in positivity tweet wise. Are there any days in which this is not the case?"
   ]
  },
  {
   "cell_type": "code",
   "execution_count": 129,
   "metadata": {
    "collapsed": false
   },
   "outputs": [
    {
     "data": {
      "text/html": [
       "<div>\n",
       "<style scoped>\n",
       "    .dataframe tbody tr th:only-of-type {\n",
       "        vertical-align: middle;\n",
       "    }\n",
       "\n",
       "    .dataframe tbody tr th {\n",
       "        vertical-align: top;\n",
       "    }\n",
       "\n",
       "    .dataframe thead th {\n",
       "        text-align: right;\n",
       "    }\n",
       "</style>\n",
       "<table border=\"1\" class=\"dataframe\">\n",
       "  <thead>\n",
       "    <tr style=\"text-align: right;\">\n",
       "      <th>party_new</th>\n",
       "      <th>Conservative</th>\n",
       "      <th>Democratic Unionist Party</th>\n",
       "      <th>Green</th>\n",
       "      <th>Labour</th>\n",
       "      <th>Liberal Democrat</th>\n",
       "      <th>Plaid Cymru</th>\n",
       "      <th>Scottish National Party</th>\n",
       "      <th>Sinn Fein</th>\n",
       "      <th>lab_con_diff</th>\n",
       "    </tr>\n",
       "    <tr>\n",
       "      <th>year_month</th>\n",
       "      <th></th>\n",
       "      <th></th>\n",
       "      <th></th>\n",
       "      <th></th>\n",
       "      <th></th>\n",
       "      <th></th>\n",
       "      <th></th>\n",
       "      <th></th>\n",
       "      <th></th>\n",
       "    </tr>\n",
       "  </thead>\n",
       "  <tbody>\n",
       "    <tr>\n",
       "      <th>2010-02-01</th>\n",
       "      <td>0.566934</td>\n",
       "      <td>0.526824</td>\n",
       "      <td>0.623725</td>\n",
       "      <td>0.575705</td>\n",
       "      <td>0.542693</td>\n",
       "      <td>0.554743</td>\n",
       "      <td>0.543565</td>\n",
       "      <td>0.580810</td>\n",
       "      <td>0.008771</td>\n",
       "    </tr>\n",
       "    <tr>\n",
       "      <th>2010-03-01</th>\n",
       "      <td>0.559875</td>\n",
       "      <td>0.578097</td>\n",
       "      <td>0.660713</td>\n",
       "      <td>0.576917</td>\n",
       "      <td>0.568489</td>\n",
       "      <td>0.535161</td>\n",
       "      <td>0.542322</td>\n",
       "      <td>0.592093</td>\n",
       "      <td>0.017042</td>\n",
       "    </tr>\n",
       "    <tr>\n",
       "      <th>2010-09-01</th>\n",
       "      <td>0.587432</td>\n",
       "      <td>0.523474</td>\n",
       "      <td>0.632129</td>\n",
       "      <td>0.587464</td>\n",
       "      <td>0.570267</td>\n",
       "      <td>0.502657</td>\n",
       "      <td>0.558056</td>\n",
       "      <td>0.561377</td>\n",
       "      <td>0.000033</td>\n",
       "    </tr>\n",
       "    <tr>\n",
       "      <th>2015-08-01</th>\n",
       "      <td>0.606248</td>\n",
       "      <td>0.640942</td>\n",
       "      <td>0.652237</td>\n",
       "      <td>0.612753</td>\n",
       "      <td>0.631143</td>\n",
       "      <td>0.536980</td>\n",
       "      <td>0.625409</td>\n",
       "      <td>0.605656</td>\n",
       "      <td>0.006505</td>\n",
       "    </tr>\n",
       "    <tr>\n",
       "      <th>2017-06-01</th>\n",
       "      <td>0.628584</td>\n",
       "      <td>0.594884</td>\n",
       "      <td>0.584314</td>\n",
       "      <td>0.640024</td>\n",
       "      <td>0.681124</td>\n",
       "      <td>0.575756</td>\n",
       "      <td>0.634127</td>\n",
       "      <td>0.635364</td>\n",
       "      <td>0.011440</td>\n",
       "    </tr>\n",
       "  </tbody>\n",
       "</table>\n",
       "</div>"
      ],
      "text/plain": [
       "party_new   Conservative  Democratic Unionist Party     Green    Labour  \\\n",
       "year_month                                                                \n",
       "2010-02-01      0.566934                   0.526824  0.623725  0.575705   \n",
       "2010-03-01      0.559875                   0.578097  0.660713  0.576917   \n",
       "2010-09-01      0.587432                   0.523474  0.632129  0.587464   \n",
       "2015-08-01      0.606248                   0.640942  0.652237  0.612753   \n",
       "2017-06-01      0.628584                   0.594884  0.584314  0.640024   \n",
       "\n",
       "party_new   Liberal Democrat  Plaid Cymru  Scottish National Party  Sinn Fein  \\\n",
       "year_month                                                                      \n",
       "2010-02-01          0.542693     0.554743                 0.543565   0.580810   \n",
       "2010-03-01          0.568489     0.535161                 0.542322   0.592093   \n",
       "2010-09-01          0.570267     0.502657                 0.558056   0.561377   \n",
       "2015-08-01          0.631143     0.536980                 0.625409   0.605656   \n",
       "2017-06-01          0.681124     0.575756                 0.634127   0.635364   \n",
       "\n",
       "party_new   lab_con_diff  \n",
       "year_month                \n",
       "2010-02-01      0.008771  \n",
       "2010-03-01      0.017042  \n",
       "2010-09-01      0.000033  \n",
       "2015-08-01      0.006505  \n",
       "2017-06-01      0.011440  "
      ]
     },
     "execution_count": 129,
     "metadata": {},
     "output_type": "execute_result"
    }
   ],
   "source": [
    "time_data[time_data['Conservative'] < time_data['Labour']]"
   ]
  },
  {
   "cell_type": "markdown",
   "metadata": {},
   "source": [
    "## Gender Differences"
   ]
  },
  {
   "cell_type": "code",
   "execution_count": 137,
   "metadata": {
    "collapsed": false
   },
   "outputs": [
    {
     "name": "stderr",
     "output_type": "stream",
     "text": [
      "/Applications/anaconda/lib/python3.5/site-packages/seaborn/categorical.py:482: FutureWarning: remove_na is deprecated and is a private function. Do not use.\n",
      "  box_data = remove_na(group_data[hue_mask])\n"
     ]
    },
    {
     "data": {
      "text/plain": [
       "(array([0, 1, 2, 3, 4, 5, 6, 7]), <a list of 8 Text xticklabel objects>)"
      ]
     },
     "execution_count": 137,
     "metadata": {},
     "output_type": "execute_result"
    },
    {
     "data": {
      "image/png": "[encoded data removed]",
      "text/plain": [
       "<matplotlib.figure.Figure at 0x17b95ee48>"
      ]
     },
     "metadata": {},
     "output_type": "display_data"
    }
   ],
   "source": [
    "fix, ax = plt.subplots(figsize=(10,5))\n",
    "sns.boxplot(x='party_new', y='positive_prob', data=mp_tweets, hue='gender')\n",
    "plt.xticks(rotation='vertical')"
   ]
  },
  {
   "cell_type": "code",
   "execution_count": 140,
   "metadata": {
    "collapsed": false
   },
   "outputs": [
    {
     "name": "stderr",
     "output_type": "stream",
     "text": [
      "/Applications/anaconda/lib/python3.5/site-packages/seaborn/categorical.py:1428: FutureWarning: remove_na is deprecated and is a private function. Do not use.\n",
      "  stat_data = remove_na(group_data)\n"
     ]
    },
    {
     "data": {
      "text/plain": [
       "(0.0, 1.0)"
      ]
     },
     "execution_count": 140,
     "metadata": {},
     "output_type": "execute_result"
    },
    {
     "data": {
      "image/png": "[encoded data removed]",
      "text/plain": [
       "<matplotlib.figure.Figure at 0x1794f0390>"
      ]
     },
     "metadata": {},
     "output_type": "display_data"
    }
   ],
   "source": [
    "fix, ax = plt.subplots(figsize=(10,5))\n",
    "sns.barplot(x='gender', y='positive_prob', data=mp_tweets)\n",
    "plt.xticks(rotation='vertical')\n",
    "plt.ylim(0.0, 1.0)"
   ]
  },
  {
   "cell_type": "code",
   "execution_count": null,
   "metadata": {
    "collapsed": true
   },
   "outputs": [],
   "source": []
  }
 ],
 "metadata": {
  "anaconda-cloud": {},
  "kernelspec": {
   "display_name": "Python [conda root]",
   "language": "python",
   "name": "conda-root-py"
  },
  "language_info": {
   "codemirror_mode": {
    "name": "ipython",
    "version": 3
   },
   "file_extension": ".py",
   "mimetype": "text/x-python",
   "name": "python",
   "nbconvert_exporter": "python",
   "pygments_lexer": "ipython3",
   "version": "3.5.2"
  }
 },
 "nbformat": 4,
 "nbformat_minor": 2
}
