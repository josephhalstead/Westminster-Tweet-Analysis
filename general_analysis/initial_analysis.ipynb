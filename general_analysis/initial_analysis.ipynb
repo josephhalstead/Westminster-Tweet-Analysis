{
 "cells": [
  {
   "cell_type": "markdown",
   "metadata": {},
   "source": [
    "# Westminster Tweet Database Initial Analysis\n",
    "\n",
    "* A quick investgation of the database of MP's tweets. This has been exported as a CSV.\n",
    "\n",
    "* Note that we are only looking at the actual tweets and not the followings or profile data at this point.\n",
    "\n",
    "* Data collected approximately 23-29th December 2017. \n",
    "\n",
    "* Save to 'process"
   ]
  },
  {
   "cell_type": "code",
   "execution_count": 1,
   "metadata": {
    "collapsed": true
   },
   "outputs": [],
   "source": [
    "import pandas as pd\n",
    "%matplotlib inline"
   ]
  },
  {
   "cell_type": "code",
   "execution_count": 2,
   "metadata": {
    "collapsed": true
   },
   "outputs": [],
   "source": [
    "df = pd.read_csv('tweets.csv')"
   ]
  },
  {
   "cell_type": "code",
   "execution_count": 3,
   "metadata": {
    "collapsed": false
   },
   "outputs": [
    {
     "data": {
      "text/html": [
       "<div>\n",
       "<style>\n",
       "    .dataframe thead tr:only-child th {\n",
       "        text-align: right;\n",
       "    }\n",
       "\n",
       "    .dataframe thead th {\n",
       "        text-align: left;\n",
       "    }\n",
       "\n",
       "    .dataframe tbody tr th {\n",
       "        vertical-align: top;\n",
       "    }\n",
       "</style>\n",
       "<table border=\"1\" class=\"dataframe\">\n",
       "  <thead>\n",
       "    <tr style=\"text-align: right;\">\n",
       "      <th></th>\n",
       "      <th>user_name</th>\n",
       "      <th>constituency</th>\n",
       "      <th>party</th>\n",
       "      <th>gender</th>\n",
       "      <th>tweet_id</th>\n",
       "      <th>permalink</th>\n",
       "      <th>text</th>\n",
       "      <th>date</th>\n",
       "      <th>retweets</th>\n",
       "      <th>favourites</th>\n",
       "      <th>geo</th>\n",
       "      <th>replies</th>\n",
       "    </tr>\n",
       "  </thead>\n",
       "  <tbody>\n",
       "    <tr>\n",
       "      <th>0</th>\n",
       "      <td>skinnock</td>\n",
       "      <td>Aberavon</td>\n",
       "      <td>Labour</td>\n",
       "      <td>Male</td>\n",
       "      <td>947017416047058944</td>\n",
       "      <td>https://twitter.com/SKinnock/status/9470174160...</td>\n",
       "      <td>Devastating resignation letter from Andrew Ado...</td>\n",
       "      <td>2017-12-30 08:12:01</td>\n",
       "      <td>17</td>\n",
       "      <td>43</td>\n",
       "      <td>NaN</td>\n",
       "      <td>11</td>\n",
       "    </tr>\n",
       "    <tr>\n",
       "      <th>1</th>\n",
       "      <td>skinnock</td>\n",
       "      <td>Aberavon</td>\n",
       "      <td>Labour</td>\n",
       "      <td>Male</td>\n",
       "      <td>944285195372548097</td>\n",
       "      <td>https://twitter.com/SKinnock/status/9442851953...</td>\n",
       "      <td>The gov need to act to allow more flexibility ...</td>\n",
       "      <td>2017-12-22 19:15:09</td>\n",
       "      <td>2</td>\n",
       "      <td>5</td>\n",
       "      <td>NaN</td>\n",
       "      <td>2</td>\n",
       "    </tr>\n",
       "    <tr>\n",
       "      <th>2</th>\n",
       "      <td>skinnock</td>\n",
       "      <td>Aberavon</td>\n",
       "      <td>Labour</td>\n",
       "      <td>Male</td>\n",
       "      <td>943841995390423040</td>\n",
       "      <td>https://twitter.com/SKinnock/status/9438419953...</td>\n",
       "      <td>Here are the fabled sector analyses. Damp squi...</td>\n",
       "      <td>2017-12-21 13:54:02</td>\n",
       "      <td>21</td>\n",
       "      <td>29</td>\n",
       "      <td>NaN</td>\n",
       "      <td>8</td>\n",
       "    </tr>\n",
       "    <tr>\n",
       "      <th>3</th>\n",
       "      <td>skinnock</td>\n",
       "      <td>Aberavon</td>\n",
       "      <td>Labour</td>\n",
       "      <td>Male</td>\n",
       "      <td>943595206225559552</td>\n",
       "      <td>https://twitter.com/SKinnock/status/9435952062...</td>\n",
       "      <td>Fallon, Patel and now Green. Three strikes and...</td>\n",
       "      <td>2017-12-20 21:33:22</td>\n",
       "      <td>7</td>\n",
       "      <td>31</td>\n",
       "      <td>NaN</td>\n",
       "      <td>5</td>\n",
       "    </tr>\n",
       "    <tr>\n",
       "      <th>4</th>\n",
       "      <td>skinnock</td>\n",
       "      <td>Aberavon</td>\n",
       "      <td>Labour</td>\n",
       "      <td>Male</td>\n",
       "      <td>943552279189258245</td>\n",
       "      <td>https://twitter.com/SKinnock/status/9435522791...</td>\n",
       "      <td>Waiting to hear from @DavidGauke re my concern...</td>\n",
       "      <td>2017-12-20 18:42:48</td>\n",
       "      <td>3</td>\n",
       "      <td>1</td>\n",
       "      <td>NaN</td>\n",
       "      <td>1</td>\n",
       "    </tr>\n",
       "  </tbody>\n",
       "</table>\n",
       "</div>"
      ],
      "text/plain": [
       "  user_name constituency   party gender            tweet_id  \\\n",
       "0  skinnock     Aberavon  Labour   Male  947017416047058944   \n",
       "1  skinnock     Aberavon  Labour   Male  944285195372548097   \n",
       "2  skinnock     Aberavon  Labour   Male  943841995390423040   \n",
       "3  skinnock     Aberavon  Labour   Male  943595206225559552   \n",
       "4  skinnock     Aberavon  Labour   Male  943552279189258245   \n",
       "\n",
       "                                           permalink  \\\n",
       "0  https://twitter.com/SKinnock/status/9470174160...   \n",
       "1  https://twitter.com/SKinnock/status/9442851953...   \n",
       "2  https://twitter.com/SKinnock/status/9438419953...   \n",
       "3  https://twitter.com/SKinnock/status/9435952062...   \n",
       "4  https://twitter.com/SKinnock/status/9435522791...   \n",
       "\n",
       "                                                text                 date  \\\n",
       "0  Devastating resignation letter from Andrew Ado...  2017-12-30 08:12:01   \n",
       "1  The gov need to act to allow more flexibility ...  2017-12-22 19:15:09   \n",
       "2  Here are the fabled sector analyses. Damp squi...  2017-12-21 13:54:02   \n",
       "3  Fallon, Patel and now Green. Three strikes and...  2017-12-20 21:33:22   \n",
       "4  Waiting to hear from @DavidGauke re my concern...  2017-12-20 18:42:48   \n",
       "\n",
       "   retweets  favourites  geo  replies  \n",
       "0        17          43  NaN       11  \n",
       "1         2           5  NaN        2  \n",
       "2        21          29  NaN        8  \n",
       "3         7          31  NaN        5  \n",
       "4         3           1  NaN        1  "
      ]
     },
     "execution_count": 3,
     "metadata": {},
     "output_type": "execute_result"
    }
   ],
   "source": [
    "df.head()"
   ]
  },
  {
   "cell_type": "markdown",
   "metadata": {},
   "source": [
    "## Inital Data Preprocessing\n",
    "\n",
    "As well as having a quick peak at the data there are a few preprocessing tasks that need to be completed:\n",
    "\n",
    "* The Twitter search API that we used to collect the tweets occasionally includes retweets as well as tweets. These need to be removed.\n",
    "\n",
    "* Need to check if there are any MPs that did not tweet anything or have only posted a few tweets. It is dossible something went wrong whilst collecting their tweets.\n",
    "\n",
    "* We can drop the geo column as these are all null.\n",
    "\n",
    "* Combine Labour and Labour and Co-operative parties"
   ]
  },
  {
   "cell_type": "markdown",
   "metadata": {},
   "source": [
    "### Initial Look"
   ]
  },
  {
   "cell_type": "code",
   "execution_count": 4,
   "metadata": {
    "collapsed": false
   },
   "outputs": [
    {
     "data": {
      "text/html": [
       "<div>\n",
       "<style>\n",
       "    .dataframe thead tr:only-child th {\n",
       "        text-align: right;\n",
       "    }\n",
       "\n",
       "    .dataframe thead th {\n",
       "        text-align: left;\n",
       "    }\n",
       "\n",
       "    .dataframe tbody tr th {\n",
       "        vertical-align: top;\n",
       "    }\n",
       "</style>\n",
       "<table border=\"1\" class=\"dataframe\">\n",
       "  <thead>\n",
       "    <tr style=\"text-align: right;\">\n",
       "      <th></th>\n",
       "      <th>tweet_id</th>\n",
       "      <th>retweets</th>\n",
       "      <th>favourites</th>\n",
       "      <th>geo</th>\n",
       "      <th>replies</th>\n",
       "    </tr>\n",
       "  </thead>\n",
       "  <tbody>\n",
       "    <tr>\n",
       "      <th>count</th>\n",
       "      <td>2.718145e+06</td>\n",
       "      <td>2.718145e+06</td>\n",
       "      <td>2.718145e+06</td>\n",
       "      <td>0.0</td>\n",
       "      <td>2.718145e+06</td>\n",
       "    </tr>\n",
       "    <tr>\n",
       "      <th>mean</th>\n",
       "      <td>5.057390e+17</td>\n",
       "      <td>1.033543e+01</td>\n",
       "      <td>1.462614e+01</td>\n",
       "      <td>NaN</td>\n",
       "      <td>2.556086e+00</td>\n",
       "    </tr>\n",
       "    <tr>\n",
       "      <th>std</th>\n",
       "      <td>2.725769e+17</td>\n",
       "      <td>1.601534e+02</td>\n",
       "      <td>3.411777e+02</td>\n",
       "      <td>NaN</td>\n",
       "      <td>2.719414e+01</td>\n",
       "    </tr>\n",
       "    <tr>\n",
       "      <th>min</th>\n",
       "      <td>4.797807e+08</td>\n",
       "      <td>0.000000e+00</td>\n",
       "      <td>0.000000e+00</td>\n",
       "      <td>NaN</td>\n",
       "      <td>0.000000e+00</td>\n",
       "    </tr>\n",
       "    <tr>\n",
       "      <th>25%</th>\n",
       "      <td>2.937094e+17</td>\n",
       "      <td>0.000000e+00</td>\n",
       "      <td>0.000000e+00</td>\n",
       "      <td>NaN</td>\n",
       "      <td>0.000000e+00</td>\n",
       "    </tr>\n",
       "    <tr>\n",
       "      <th>50%</th>\n",
       "      <td>5.315462e+17</td>\n",
       "      <td>0.000000e+00</td>\n",
       "      <td>0.000000e+00</td>\n",
       "      <td>NaN</td>\n",
       "      <td>0.000000e+00</td>\n",
       "    </tr>\n",
       "    <tr>\n",
       "      <th>75%</th>\n",
       "      <td>7.395344e+17</td>\n",
       "      <td>3.000000e+00</td>\n",
       "      <td>3.000000e+00</td>\n",
       "      <td>NaN</td>\n",
       "      <td>1.000000e+00</td>\n",
       "    </tr>\n",
       "    <tr>\n",
       "      <th>max</th>\n",
       "      <td>9.477393e+17</td>\n",
       "      <td>6.240500e+04</td>\n",
       "      <td>1.580040e+05</td>\n",
       "      <td>NaN</td>\n",
       "      <td>1.478400e+04</td>\n",
       "    </tr>\n",
       "  </tbody>\n",
       "</table>\n",
       "</div>"
      ],
      "text/plain": [
       "           tweet_id      retweets    favourites  geo       replies\n",
       "count  2.718145e+06  2.718145e+06  2.718145e+06  0.0  2.718145e+06\n",
       "mean   5.057390e+17  1.033543e+01  1.462614e+01  NaN  2.556086e+00\n",
       "std    2.725769e+17  1.601534e+02  3.411777e+02  NaN  2.719414e+01\n",
       "min    4.797807e+08  0.000000e+00  0.000000e+00  NaN  0.000000e+00\n",
       "25%    2.937094e+17  0.000000e+00  0.000000e+00  NaN  0.000000e+00\n",
       "50%    5.315462e+17  0.000000e+00  0.000000e+00  NaN  0.000000e+00\n",
       "75%    7.395344e+17  3.000000e+00  3.000000e+00  NaN  1.000000e+00\n",
       "max    9.477393e+17  6.240500e+04  1.580040e+05  NaN  1.478400e+04"
      ]
     },
     "execution_count": 4,
     "metadata": {},
     "output_type": "execute_result"
    }
   ],
   "source": [
    "# First let's have a look at the data\n",
    "\n",
    "df.describe()"
   ]
  },
  {
   "cell_type": "code",
   "execution_count": 5,
   "metadata": {
    "collapsed": false
   },
   "outputs": [
    {
     "data": {
      "text/plain": [
       "user_name       2718145\n",
       "constituency    2718145\n",
       "party           2718145\n",
       "gender          2718145\n",
       "tweet_id        2718145\n",
       "permalink       2718145\n",
       "text            2716935\n",
       "date            2718145\n",
       "retweets        2718145\n",
       "favourites      2718145\n",
       "geo                   0\n",
       "replies         2718145\n",
       "dtype: int64"
      ]
     },
     "execution_count": 5,
     "metadata": {},
     "output_type": "execute_result"
    }
   ],
   "source": [
    "# How many tweets do we have?\n",
    "\n",
    "df.count()"
   ]
  },
  {
   "cell_type": "code",
   "execution_count": 6,
   "metadata": {
    "collapsed": false
   },
   "outputs": [
    {
     "data": {
      "text/plain": [
       "user_name             0\n",
       "constituency          0\n",
       "party                 0\n",
       "gender                0\n",
       "tweet_id              0\n",
       "permalink             0\n",
       "text               1210\n",
       "date                  0\n",
       "retweets              0\n",
       "favourites            0\n",
       "geo             2718145\n",
       "replies               0\n",
       "dtype: int64"
      ]
     },
     "execution_count": 6,
     "metadata": {},
     "output_type": "execute_result"
    }
   ],
   "source": [
    "#Have we got much null data? Looks like all geo values are null so we can get rid of that column.\n",
    "\n",
    "df.isnull().sum()"
   ]
  },
  {
   "cell_type": "markdown",
   "metadata": {},
   "source": [
    "### Remove retweets\n",
    "\n",
    "* We can do this by looking at the permalink column. If the user name is not in the permalink field then it must be a retweet. Although could be a retweet of themselves, but it is likely that this will be only a small number of the Tweets collected.\n",
    "    "
   ]
  },
  {
   "cell_type": "code",
   "execution_count": 7,
   "metadata": {
    "collapsed": true
   },
   "outputs": [],
   "source": [
    "def is_retweet(row):\n",
    "    \"\"\"\n",
    "    Look at the permalink\n",
    "    If the user name is in this link then it is not a retweet.\n",
    "\n",
    "    \"\"\"\n",
    "    \n",
    "    permalink = row['permalink'].lower()\n",
    "    \n",
    "    username = row['user_name'].lower()\n",
    "    \n",
    "    if username in permalink:\n",
    "        \n",
    "        return False\n",
    "    \n",
    "    else:\n",
    "        \n",
    "        return True"
   ]
  },
  {
   "cell_type": "code",
   "execution_count": 8,
   "metadata": {
    "collapsed": true
   },
   "outputs": [],
   "source": [
    "#Apply is_retweet function\n",
    "\n",
    "df['is_retweet'] = df[['user_name', 'permalink']].apply(is_retweet, axis=1)"
   ]
  },
  {
   "cell_type": "code",
   "execution_count": 9,
   "metadata": {
    "collapsed": false
   },
   "outputs": [
    {
     "data": {
      "text/plain": [
       "142"
      ]
     },
     "execution_count": 9,
     "metadata": {},
     "output_type": "execute_result"
    }
   ],
   "source": [
    "# How many are there?\n",
    "\n",
    "df['tweet_id'][df['is_retweet']==True].count()"
   ]
  },
  {
   "cell_type": "code",
   "execution_count": 10,
   "metadata": {
    "collapsed": true
   },
   "outputs": [],
   "source": [
    "# Remove them\n",
    "\n",
    "df = df[df['is_retweet']==False]"
   ]
  },
  {
   "cell_type": "markdown",
   "metadata": {},
   "source": [
    "### Tweet Collection Errors\n",
    "\n",
    "* Rank the MP's by number of tweets. Then look at the bottom and see if we have any MPs with either none or very few tweets. This may indicate something went wrong during the Westminster-Tweet-Database build process.\n",
    "\n",
    "\n",
    "* It is possible we have the wrong or old accounts for some MPs. Alternatively, during the creation of the database the merging of the 2017 election results and the twitter account CSV may have gone wrong. I should check this manually at some point, but for now we are ok.\n",
    "\n",
    "\n",
    "* Some MPs they seem to have made a substantial number of tweets, but these do not show up when using the twitter search functionality. For example drlisacameronmp only has 35 tweets, but a browse through her timeline shows that she has made many more. Hopefully this will not bias the data too much."
   ]
  },
  {
   "cell_type": "code",
   "execution_count": 11,
   "metadata": {
    "collapsed": true
   },
   "outputs": [],
   "source": [
    "grouped = df[['tweet_id', 'user_name']].groupby(by='user_name')"
   ]
  },
  {
   "cell_type": "code",
   "execution_count": 12,
   "metadata": {
    "collapsed": false
   },
   "outputs": [
    {
     "data": {
      "text/html": [
       "<div>\n",
       "<style>\n",
       "    .dataframe thead tr:only-child th {\n",
       "        text-align: right;\n",
       "    }\n",
       "\n",
       "    .dataframe thead th {\n",
       "        text-align: left;\n",
       "    }\n",
       "\n",
       "    .dataframe tbody tr th {\n",
       "        vertical-align: top;\n",
       "    }\n",
       "</style>\n",
       "<table border=\"1\" class=\"dataframe\">\n",
       "  <thead>\n",
       "    <tr style=\"text-align: right;\">\n",
       "      <th></th>\n",
       "      <th>tweet_id</th>\n",
       "    </tr>\n",
       "    <tr>\n",
       "      <th>user_name</th>\n",
       "      <th></th>\n",
       "    </tr>\n",
       "  </thead>\n",
       "  <tbody>\n",
       "    <tr>\n",
       "      <th>jonathanlord</th>\n",
       "      <td>1</td>\n",
       "    </tr>\n",
       "    <tr>\n",
       "      <th>jamiehwstone</th>\n",
       "      <td>2</td>\n",
       "    </tr>\n",
       "    <tr>\n",
       "      <th>adamhollowaymp</th>\n",
       "      <td>4</td>\n",
       "    </tr>\n",
       "    <tr>\n",
       "      <th>johnstevensonmp</th>\n",
       "      <td>5</td>\n",
       "    </tr>\n",
       "    <tr>\n",
       "      <th>amcarmichaelmp</th>\n",
       "      <td>28</td>\n",
       "    </tr>\n",
       "    <tr>\n",
       "      <th>adrianbaileymp</th>\n",
       "      <td>30</td>\n",
       "    </tr>\n",
       "    <tr>\n",
       "      <th>drlisacameronmp</th>\n",
       "      <td>35</td>\n",
       "    </tr>\n",
       "    <tr>\n",
       "      <th>electnigel</th>\n",
       "      <td>43</td>\n",
       "    </tr>\n",
       "    <tr>\n",
       "      <th>johnmcnallymp</th>\n",
       "      <td>47</td>\n",
       "    </tr>\n",
       "    <tr>\n",
       "      <th>damienmooremp</th>\n",
       "      <td>50</td>\n",
       "    </tr>\n",
       "    <tr>\n",
       "      <th>colin_j_clark</th>\n",
       "      <td>54</td>\n",
       "    </tr>\n",
       "    <tr>\n",
       "      <th>jacob_rees_mogg</th>\n",
       "      <td>72</td>\n",
       "    </tr>\n",
       "    <tr>\n",
       "      <th>jwhittingdale</th>\n",
       "      <td>83</td>\n",
       "    </tr>\n",
       "    <tr>\n",
       "      <th>david_duguid</th>\n",
       "      <td>88</td>\n",
       "    </tr>\n",
       "    <tr>\n",
       "      <th>billcashmp</th>\n",
       "      <td>93</td>\n",
       "    </tr>\n",
       "  </tbody>\n",
       "</table>\n",
       "</div>"
      ],
      "text/plain": [
       "                 tweet_id\n",
       "user_name                \n",
       "jonathanlord            1\n",
       "jamiehwstone            2\n",
       "adamhollowaymp          4\n",
       "johnstevensonmp         5\n",
       "amcarmichaelmp         28\n",
       "adrianbaileymp         30\n",
       "drlisacameronmp        35\n",
       "electnigel             43\n",
       "johnmcnallymp          47\n",
       "damienmooremp          50\n",
       "colin_j_clark          54\n",
       "jacob_rees_mogg        72\n",
       "jwhittingdale          83\n",
       "david_duguid           88\n",
       "billcashmp             93"
      ]
     },
     "execution_count": 12,
     "metadata": {},
     "output_type": "execute_result"
    }
   ],
   "source": [
    "# Looks like we have a small number of MPs who have made very few tweets.\n",
    "# Most of these seem to have actually made very few tweets although there are some exceptions e.g. drlisacameronmp\n",
    "\n",
    "grouped.count().sort_values('tweet_id').head(15)"
   ]
  },
  {
   "cell_type": "markdown",
   "metadata": {},
   "source": [
    "### Drop Geo Column"
   ]
  },
  {
   "cell_type": "code",
   "execution_count": 13,
   "metadata": {
    "collapsed": true
   },
   "outputs": [],
   "source": [
    "df.drop('geo', inplace=True, axis=1)\n",
    "df.drop('is_retweet', inplace=True, axis=1)"
   ]
  },
  {
   "cell_type": "markdown",
   "metadata": {},
   "source": [
    "### Create new merged column for Labour and Labour and Co-operative\n",
    "\n",
    "* These parties are kind of the same. Long history. Create a merged party column to take this into account"
   ]
  },
  {
   "cell_type": "code",
   "execution_count": 14,
   "metadata": {
    "collapsed": false
   },
   "outputs": [
    {
     "data": {
      "text/plain": [
       "array(['Labour', 'Conservative', 'Scottish National Party', 'Plaid Cymru',\n",
       "       'Labour and Co-operative', 'Liberal Democrat',\n",
       "       'Democratic Unionist Party', 'Sinn Fein', 'Green'], dtype=object)"
      ]
     },
     "execution_count": 14,
     "metadata": {},
     "output_type": "execute_result"
    }
   ],
   "source": [
    "df['party'].unique()"
   ]
  },
  {
   "cell_type": "code",
   "execution_count": 15,
   "metadata": {
    "collapsed": true
   },
   "outputs": [],
   "source": [
    "def merge_labour(row):\n",
    "    \n",
    "    if row['party'] == 'Labour and Co-operative':\n",
    "        \n",
    "        party = 'Labour'\n",
    "        \n",
    "    else:\n",
    "        \n",
    "        party = row['party']\n",
    "        \n",
    "    return party"
   ]
  },
  {
   "cell_type": "code",
   "execution_count": 16,
   "metadata": {
    "collapsed": true
   },
   "outputs": [],
   "source": [
    "df['party_new'] = df[['party']].apply(merge_labour, axis=1)"
   ]
  },
  {
   "cell_type": "code",
   "execution_count": 17,
   "metadata": {
    "collapsed": false
   },
   "outputs": [
    {
     "data": {
      "text/html": [
       "<div>\n",
       "<style>\n",
       "    .dataframe thead tr:only-child th {\n",
       "        text-align: right;\n",
       "    }\n",
       "\n",
       "    .dataframe thead th {\n",
       "        text-align: left;\n",
       "    }\n",
       "\n",
       "    .dataframe tbody tr th {\n",
       "        vertical-align: top;\n",
       "    }\n",
       "</style>\n",
       "<table border=\"1\" class=\"dataframe\">\n",
       "  <thead>\n",
       "    <tr style=\"text-align: right;\">\n",
       "      <th></th>\n",
       "      <th>user_name</th>\n",
       "      <th>constituency</th>\n",
       "      <th>party</th>\n",
       "      <th>gender</th>\n",
       "      <th>tweet_id</th>\n",
       "      <th>permalink</th>\n",
       "      <th>text</th>\n",
       "      <th>date</th>\n",
       "      <th>retweets</th>\n",
       "      <th>favourites</th>\n",
       "      <th>replies</th>\n",
       "      <th>party_new</th>\n",
       "    </tr>\n",
       "  </thead>\n",
       "  <tbody>\n",
       "    <tr>\n",
       "      <th>0</th>\n",
       "      <td>skinnock</td>\n",
       "      <td>Aberavon</td>\n",
       "      <td>Labour</td>\n",
       "      <td>Male</td>\n",
       "      <td>947017416047058944</td>\n",
       "      <td>https://twitter.com/SKinnock/status/9470174160...</td>\n",
       "      <td>Devastating resignation letter from Andrew Ado...</td>\n",
       "      <td>2017-12-30 08:12:01</td>\n",
       "      <td>17</td>\n",
       "      <td>43</td>\n",
       "      <td>11</td>\n",
       "      <td>Labour</td>\n",
       "    </tr>\n",
       "    <tr>\n",
       "      <th>1</th>\n",
       "      <td>skinnock</td>\n",
       "      <td>Aberavon</td>\n",
       "      <td>Labour</td>\n",
       "      <td>Male</td>\n",
       "      <td>944285195372548097</td>\n",
       "      <td>https://twitter.com/SKinnock/status/9442851953...</td>\n",
       "      <td>The gov need to act to allow more flexibility ...</td>\n",
       "      <td>2017-12-22 19:15:09</td>\n",
       "      <td>2</td>\n",
       "      <td>5</td>\n",
       "      <td>2</td>\n",
       "      <td>Labour</td>\n",
       "    </tr>\n",
       "    <tr>\n",
       "      <th>2</th>\n",
       "      <td>skinnock</td>\n",
       "      <td>Aberavon</td>\n",
       "      <td>Labour</td>\n",
       "      <td>Male</td>\n",
       "      <td>943841995390423040</td>\n",
       "      <td>https://twitter.com/SKinnock/status/9438419953...</td>\n",
       "      <td>Here are the fabled sector analyses. Damp squi...</td>\n",
       "      <td>2017-12-21 13:54:02</td>\n",
       "      <td>21</td>\n",
       "      <td>29</td>\n",
       "      <td>8</td>\n",
       "      <td>Labour</td>\n",
       "    </tr>\n",
       "    <tr>\n",
       "      <th>3</th>\n",
       "      <td>skinnock</td>\n",
       "      <td>Aberavon</td>\n",
       "      <td>Labour</td>\n",
       "      <td>Male</td>\n",
       "      <td>943595206225559552</td>\n",
       "      <td>https://twitter.com/SKinnock/status/9435952062...</td>\n",
       "      <td>Fallon, Patel and now Green. Three strikes and...</td>\n",
       "      <td>2017-12-20 21:33:22</td>\n",
       "      <td>7</td>\n",
       "      <td>31</td>\n",
       "      <td>5</td>\n",
       "      <td>Labour</td>\n",
       "    </tr>\n",
       "    <tr>\n",
       "      <th>4</th>\n",
       "      <td>skinnock</td>\n",
       "      <td>Aberavon</td>\n",
       "      <td>Labour</td>\n",
       "      <td>Male</td>\n",
       "      <td>943552279189258245</td>\n",
       "      <td>https://twitter.com/SKinnock/status/9435522791...</td>\n",
       "      <td>Waiting to hear from @DavidGauke re my concern...</td>\n",
       "      <td>2017-12-20 18:42:48</td>\n",
       "      <td>3</td>\n",
       "      <td>1</td>\n",
       "      <td>1</td>\n",
       "      <td>Labour</td>\n",
       "    </tr>\n",
       "  </tbody>\n",
       "</table>\n",
       "</div>"
      ],
      "text/plain": [
       "  user_name constituency   party gender            tweet_id  \\\n",
       "0  skinnock     Aberavon  Labour   Male  947017416047058944   \n",
       "1  skinnock     Aberavon  Labour   Male  944285195372548097   \n",
       "2  skinnock     Aberavon  Labour   Male  943841995390423040   \n",
       "3  skinnock     Aberavon  Labour   Male  943595206225559552   \n",
       "4  skinnock     Aberavon  Labour   Male  943552279189258245   \n",
       "\n",
       "                                           permalink  \\\n",
       "0  https://twitter.com/SKinnock/status/9470174160...   \n",
       "1  https://twitter.com/SKinnock/status/9442851953...   \n",
       "2  https://twitter.com/SKinnock/status/9438419953...   \n",
       "3  https://twitter.com/SKinnock/status/9435952062...   \n",
       "4  https://twitter.com/SKinnock/status/9435522791...   \n",
       "\n",
       "                                                text                 date  \\\n",
       "0  Devastating resignation letter from Andrew Ado...  2017-12-30 08:12:01   \n",
       "1  The gov need to act to allow more flexibility ...  2017-12-22 19:15:09   \n",
       "2  Here are the fabled sector analyses. Damp squi...  2017-12-21 13:54:02   \n",
       "3  Fallon, Patel and now Green. Three strikes and...  2017-12-20 21:33:22   \n",
       "4  Waiting to hear from @DavidGauke re my concern...  2017-12-20 18:42:48   \n",
       "\n",
       "   retweets  favourites  replies party_new  \n",
       "0        17          43       11    Labour  \n",
       "1         2           5        2    Labour  \n",
       "2        21          29        8    Labour  \n",
       "3         7          31        5    Labour  \n",
       "4         3           1        1    Labour  "
      ]
     },
     "execution_count": 17,
     "metadata": {},
     "output_type": "execute_result"
    }
   ],
   "source": [
    "df.head()"
   ]
  },
  {
   "cell_type": "code",
   "execution_count": 18,
   "metadata": {
    "collapsed": true
   },
   "outputs": [],
   "source": [
    "df.to_csv('processed_tweets.csv')"
   ]
  }
 ],
 "metadata": {
  "anaconda-cloud": {},
  "kernelspec": {
   "display_name": "Python [conda env:py27]",
   "language": "python",
   "name": "conda-env-py27-py"
  },
  "language_info": {
   "codemirror_mode": {
    "name": "ipython",
    "version": 2
   },
   "file_extension": ".py",
   "mimetype": "text/x-python",
   "name": "python",
   "nbconvert_exporter": "python",
   "pygments_lexer": "ipython2",
   "version": "2.7.13"
  }
 },
 "nbformat": 4,
 "nbformat_minor": 2
}
